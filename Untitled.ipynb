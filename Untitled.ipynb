{
 "cells": [
  {
   "cell_type": "code",
   "execution_count": 98,
   "metadata": {
    "collapsed": true
   },
   "outputs": [],
   "source": [
    "%matplotlib inline\n",
    "\n",
    "import pandas as pd\n",
    "import numpy as np\n",
    "import matplotlib.pyplot as plt"
   ]
  },
  {
   "cell_type": "markdown",
   "metadata": {},
   "source": [
    "# Substantive Questions\n",
    "** what conclusions can be drawn from the data that would change current behavior**\n",
    "## 1. Sanctuary Status\n",
    "** is being a sanctuary county a meaningful designation in terms of educational outcomes?\n",
    "##"
   ]
  },
  {
   "cell_type": "code",
   "execution_count": 99,
   "metadata": {
    "collapsed": false
   },
   "outputs": [
    {
     "data": {
      "text/html": [
       "<div>\n",
       "<table border=\"1\" class=\"dataframe\">\n",
       "  <thead>\n",
       "    <tr style=\"text-align: right;\">\n",
       "      <th></th>\n",
       "      <th>Unnamed: 0</th>\n",
       "      <th>Mean Scale Score</th>\n",
       "      <th>County Name</th>\n",
       "      <th>School Code</th>\n",
       "      <th>District Code</th>\n",
       "      <th>Zip Code</th>\n",
       "      <th>District Name</th>\n",
       "      <th>Total_Students</th>\n",
       "      <th>Per_Student_Spending</th>\n",
       "      <th>Median</th>\n",
       "      <th>Mean</th>\n",
       "      <th>Pop</th>\n",
       "      <th>Enrolled</th>\n",
       "      <th>Utilized</th>\n",
       "      <th>Percent_Eligible</th>\n",
       "      <th>Percent_Utilized</th>\n",
       "      <th>Sanctuary</th>\n",
       "    </tr>\n",
       "  </thead>\n",
       "  <tbody>\n",
       "    <tr>\n",
       "      <th>0</th>\n",
       "      <td>0</td>\n",
       "      <td>2497.525</td>\n",
       "      <td>Madera</td>\n",
       "      <td>100016</td>\n",
       "      <td>65243</td>\n",
       "      <td>93638</td>\n",
       "      <td>Sherman Thomas Charter</td>\n",
       "      <td>19011.95</td>\n",
       "      <td>10950.81</td>\n",
       "      <td>40096.0</td>\n",
       "      <td>52034.0</td>\n",
       "      <td>49068.0</td>\n",
       "      <td>217</td>\n",
       "      <td>116</td>\n",
       "      <td>0.53</td>\n",
       "      <td>0.534562</td>\n",
       "      <td>0.0</td>\n",
       "    </tr>\n",
       "  </tbody>\n",
       "</table>\n",
       "</div>"
      ],
      "text/plain": [
       "   Unnamed: 0  Mean Scale Score County Name  School Code  District Code  \\\n",
       "0           0          2497.525      Madera       100016          65243   \n",
       "\n",
       "   Zip Code           District Name  Total_Students  Per_Student_Spending  \\\n",
       "0     93638  Sherman Thomas Charter        19011.95              10950.81   \n",
       "\n",
       "    Median     Mean      Pop  Enrolled  Utilized  Percent_Eligible  \\\n",
       "0  40096.0  52034.0  49068.0       217       116              0.53   \n",
       "\n",
       "   Percent_Utilized  Sanctuary  \n",
       "0          0.534562        0.0  "
      ]
     },
     "execution_count": 99,
     "metadata": {},
     "output_type": "execute_result"
    }
   ],
   "source": [
    "All_School_List = pd.read_csv('Data/All_School_List.csv')\n",
    "Migrant_School_List = pd.read_csv('Data/Migrant_School_List.csv')\n",
    "All_School_List.head(1)"
   ]
  },
  {
   "cell_type": "code",
   "execution_count": 100,
   "metadata": {
    "collapsed": false,
    "scrolled": true
   },
   "outputs": [
    {
     "data": {
      "text/html": [
       "<div>\n",
       "<table border=\"1\" class=\"dataframe\">\n",
       "  <thead>\n",
       "    <tr style=\"text-align: right;\">\n",
       "      <th></th>\n",
       "      <th>﻿AcademicYear</th>\n",
       "      <th>RecID</th>\n",
       "      <th>District Code</th>\n",
       "      <th>County Name</th>\n",
       "      <th>District Name</th>\n",
       "      <th>GenderCode</th>\n",
       "      <th>Age</th>\n",
       "      <th>EducationLevel</th>\n",
       "      <th>EthnicGroup</th>\n",
       "      <th>YearsTeaching</th>\n",
       "      <th>YearsInDistrict</th>\n",
       "      <th>EmploymentStatusCode</th>\n",
       "      <th>FTE Teaching</th>\n",
       "      <th>FTE administrative</th>\n",
       "      <th>FTE PupilServices</th>\n",
       "      <th>FileCreated</th>\n",
       "    </tr>\n",
       "  </thead>\n",
       "  <tbody>\n",
       "    <tr>\n",
       "      <th>0</th>\n",
       "      <td>1617</td>\n",
       "      <td>1118544</td>\n",
       "      <td>1964329</td>\n",
       "      <td>LOS ANGELES</td>\n",
       "      <td>Bonita Unified</td>\n",
       "      <td>M</td>\n",
       "      <td>53.0</td>\n",
       "      <td>V</td>\n",
       "      <td>7.0</td>\n",
       "      <td>21.0</td>\n",
       "      <td>13.0</td>\n",
       "      <td>T</td>\n",
       "      <td>45.0</td>\n",
       "      <td>0.0</td>\n",
       "      <td>0.0</td>\n",
       "      <td>1/16/2018</td>\n",
       "    </tr>\n",
       "  </tbody>\n",
       "</table>\n",
       "</div>"
      ],
      "text/plain": [
       "   ﻿AcademicYear    RecID  District Code      County Name   District Name  \\\n",
       "0           1617  1118544        1964329  LOS ANGELES      Bonita Unified   \n",
       "\n",
       "  GenderCode   Age EducationLevel  EthnicGroup  YearsTeaching  \\\n",
       "0          M  53.0              V          7.0           21.0   \n",
       "\n",
       "   YearsInDistrict EmploymentStatusCode  FTE Teaching  FTE administrative  \\\n",
       "0             13.0                    T          45.0                 0.0   \n",
       "\n",
       "   FTE PupilServices FileCreated  \n",
       "0                0.0   1/16/2018  "
      ]
     },
     "execution_count": 100,
     "metadata": {},
     "output_type": "execute_result"
    }
   ],
   "source": [
    "Staff_List = pd.read_csv('Data/Staff_Files.csv')\n",
    "Staff_List['District Name'] =  Staff_List['District Name'].astype(str)\n",
    "Staff_List.head(1)"
   ]
  },
  {
   "cell_type": "code",
   "execution_count": 101,
   "metadata": {
    "collapsed": false
   },
   "outputs": [
    {
     "data": {
      "text/plain": [
       "0      Galt Joint Union Elementary School Distr\n",
       "1      Galt Joint Union Elementary School Distr\n",
       "2         Galt Joint Union High School District\n",
       "3                     Kern High School District\n",
       "4                     Kern High School District\n",
       "5              Greenfield Union School District\n",
       "6              Greenfield Union School District\n",
       "7              Greenfield Union School District\n",
       "8              Greenfield Union School District\n",
       "9              Greenfield Union School District\n",
       "10             Greenfield Union School District\n",
       "11           Fairfax Elementary School District\n",
       "12           Fairfax Elementary School District\n",
       "13           Fairfax Elementary School District\n",
       "14           Fairfax Elementary School District\n",
       "15             Bakersfield City School District\n",
       "16             Bakersfield City School District\n",
       "17             Bakersfield City School District\n",
       "18             Bakersfield City School District\n",
       "19                            Lamont Elementary\n",
       "20                          Vineland Elementary\n",
       "21                          Vineland Elementary\n",
       "22                    Kern High School District\n",
       "23                  Arvin Union School District\n",
       "24                  Arvin Union School District\n",
       "25                  Arvin Union School District\n",
       "26                  Arvin Union School District\n",
       "27                    Kern High School District\n",
       "28                    Kern High School District\n",
       "29             Bakersfield City School District\n",
       "                         ...                   \n",
       "338           Santa Ana Unified School District\n",
       "339           Santa Ana Unified School District\n",
       "340           Santa Ana Unified School District\n",
       "341        Desert Sands Unified School District\n",
       "342        Desert Sands Unified School District\n",
       "343     Aromas/San Juan Unified School District\n",
       "344                   Paso Robles Joint Unified\n",
       "345      San Miguel Joint Union School District\n",
       "346                            Cabrillo Unified\n",
       "347                  Guadalupe Union Elementary\n",
       "348                  Guadalupe Union Elementary\n",
       "349                         Morgan Hill Unified\n",
       "350                         Morgan Hill Unified\n",
       "351                         Morgan Hill Unified\n",
       "352        Oak Grove Elementary School District\n",
       "353        Oak Grove Elementary School District\n",
       "354                             Windsor Unified\n",
       "355                             Windsor Unified\n",
       "356            Live Oak Unified School District\n",
       "357        Earlimart Elementary School District\n",
       "358            Woodlake Unified School District\n",
       "359           Los Banos Unified School District\n",
       "360    South San Francisco Unified School Distr\n",
       "361                 Lost Hills Union Elementary\n",
       "362                 Lost Hills Union Elementary\n",
       "363             Hayward Unified School District\n",
       "364                 Valley Center-Pauma Unified\n",
       "365                           New Haven Unified\n",
       "366        Farmersville Unified School District\n",
       "367      Coalinga-Huron Unified School District\n",
       "Name: District Name, dtype: object"
      ]
     },
     "execution_count": 101,
     "metadata": {},
     "output_type": "execute_result"
    }
   ],
   "source": [
    "Migrant_School_List['District Name']"
   ]
  },
  {
   "cell_type": "code",
   "execution_count": 104,
   "metadata": {
    "collapsed": false
   },
   "outputs": [
    {
     "data": {
      "text/plain": [
       "361"
      ]
     },
     "execution_count": 104,
     "metadata": {},
     "output_type": "execute_result"
    }
   ],
   "source": [
    "District_Experience = Staff_List.groupby('District Name')['YearsTeaching'].mean().reset_index()\n",
    "District_Experience['District Name'] = District_Experience['District Name'].astype(str).str.upper()\n",
    "District_Experience['District Name'] = District_Experience['District Name'].str.slice(0,10)\n",
    "Migrant_School_List['District Name'] = Migrant_School_List['District Name'].astype(str).str.upper()\n",
    "Migrant_School_List['District Name'] = Migrant_School_List['District Name'].str.slice(0,10)\n",
    "\n",
    "\n",
    "Migrant_School_List = Migrant_School_List.merge(District_Experience,on='District Name')\n",
    "Migrant_School_List = Migrant_School_List.drop_duplicates(['School Code', 'District Code'],keep='first')\n",
    "len(Migrant_School_List)\n"
   ]
  }
 ],
 "metadata": {
  "kernelspec": {
   "display_name": "Python 2",
   "language": "python",
   "name": "python2"
  },
  "language_info": {
   "codemirror_mode": {
    "name": "ipython",
    "version": 2
   },
   "file_extension": ".py",
   "mimetype": "text/x-python",
   "name": "python",
   "nbconvert_exporter": "python",
   "pygments_lexer": "ipython2",
   "version": "2.7.13"
  }
 },
 "nbformat": 4,
 "nbformat_minor": 0
}
