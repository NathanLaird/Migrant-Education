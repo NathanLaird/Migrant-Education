{
 "cells": [
  {
   "cell_type": "code",
   "execution_count": 90,
   "metadata": {
    "collapsed": true
   },
   "outputs": [],
   "source": [
    "import matplotlib.pyplot as plt\n",
    "import seaborn as sns\n",
    "import pandas as pd\n",
    "import numpy as np"
   ]
  },
  {
   "cell_type": "code",
   "execution_count": 91,
   "metadata": {},
   "outputs": [],
   "source": [
    "sr = pd.read_csv(\"data/2017_all.csv\")\n",
    "schools = pd.read_csv(\"data/entities.csv\")"
   ]
  },
  {
   "cell_type": "code",
   "execution_count": 106,
   "metadata": {},
   "outputs": [
    {
     "name": "stdout",
     "output_type": "stream",
     "text": [
      "{'Sacramento', 'San Francisco', 'Santa Clara ', 'San Diego', 'San Mateo', 'Riverside', 'Monterey', 'Sonoma', 'Santa Cruz', 'Contra Costa', 'Alameda', 'San Bernardino', 'Napa', 'Los Angeles'}\n"
     ]
    }
   ],
   "source": [
    "santuaries  = {'Alameda','Contra Costa','Los Angeles','Monterey','Napa','Riverside','Sacramento','San Bernardino','San Diego','San Francisco','San Mateo','Santa Clara','Santa Cruz','Sonoma'\n",
    "}\n"
   ]
  },
  {
   "cell_type": "markdown",
   "metadata": {},
   "source": [
    "our data frame sr,School Record, now contains contains all the information about student scores and populations. Our issue is that it also contains information about a number of other student groups we are not interested in, like disability status. the next issue we will want to deal with are the asterisks rows. from reading the survey methodology, we know these represent an ommitted score. scores are ommitted if they represent the average of fewer than 10 students. this concerns us because it means we dont have data for classes that contain fewer than 10 migrant students. there is an option to group students by school and not by grade will give us more schools with non-ommitted information for the migrant students. each of these entries has a school code we will join with the enties list that contains school and zip codes."
   ]
  },
  {
   "cell_type": "code",
   "execution_count": 92,
   "metadata": {},
   "outputs": [
    {
     "data": {
      "text/plain": [
       "(1434757, 32)"
      ]
     },
     "execution_count": 92,
     "metadata": {},
     "output_type": "execute_result"
    }
   ],
   "source": [
    "#we remove any empty data as well as data for district summary. only non zero school codes map to actual schools.\n",
    "mask = sr['Area 1 Percentage Below Standard'] != '*'\n",
    "sr = sr[mask]\n",
    "mask = sr['School Code'] > 0\n",
    "sr = sr[mask]\n",
    "sr['Mean Scale Score'] = pd.to_numeric(sr['Mean Scale Score'])\n",
    "sr.shape"
   ]
  },
  {
   "cell_type": "code",
   "execution_count": 93,
   "metadata": {},
   "outputs": [],
   "source": [
    "#Selecting only the math scores to minimize language bias\n",
    "mask = sr['Test Type']=='B'\n",
    "sr = sr[mask]\n",
    "mask = sr['Test Id'] == 2\n",
    "#selecting the pool of all students at each school\n",
    "mask = sr['Grade'] == 3\n",
    "sr = sr[mask]"
   ]
  },
  {
   "cell_type": "code",
   "execution_count": 94,
   "metadata": {},
   "outputs": [
    {
     "data": {
      "text/plain": [
       "County Code                               1\n",
       "District Code                         10017\n",
       "School Code                          124172\n",
       "Filler                                  NaN\n",
       "Test Year                              2017\n",
       "Subgroup ID                               1\n",
       "Test Type                                 B\n",
       "Total Tested At Entity Level            178\n",
       "Total Tested with Scores                177\n",
       "Grade                                     3\n",
       "Test Id                                   1\n",
       "CAASPP Reported Enrollment               52\n",
       "Students Tested                          50\n",
       "Mean Scale Score                     2500.1\n",
       "Percentage Standard Exceeded          54.00\n",
       "Percentage Standard Met               24.00\n",
       "Percentage Standard Met and Above     78.00\n",
       "Percentage Standard Nearly Met         8.00\n",
       "Percentage Standard Not Met           14.00\n",
       "Students with Scores                     50\n",
       "Area 1 Percentage Above Standard      54.00\n",
       "Area 1 Percentage Near Standard       32.00\n",
       "Area 1 Percentage Below Standard      14.00\n",
       "Area 2 Percentage Above Standard      58.00\n",
       "Area 2 Percentage Near Standard       32.00\n",
       "Area 2 Percentage Below Standard      10.00\n",
       "Area 3 Percentage Above Standard      46.00\n",
       "Area 3 Percentage Near Standard       46.00\n",
       "Area 3 Percentage Below Standard       8.00\n",
       "Area 4 Percentage Above Standard      62.00\n",
       "Area 4 Percentage Near Standard       28.00\n",
       "Area 4 Percentage Below Standard      10.00\n",
       "Name: 2358, dtype: object"
      ]
     },
     "execution_count": 94,
     "metadata": {},
     "output_type": "execute_result"
    }
   ],
   "source": [
    "#we will now segemnt to get two list of schools with the scores for the total and migrant population\n",
    "all_mask = sr['Subgroup ID'] == 1\n",
    "migrant_mask = sr['Subgroup ID'] == 28\n",
    "school_all = sr[all_mask]\n",
    "school_migrant = sr[migrant_mask]\n",
    "school_all.iloc[3]"
   ]
  },
  {
   "cell_type": "code",
   "execution_count": 95,
   "metadata": {},
   "outputs": [
    {
     "name": "stdout",
     "output_type": "stream",
     "text": [
      "2378.4005780346806\n"
     ]
    }
   ],
   "source": [
    "school_all_scores = school_all[['School Code','Mean Scale Score']]\n",
    "school_migrant_scores = school_migrant[['School Code','Mean Scale Score']]\n",
    "school_all_scores = school_all_scores.rename(index=str, columns={\"Mean Scale Score\":\"all score\"})\n",
    "school_migrant_scores = school_migrant_scores.rename(index=str, columns={\"Mean Scale Score\":\"migrant score\"})\n",
    "print(np.mean(school_migrant_scores['migrant score']))"
   ]
  },
  {
   "cell_type": "code",
   "execution_count": 96,
   "metadata": {},
   "outputs": [
    {
     "name": "stdout",
     "output_type": "stream",
     "text": [
      "(173, 2)\n",
      "(173, 3)\n"
     ]
    }
   ],
   "source": [
    "#now we will join the two data frames using school code as the index\n",
    "print(school_migrant_scores.shape)\n",
    "school_all_scores = school_all_scores.drop_duplicates('School Code')\n",
    "school_list = school_migrant_scores.merge(school_all_scores,how='left',on='School Code')\n",
    "print(school_list.shape)\n",
    "#school_list"
   ]
  },
  {
   "cell_type": "code",
   "execution_count": 97,
   "metadata": {},
   "outputs": [
    {
     "data": {
      "image/png": "[encoded data removed]",
      "text/plain": [
       "<matplotlib.figure.Figure at 0x1abca96048>"
      ]
     },
     "metadata": {},
     "output_type": "display_data"
    }
   ],
   "source": [
    "_ = plt.hist(school_list['migrant score'],bins = 30,color ='red',alpha=.5,normed =True)\n",
    "_ = plt.hist(school_list['all score'],bins =30,color = 'blue',alpha = .5,normed = True)\n",
    "plt.show()"
   ]
  },
  {
   "cell_type": "code",
   "execution_count": 102,
   "metadata": {},
   "outputs": [
    {
     "data": {
      "text/plain": [
       "(173, 12)"
      ]
     },
     "execution_count": 102,
     "metadata": {},
     "output_type": "execute_result"
    }
   ],
   "source": [
    "school_list = school_list.merge(schools,how='inner',on='School Code')\n",
    "school_list.shape"
   ]
  },
  {
   "cell_type": "code",
   "execution_count": 104,
   "metadata": {},
   "outputs": [
    {
     "data": {
      "text/plain": [
       "0            Alameda\n",
       "1            Alameda\n",
       "2             Fresno\n",
       "3             Fresno\n",
       "4             Fresno\n",
       "5             Fresno\n",
       "6             Fresno\n",
       "7             Fresno\n",
       "8             Fresno\n",
       "9             Fresno\n",
       "10          Imperial\n",
       "11          Imperial\n",
       "12          Imperial\n",
       "13          Imperial\n",
       "14          Imperial\n",
       "15          Imperial\n",
       "16          Imperial\n",
       "17          Imperial\n",
       "18          Imperial\n",
       "19          Imperial\n",
       "20          Imperial\n",
       "21          Imperial\n",
       "22          Imperial\n",
       "23          Imperial\n",
       "24              Kern\n",
       "25              Kern\n",
       "26              Kern\n",
       "27              Kern\n",
       "28              Kern\n",
       "29              Kern\n",
       "           ...      \n",
       "143    Santa Barbara\n",
       "144    Santa Barbara\n",
       "145    Santa Barbara\n",
       "146    Santa Barbara\n",
       "147    Santa Barbara\n",
       "148       Santa Cruz\n",
       "149       Santa Cruz\n",
       "150       Santa Cruz\n",
       "151       Santa Cruz\n",
       "152       Santa Cruz\n",
       "153       Santa Cruz\n",
       "154       Santa Cruz\n",
       "155       Santa Cruz\n",
       "156       Santa Cruz\n",
       "157       Santa Cruz\n",
       "158           Sonoma\n",
       "159           Sonoma\n",
       "160       Stanislaus\n",
       "161       Stanislaus\n",
       "162       Stanislaus\n",
       "163       Stanislaus\n",
       "164           Sutter\n",
       "165           Sutter\n",
       "166           Tulare\n",
       "167           Tulare\n",
       "168           Tulare\n",
       "169           Tulare\n",
       "170           Tulare\n",
       "171           Tulare\n",
       "172          Ventura\n",
       "Name: County Name, Length: 173, dtype: object"
      ]
     },
     "execution_count": 104,
     "metadata": {},
     "output_type": "execute_result"
    }
   ],
   "source": [
    "#now we have each school with its zip code, total and migrant scores we will merge data about santuary counties\n",
    "school_list['County Name']"
   ]
  }
 ],
 "metadata": {
  "kernelspec": {
   "display_name": "Python 3",
   "language": "python",
   "name": "python3"
  },
  "language_info": {
   "codemirror_mode": {
    "name": "ipython",
    "version": 3
   },
   "file_extension": ".py",
   "mimetype": "text/x-python",
   "name": "python",
   "nbconvert_exporter": "python",
   "pygments_lexer": "ipython3",
   "version": "3.6.3"
  }
 },
 "nbformat": 4,
 "nbformat_minor": 2
}
