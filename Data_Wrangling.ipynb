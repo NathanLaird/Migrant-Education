{
 "cells": [
  {
   "cell_type": "code",
   "execution_count": 417,
   "metadata": {
    "collapsed": true
   },
   "outputs": [],
   "source": [
    "%matplotlib inline\n",
    "\n",
    "import pandas as pd\n",
    "import numpy as np\n",
    "import matplotlib.pyplot as plt"
   ]
  },
  {
   "cell_type": "markdown",
   "metadata": {},
   "source": [
    "This process will bring together the data sources so that they will be more easily queryable for our investigation later. the intention is to create two files. Each row in the these files is California school. each school will have the demographic information outlined in the proposal. the first file will contain the data for schools that for which migrant data is available. The Second file will contain this demographic information for every California school."
   ]
  },
  {
   "cell_type": "markdown",
   "metadata": {},
   "source": [
    "****\n",
    "\n",
    "## Transformations\n",
    "\n",
    "These dataframes will be created in parallel because the processes are nearly identicle. First remove any nulls, in this case some of the scores are starred out.\n",
    "\n",
    "\n",
    "\n",
    "**1. Mean Score by School**\n",
    "+ Mean Scale score is agregated using the groupby function to give an average score for each school \n",
    "\n",
    "**2. Entities**\n",
    "+ the dataframe from the previous step is joined with information about the schools location that will be used to determine sanctuary status.\n",
    "\n",
    "**3. Per Pupil Spending**\n",
    "+ Data about the schools per pupil spending is joined via the district code\n",
    "\n",
    "**4. Local Median Income**\n",
    "+ Data about the median income in the schools zip code \n",
    "\n",
    "**5. Education Experience**\n",
    "+ records of employees are agregated at the district level to give a metric for the average number of years experience a teacher has.\n",
    "\n",
    "**6. Food Aid Utilization**\n",
    "+ at the school level information about both the availability and actual utilization of free and reduced priced meals aimed at those struggling with food insecurity\n",
    "\n",
    "**7. Staff Ethnicity**\n",
    "+ for each school district the ratios of the 10 available ethnicities is calculated, on the district code 10 more columns are added to represent the frequency of the ethnic groups.\n",
    "\n"
   ]
  },
  {
   "cell_type": "markdown",
   "metadata": {},
   "source": [
    "****\n",
    "**1. Mean Score by School **\n",
    "\n",
    "clean for non numeric inputs, then the goal is to create a list of all school code with the average mean scale score.\n",
    "\n",
    "****"
   ]
  },
  {
   "cell_type": "code",
   "execution_count": 418,
   "metadata": {
    "collapsed": false
   },
   "outputs": [
    {
     "data": {
      "text/plain": [
       "Unnamed: 0                             1613\n",
       "County Code                               1\n",
       "District Code                         10017\n",
       "School Code                          112607\n",
       "Test Year                              2016\n",
       "Subgroup ID                               1\n",
       "Test Type                                 B\n",
       "Total CAASPP Enrollment                  91\n",
       "Total Tested At Entity Level             89\n",
       "Total Tested with Scores                 89\n",
       "Grade                                    11\n",
       "Test Id                                   2\n",
       "CAASPP Reported Enrollment               91\n",
       "Students Tested                          89\n",
       "Mean Scale Score                     2506.3\n",
       "Percentage Standard Exceeded              0\n",
       "Percentage Standard Met                  11\n",
       "Percentage Standard Met and Above        11\n",
       "Percentage Standard Nearly Met           24\n",
       "Percentage Standard Not Met              65\n",
       "Students with Scores                     89\n",
       "Area 1 Percentage Above Standard          2\n",
       "Area 1 Percentage Near Standard          24\n",
       "Area 1 Percentage Below Standard         74\n",
       "Area 2 Percentage Above Standard          2\n",
       "Area 2 Percentage Near Standard          44\n",
       "Area 2 Percentage Below Standard         54\n",
       "Area 3 Percentage Above Standard          1\n",
       "Area 3 Percentage Near Standard          56\n",
       "Area 3 Percentage Below Standard         43\n",
       "Area 4 Percentage Above Standard          0\n",
       "Area 4 Percentage Near Standard           0\n",
       "Area 4 Percentage Below Standard          0\n",
       "Name: 1, dtype: object"
      ]
     },
     "execution_count": 418,
     "metadata": {},
     "output_type": "execute_result"
    }
   ],
   "source": [
    "#create a data frame every test for every grade for every school\n",
    "Test_Results = pd.read_csv('Data/ca2016_all.csv')\n",
    "Test_Results = Test_Results[Test_Results['Mean Scale Score']!='*']\n",
    "Test_Results['Mean Scale Score'] = pd.to_numeric(Test_Results['Mean Scale Score'])\n",
    "Test_Results.iloc[1]"
   ]
  },
  {
   "cell_type": "code",
   "execution_count": 419,
   "metadata": {
    "collapsed": false
   },
   "outputs": [
    {
     "data": {
      "text/html": [
       "<div>\n",
       "<table border=\"1\" class=\"dataframe\">\n",
       "  <thead>\n",
       "    <tr style=\"text-align: right;\">\n",
       "      <th></th>\n",
       "      <th>School Code</th>\n",
       "      <th>Mean Scale Score</th>\n",
       "    </tr>\n",
       "  </thead>\n",
       "  <tbody>\n",
       "    <tr>\n",
       "      <th>0</th>\n",
       "      <td>100040</td>\n",
       "      <td>2520.025</td>\n",
       "    </tr>\n",
       "    <tr>\n",
       "      <th>1</th>\n",
       "      <td>100198</td>\n",
       "      <td>2515.700</td>\n",
       "    </tr>\n",
       "    <tr>\n",
       "      <th>2</th>\n",
       "      <td>100248</td>\n",
       "      <td>2391.600</td>\n",
       "    </tr>\n",
       "  </tbody>\n",
       "</table>\n",
       "</div>"
      ],
      "text/plain": [
       "   School Code  Mean Scale Score\n",
       "0       100040          2520.025\n",
       "1       100198          2515.700\n",
       "2       100248          2391.600"
      ]
     },
     "execution_count": 419,
     "metadata": {},
     "output_type": "execute_result"
    }
   ],
   "source": [
    "Migrant_Test_Results = Test_Results[Test_Results['Subgroup ID']==28]\n",
    "Migrant_School_List = Migrant_Test_Results.groupby('School Code')['Mean Scale Score'].mean().reset_index()\n",
    "Migrant_School_List.head(3)\n",
    "#here is basis on which the rest of the DataFrame will be built"
   ]
  },
  {
   "cell_type": "code",
   "execution_count": 420,
   "metadata": {
    "collapsed": false
   },
   "outputs": [
    {
     "data": {
      "text/html": [
       "<div>\n",
       "<table border=\"1\" class=\"dataframe\">\n",
       "  <thead>\n",
       "    <tr style=\"text-align: right;\">\n",
       "      <th></th>\n",
       "      <th>School Code</th>\n",
       "      <th>Mean Scale Score</th>\n",
       "    </tr>\n",
       "  </thead>\n",
       "  <tbody>\n",
       "    <tr>\n",
       "      <th>0</th>\n",
       "      <td>100016</td>\n",
       "      <td>2497.525</td>\n",
       "    </tr>\n",
       "    <tr>\n",
       "      <th>1</th>\n",
       "      <td>100024</td>\n",
       "      <td>2520.000</td>\n",
       "    </tr>\n",
       "    <tr>\n",
       "      <th>2</th>\n",
       "      <td>100040</td>\n",
       "      <td>2537.900</td>\n",
       "    </tr>\n",
       "  </tbody>\n",
       "</table>\n",
       "</div>"
      ],
      "text/plain": [
       "   School Code  Mean Scale Score\n",
       "0       100016          2497.525\n",
       "1       100024          2520.000\n",
       "2       100040          2537.900"
      ]
     },
     "execution_count": 420,
     "metadata": {},
     "output_type": "execute_result"
    }
   ],
   "source": [
    "#creating that same dataframe but for all schools\n",
    "All_Test_Results = Test_Results[Test_Results['Subgroup ID']==1]\n",
    "All_School_List = All_Test_Results.groupby('School Code')['Mean Scale Score'].mean().reset_index()\n",
    "All_School_List.head(3)"
   ]
  },
  {
   "cell_type": "markdown",
   "metadata": {},
   "source": [
    "As expected we have many more schools filled in for our all school list than our migrant school list"
   ]
  },
  {
   "cell_type": "code",
   "execution_count": 421,
   "metadata": {
    "collapsed": false
   },
   "outputs": [
    {
     "name": "stdout",
     "output_type": "stream",
     "text": [
      "('Migrant size: ', 379, ' All size: ', 9217)\n"
     ]
    }
   ],
   "source": [
    "print(\"Migrant size: \",len(Migrant_School_List),\" All size: \", len(All_School_List))"
   ]
  },
  {
   "cell_type": "markdown",
   "metadata": {},
   "source": [
    "****\n",
    "**2. Entities **\n",
    "\n",
    "Join both list with thier location and district information using school code in the Entities file\n",
    "\n",
    "****"
   ]
  },
  {
   "cell_type": "code",
   "execution_count": 422,
   "metadata": {
    "collapsed": false
   },
   "outputs": [
    {
     "data": {
      "text/html": [
       "<div>\n",
       "<table border=\"1\" class=\"dataframe\">\n",
       "  <thead>\n",
       "    <tr style=\"text-align: right;\">\n",
       "      <th></th>\n",
       "      <th>Mean Scale Score</th>\n",
       "      <th>County Name</th>\n",
       "      <th>School Code</th>\n",
       "      <th>District Code</th>\n",
       "      <th>Zip Code</th>\n",
       "      <th>District Name</th>\n",
       "    </tr>\n",
       "  </thead>\n",
       "  <tbody>\n",
       "    <tr>\n",
       "      <th>0</th>\n",
       "      <td>2520.025</td>\n",
       "      <td>Sacramento</td>\n",
       "      <td>100040</td>\n",
       "      <td>67348</td>\n",
       "      <td>95632</td>\n",
       "      <td>Galt Joint Union Elementary School Distr</td>\n",
       "    </tr>\n",
       "    <tr>\n",
       "      <th>1</th>\n",
       "      <td>2515.700</td>\n",
       "      <td>Kern</td>\n",
       "      <td>100198</td>\n",
       "      <td>63529</td>\n",
       "      <td>93307</td>\n",
       "      <td>Kern High School District</td>\n",
       "    </tr>\n",
       "  </tbody>\n",
       "</table>\n",
       "</div>"
      ],
      "text/plain": [
       "   Mean Scale Score County Name  School Code  District Code Zip Code  \\\n",
       "0          2520.025  Sacramento       100040          67348    95632   \n",
       "1          2515.700        Kern       100198          63529    93307   \n",
       "\n",
       "                              District Name  \n",
       "0  Galt Joint Union Elementary School Distr  \n",
       "1                 Kern High School District  "
      ]
     },
     "execution_count": 422,
     "metadata": {},
     "output_type": "execute_result"
    }
   ],
   "source": [
    "Entities = pd.read_csv('Data/sb_ca2016entities.csv')\n",
    "Migrant_School_List = Migrant_School_List.merge(Entities[['County Name','School Code','District Code','Zip Code','District Name']],on='School Code')\n",
    "Migrant_School_List = Migrant_School_List[['Mean Scale Score','County Name','School Code','District Code','Zip Code','District Name']]\n",
    "Migrant_School_List.head(2)"
   ]
  },
  {
   "cell_type": "code",
   "execution_count": 423,
   "metadata": {
    "collapsed": false
   },
   "outputs": [
    {
     "data": {
      "text/html": [
       "<div>\n",
       "<table border=\"1\" class=\"dataframe\">\n",
       "  <thead>\n",
       "    <tr style=\"text-align: right;\">\n",
       "      <th></th>\n",
       "      <th>Mean Scale Score</th>\n",
       "      <th>County Name</th>\n",
       "      <th>School Code</th>\n",
       "      <th>District Code</th>\n",
       "      <th>Zip Code</th>\n",
       "      <th>District Name</th>\n",
       "    </tr>\n",
       "  </thead>\n",
       "  <tbody>\n",
       "    <tr>\n",
       "      <th>0</th>\n",
       "      <td>2497.525</td>\n",
       "      <td>Madera</td>\n",
       "      <td>100016</td>\n",
       "      <td>65243</td>\n",
       "      <td>93638</td>\n",
       "      <td>Sherman Thomas Charter</td>\n",
       "    </tr>\n",
       "    <tr>\n",
       "      <th>1</th>\n",
       "      <td>2520.000</td>\n",
       "      <td>El Dorado</td>\n",
       "      <td>100024</td>\n",
       "      <td>61838</td>\n",
       "      <td>95762</td>\n",
       "      <td>Buckeye Union Elementary School District</td>\n",
       "    </tr>\n",
       "  </tbody>\n",
       "</table>\n",
       "</div>"
      ],
      "text/plain": [
       "   Mean Scale Score County Name  School Code  District Code Zip Code  \\\n",
       "0          2497.525      Madera       100016          65243    93638   \n",
       "1          2520.000   El Dorado       100024          61838    95762   \n",
       "\n",
       "                              District Name  \n",
       "0                    Sherman Thomas Charter  \n",
       "1  Buckeye Union Elementary School District  "
      ]
     },
     "execution_count": 423,
     "metadata": {},
     "output_type": "execute_result"
    }
   ],
   "source": [
    "#now repeat this process for the dataframe with all schools\n",
    "All_School_List = All_School_List.merge(Entities[['County Name','School Code','District Code','Zip Code','District Name']],on='School Code')\n",
    "All_School_List = All_School_List[['Mean Scale Score','County Name','School Code','District Code','Zip Code','District Name']]\n",
    "All_School_List.head(2)"
   ]
  },
  {
   "cell_type": "markdown",
   "metadata": {},
   "source": [
    "****\n",
    "**3. Per Pupil Spending **\n",
    "\n",
    "Import the per pupil spending by district and merge it the existing DataFrame. this will also generate a column about the number of students who regularly attend that school\n",
    "\n",
    "****"
   ]
  },
  {
   "cell_type": "code",
   "execution_count": 424,
   "metadata": {
    "collapsed": false
   },
   "outputs": [
    {
     "data": {
      "text/html": [
       "<div>\n",
       "<table border=\"1\" class=\"dataframe\">\n",
       "  <thead>\n",
       "    <tr style=\"text-align: right;\">\n",
       "      <th></th>\n",
       "      <th>﻿CO</th>\n",
       "      <th>District Code</th>\n",
       "      <th>DISTRICT</th>\n",
       "      <th>Total_Budget</th>\n",
       "      <th>Total_Students</th>\n",
       "      <th>Per_Student_Spending</th>\n",
       "      <th>LEA Type</th>\n",
       "    </tr>\n",
       "  </thead>\n",
       "  <tbody>\n",
       "    <tr>\n",
       "      <th>0</th>\n",
       "      <td>1</td>\n",
       "      <td>61119</td>\n",
       "      <td>Alameda Unified</td>\n",
       "      <td>104,846,431</td>\n",
       "      <td>9,061.8</td>\n",
       "      <td>11,570</td>\n",
       "      <td>Unified</td>\n",
       "    </tr>\n",
       "  </tbody>\n",
       "</table>\n",
       "</div>"
      ],
      "text/plain": [
       "   ﻿CO  District Code         DISTRICT Total_Budget Total_Students  \\\n",
       "0    1          61119  Alameda Unified  104,846,431        9,061.8   \n",
       "\n",
       "  Per_Student_Spending LEA Type  \n",
       "0               11,570  Unified  "
      ]
     },
     "execution_count": 424,
     "metadata": {},
     "output_type": "execute_result"
    }
   ],
   "source": [
    "Per_Pupil_Spending = pd.read_csv('Data/currentexpense1617.csv')\n",
    "Per_Pupil_Spending.head(1)\n",
    "#merge each DataFrame on District code to give each school is district funding information"
   ]
  },
  {
   "cell_type": "code",
   "execution_count": 425,
   "metadata": {
    "collapsed": false
   },
   "outputs": [
    {
     "data": {
      "text/html": [
       "<div>\n",
       "<table border=\"1\" class=\"dataframe\">\n",
       "  <thead>\n",
       "    <tr style=\"text-align: right;\">\n",
       "      <th></th>\n",
       "      <th>Mean Scale Score</th>\n",
       "      <th>County Name</th>\n",
       "      <th>School Code</th>\n",
       "      <th>District Code</th>\n",
       "      <th>Zip Code</th>\n",
       "      <th>District Name</th>\n",
       "      <th>Total_Budget</th>\n",
       "      <th>Total_Students</th>\n",
       "      <th>Per_Student_Spending</th>\n",
       "    </tr>\n",
       "  </thead>\n",
       "  <tbody>\n",
       "    <tr>\n",
       "      <th>0</th>\n",
       "      <td>2520.0250</td>\n",
       "      <td>Sacramento</td>\n",
       "      <td>100040</td>\n",
       "      <td>67348</td>\n",
       "      <td>95632</td>\n",
       "      <td>Galt Joint Union Elementary School Distr</td>\n",
       "      <td>39,533,735</td>\n",
       "      <td>3,455.2</td>\n",
       "      <td>11,442</td>\n",
       "    </tr>\n",
       "    <tr>\n",
       "      <th>1</th>\n",
       "      <td>2419.7625</td>\n",
       "      <td>Sacramento</td>\n",
       "      <td>6033310</td>\n",
       "      <td>67348</td>\n",
       "      <td>95632</td>\n",
       "      <td>Galt Joint Union Elementary School Distr</td>\n",
       "      <td>39,533,735</td>\n",
       "      <td>3,455.2</td>\n",
       "      <td>11,442</td>\n",
       "    </tr>\n",
       "  </tbody>\n",
       "</table>\n",
       "</div>"
      ],
      "text/plain": [
       "   Mean Scale Score County Name  School Code  District Code Zip Code  \\\n",
       "0         2520.0250  Sacramento       100040          67348    95632   \n",
       "1         2419.7625  Sacramento      6033310          67348    95632   \n",
       "\n",
       "                              District Name Total_Budget Total_Students  \\\n",
       "0  Galt Joint Union Elementary School Distr   39,533,735        3,455.2   \n",
       "1  Galt Joint Union Elementary School Distr   39,533,735        3,455.2   \n",
       "\n",
       "  Per_Student_Spending  \n",
       "0               11,442  \n",
       "1               11,442  "
      ]
     },
     "execution_count": 425,
     "metadata": {},
     "output_type": "execute_result"
    }
   ],
   "source": [
    "Migrant_School_List = Migrant_School_List.merge(Per_Pupil_Spending[['District Code','Total_Budget','Total_Students','Per_Student_Spending']])\n",
    "Migrant_School_List.head(2)"
   ]
  },
  {
   "cell_type": "code",
   "execution_count": 426,
   "metadata": {
    "collapsed": false
   },
   "outputs": [
    {
     "data": {
      "text/html": [
       "<div>\n",
       "<table border=\"1\" class=\"dataframe\">\n",
       "  <thead>\n",
       "    <tr style=\"text-align: right;\">\n",
       "      <th></th>\n",
       "      <th>Mean Scale Score</th>\n",
       "      <th>County Name</th>\n",
       "      <th>School Code</th>\n",
       "      <th>District Code</th>\n",
       "      <th>Zip Code</th>\n",
       "      <th>District Name</th>\n",
       "      <th>Total_Budget</th>\n",
       "      <th>Total_Students</th>\n",
       "      <th>Per_Student_Spending</th>\n",
       "    </tr>\n",
       "  </thead>\n",
       "  <tbody>\n",
       "    <tr>\n",
       "      <th>0</th>\n",
       "      <td>2497.525</td>\n",
       "      <td>Madera</td>\n",
       "      <td>100016</td>\n",
       "      <td>65243</td>\n",
       "      <td>93638</td>\n",
       "      <td>Sherman Thomas Charter</td>\n",
       "      <td>208,196,277</td>\n",
       "      <td>19,012.0</td>\n",
       "      <td>10,951</td>\n",
       "    </tr>\n",
       "    <tr>\n",
       "      <th>1</th>\n",
       "      <td>2465.150</td>\n",
       "      <td>Madera</td>\n",
       "      <td>107938</td>\n",
       "      <td>65243</td>\n",
       "      <td>93638</td>\n",
       "      <td>Ezequiel Tafoya Alvarado Academy</td>\n",
       "      <td>208,196,277</td>\n",
       "      <td>19,012.0</td>\n",
       "      <td>10,951</td>\n",
       "    </tr>\n",
       "  </tbody>\n",
       "</table>\n",
       "</div>"
      ],
      "text/plain": [
       "   Mean Scale Score County Name  School Code  District Code Zip Code  \\\n",
       "0          2497.525      Madera       100016          65243    93638   \n",
       "1          2465.150      Madera       107938          65243    93638   \n",
       "\n",
       "                      District Name Total_Budget Total_Students  \\\n",
       "0            Sherman Thomas Charter  208,196,277       19,012.0   \n",
       "1  Ezequiel Tafoya Alvarado Academy  208,196,277       19,012.0   \n",
       "\n",
       "  Per_Student_Spending  \n",
       "0               10,951  \n",
       "1               10,951  "
      ]
     },
     "execution_count": 426,
     "metadata": {},
     "output_type": "execute_result"
    }
   ],
   "source": [
    "All_School_List = All_School_List.merge(Per_Pupil_Spending[['District Code','Total_Budget','Total_Students','Per_Student_Spending']])\n",
    "All_School_List.head(2)"
   ]
  },
  {
   "cell_type": "markdown",
   "metadata": {},
   "source": [
    "****\n",
    "**4. Local Median Income **\n",
    "\n",
    "Similiar to the previous step we will load in extra data from a file and merge. The key difference here is that Median Income is merged on the Zip Code\n",
    "\n",
    "****"
   ]
  },
  {
   "cell_type": "code",
   "execution_count": 427,
   "metadata": {
    "collapsed": false
   },
   "outputs": [
    {
     "data": {
      "text/html": [
       "<div>\n",
       "<table border=\"1\" class=\"dataframe\">\n",
       "  <thead>\n",
       "    <tr style=\"text-align: right;\">\n",
       "      <th></th>\n",
       "      <th>Zip Code</th>\n",
       "      <th>Median</th>\n",
       "      <th>Mean</th>\n",
       "      <th>Pop</th>\n",
       "    </tr>\n",
       "  </thead>\n",
       "  <tbody>\n",
       "    <tr>\n",
       "      <th>0</th>\n",
       "      <td>1001</td>\n",
       "      <td>56,663</td>\n",
       "      <td>66,688</td>\n",
       "      <td>16,445</td>\n",
       "    </tr>\n",
       "  </tbody>\n",
       "</table>\n",
       "</div>"
      ],
      "text/plain": [
       "  Zip Code  Median    Mean     Pop\n",
       "0     1001  56,663  66,688  16,445"
      ]
     },
     "execution_count": 427,
     "metadata": {},
     "output_type": "execute_result"
    }
   ],
   "source": [
    "Zipcode_Income = pd.read_csv('Data/zipcode_income.csv')\n",
    "Zipcode_Income['Zip Code'] = Zipcode_Income['Zip Code'].astype(str)\n",
    "Zipcode_Income.head(1)"
   ]
  },
  {
   "cell_type": "code",
   "execution_count": 428,
   "metadata": {
    "collapsed": false
   },
   "outputs": [
    {
     "data": {
      "text/html": [
       "<div>\n",
       "<table border=\"1\" class=\"dataframe\">\n",
       "  <thead>\n",
       "    <tr style=\"text-align: right;\">\n",
       "      <th></th>\n",
       "      <th>Mean Scale Score</th>\n",
       "      <th>County Name</th>\n",
       "      <th>School Code</th>\n",
       "      <th>District Code</th>\n",
       "      <th>Zip Code</th>\n",
       "      <th>District Name</th>\n",
       "      <th>Total_Budget</th>\n",
       "      <th>Total_Students</th>\n",
       "      <th>Per_Student_Spending</th>\n",
       "      <th>Median</th>\n",
       "      <th>Mean</th>\n",
       "      <th>Pop</th>\n",
       "    </tr>\n",
       "  </thead>\n",
       "  <tbody>\n",
       "    <tr>\n",
       "      <th>0</th>\n",
       "      <td>2497.525</td>\n",
       "      <td>Madera</td>\n",
       "      <td>100016</td>\n",
       "      <td>65243</td>\n",
       "      <td>93638</td>\n",
       "      <td>Sherman Thomas Charter</td>\n",
       "      <td>208,196,277</td>\n",
       "      <td>19,012.0</td>\n",
       "      <td>10,951</td>\n",
       "      <td>40,096</td>\n",
       "      <td>52,034</td>\n",
       "      <td>49,068</td>\n",
       "    </tr>\n",
       "  </tbody>\n",
       "</table>\n",
       "</div>"
      ],
      "text/plain": [
       "   Mean Scale Score County Name  School Code  District Code Zip Code  \\\n",
       "0          2497.525      Madera       100016          65243    93638   \n",
       "\n",
       "            District Name Total_Budget Total_Students Per_Student_Spending  \\\n",
       "0  Sherman Thomas Charter  208,196,277       19,012.0               10,951   \n",
       "\n",
       "   Median    Mean     Pop  \n",
       "0  40,096  52,034  49,068  "
      ]
     },
     "execution_count": 428,
     "metadata": {},
     "output_type": "execute_result"
    }
   ],
   "source": [
    "Migrant_School_List  = Migrant_School_List.merge(Zipcode_Income)\n",
    "All_School_List  =All_School_List.merge(Zipcode_Income)\n",
    "All_School_List.head(1)\n",
    "#now both DataFrames have the Apropriate Income Data"
   ]
  },
  {
   "cell_type": "markdown",
   "metadata": {},
   "source": [
    "****\n",
    "**5. Educational Expereince **\n",
    "\n",
    "The next file is a list of all current employees, what district they work in and how many years they have been a teacher. the average years will be created by grouping by District Code.\n",
    "\n",
    "****"
   ]
  },
  {
   "cell_type": "code",
   "execution_count": 429,
   "metadata": {
    "collapsed": false
   },
   "outputs": [
    {
     "data": {
      "text/html": [
       "<div>\n",
       "<table border=\"1\" class=\"dataframe\">\n",
       "  <thead>\n",
       "    <tr style=\"text-align: right;\">\n",
       "      <th></th>\n",
       "      <th>﻿AcademicYear</th>\n",
       "      <th>RecID</th>\n",
       "      <th>District Code</th>\n",
       "      <th>County Name</th>\n",
       "      <th>District Name</th>\n",
       "      <th>GenderCode</th>\n",
       "      <th>Age</th>\n",
       "      <th>EducationLevel</th>\n",
       "      <th>EthnicGroup</th>\n",
       "      <th>YearsTeaching</th>\n",
       "      <th>YearsInDistrict</th>\n",
       "      <th>EmploymentStatusCode</th>\n",
       "      <th>FTE Teaching</th>\n",
       "      <th>FTE administrative</th>\n",
       "      <th>FTE PupilServices</th>\n",
       "      <th>FileCreated</th>\n",
       "    </tr>\n",
       "  </thead>\n",
       "  <tbody>\n",
       "    <tr>\n",
       "      <th>0</th>\n",
       "      <td>1617</td>\n",
       "      <td>1118544</td>\n",
       "      <td>1964329</td>\n",
       "      <td>LOS ANGELES</td>\n",
       "      <td>Bonita Unified</td>\n",
       "      <td>M</td>\n",
       "      <td>53.0</td>\n",
       "      <td>V</td>\n",
       "      <td>7.0</td>\n",
       "      <td>21.0</td>\n",
       "      <td>13.0</td>\n",
       "      <td>T</td>\n",
       "      <td>45.0</td>\n",
       "      <td>0.0</td>\n",
       "      <td>0.0</td>\n",
       "      <td>1/16/2018</td>\n",
       "    </tr>\n",
       "  </tbody>\n",
       "</table>\n",
       "</div>"
      ],
      "text/plain": [
       "   ﻿AcademicYear    RecID District Code      County Name   District Name  \\\n",
       "0           1617  1118544       1964329  LOS ANGELES      Bonita Unified   \n",
       "\n",
       "  GenderCode   Age EducationLevel  EthnicGroup  YearsTeaching  \\\n",
       "0          M  53.0              V          7.0           21.0   \n",
       "\n",
       "   YearsInDistrict EmploymentStatusCode  FTE Teaching  FTE administrative  \\\n",
       "0             13.0                    T          45.0                 0.0   \n",
       "\n",
       "   FTE PupilServices FileCreated  \n",
       "0                0.0   1/16/2018  "
      ]
     },
     "execution_count": 429,
     "metadata": {},
     "output_type": "execute_result"
    }
   ],
   "source": [
    "Staff_List = pd.read_csv('Data/Staff_Files.csv')\n",
    "Staff_List['District Code'] =  Staff_List['District Code'].astype(str)\n",
    "Staff_List.head(1)"
   ]
  },
  {
   "cell_type": "code",
   "execution_count": 430,
   "metadata": {
    "collapsed": false
   },
   "outputs": [
    {
     "data": {
      "text/html": [
       "<div>\n",
       "<table border=\"1\" class=\"dataframe\">\n",
       "  <thead>\n",
       "    <tr style=\"text-align: right;\">\n",
       "      <th></th>\n",
       "      <th>Mean Scale Score</th>\n",
       "      <th>County Name</th>\n",
       "      <th>School Code</th>\n",
       "      <th>District Code</th>\n",
       "      <th>Zip Code</th>\n",
       "      <th>District Name</th>\n",
       "      <th>Total_Budget</th>\n",
       "      <th>Total_Students</th>\n",
       "      <th>Per_Student_Spending</th>\n",
       "      <th>Median</th>\n",
       "      <th>Mean</th>\n",
       "      <th>Pop</th>\n",
       "      <th>YearsTeaching</th>\n",
       "    </tr>\n",
       "  </thead>\n",
       "  <tbody>\n",
       "    <tr>\n",
       "      <th>0</th>\n",
       "      <td>2446.35</td>\n",
       "      <td>Kern</td>\n",
       "      <td>6009690</td>\n",
       "      <td>63560</td>\n",
       "      <td>93307</td>\n",
       "      <td>Lamont Elementary</td>\n",
       "      <td>31,556,128</td>\n",
       "      <td>2,958.4</td>\n",
       "      <td>10,667</td>\n",
       "      <td>35,780</td>\n",
       "      <td>43,139</td>\n",
       "      <td>82,658</td>\n",
       "      <td>11.230769</td>\n",
       "    </tr>\n",
       "  </tbody>\n",
       "</table>\n",
       "</div>"
      ],
      "text/plain": [
       "   Mean Scale Score County Name  School Code  District Code Zip Code  \\\n",
       "0           2446.35        Kern      6009690          63560    93307   \n",
       "\n",
       "       District Name Total_Budget Total_Students Per_Student_Spending  Median  \\\n",
       "0  Lamont Elementary   31,556,128        2,958.4               10,667  35,780   \n",
       "\n",
       "     Mean     Pop  YearsTeaching  \n",
       "0  43,139  82,658      11.230769  "
      ]
     },
     "execution_count": 430,
     "metadata": {},
     "output_type": "execute_result"
    }
   ],
   "source": [
    "District_Experience = Staff_List.groupby('District Name')['YearsTeaching'].mean().reset_index()\n",
    "Migrant_School_List  = Migrant_School_List.merge(District_Experience)\n",
    "All_School_List = All_School_List.merge(District_Experience)\n",
    "Migrant_School_List.head(1)"
   ]
  },
  {
   "cell_type": "markdown",
   "metadata": {},
   "source": [
    "****\n",
    "**6. Food Aid Utilization **\n",
    "\n",
    "This data will be joined at the school level. This is a measure of how much food assistance is being used by the various schools\n",
    "\n",
    "****"
   ]
  },
  {
   "cell_type": "code",
   "execution_count": 431,
   "metadata": {
    "collapsed": false
   },
   "outputs": [
    {
     "data": {
      "text/html": [
       "<div>\n",
       "<table border=\"1\" class=\"dataframe\">\n",
       "  <thead>\n",
       "    <tr style=\"text-align: right;\">\n",
       "      <th></th>\n",
       "      <th>School Code</th>\n",
       "      <th>Enrolled</th>\n",
       "      <th>Utilized</th>\n",
       "      <th>Percent_Eligible</th>\n",
       "      <th>Percent_Utilized</th>\n",
       "    </tr>\n",
       "  </thead>\n",
       "  <tbody>\n",
       "    <tr>\n",
       "      <th>0</th>\n",
       "      <td>112607</td>\n",
       "      <td>413</td>\n",
       "      <td>308</td>\n",
       "      <td>0.75</td>\n",
       "      <td>0.745763</td>\n",
       "    </tr>\n",
       "  </tbody>\n",
       "</table>\n",
       "</div>"
      ],
      "text/plain": [
       "   School Code  Enrolled  Utilized  Percent_Eligible  Percent_Utilized\n",
       "0       112607       413       308              0.75          0.745763"
      ]
     },
     "execution_count": 431,
     "metadata": {},
     "output_type": "execute_result"
    }
   ],
   "source": [
    "Food_Aid = pd.read_csv('Data/Food_Assistance.csv')\n",
    "Food_Aid.columns = ['School Code','Enrolled','Utilized','Percent_Eligible']\n",
    "Food_Aid = Food_Aid.rename(index=str, columns={\"Enrolled (K-12)\": \"Enrolled\", \"Utilized (K-12)\": \"Utilized\",\"Percent_Eligable Eligible FPRM (K-12)\":\"Percent_Eligible\"})\n",
    "Food_Aid['Percent_Utilized'] = Food_Aid['Utilized']/ Food_Aid['Enrolled']\n",
    "Food_Aid.head(1)"
   ]
  },
  {
   "cell_type": "code",
   "execution_count": 432,
   "metadata": {
    "collapsed": false
   },
   "outputs": [
    {
     "data": {
      "text/html": [
       "<div>\n",
       "<table border=\"1\" class=\"dataframe\">\n",
       "  <thead>\n",
       "    <tr style=\"text-align: right;\">\n",
       "      <th></th>\n",
       "      <th>Mean Scale Score</th>\n",
       "      <th>County Name</th>\n",
       "      <th>School Code</th>\n",
       "      <th>District Code</th>\n",
       "      <th>Zip Code</th>\n",
       "      <th>District Name</th>\n",
       "      <th>Total_Budget</th>\n",
       "      <th>Total_Students</th>\n",
       "      <th>Per_Student_Spending</th>\n",
       "      <th>Median</th>\n",
       "      <th>Mean</th>\n",
       "      <th>Pop</th>\n",
       "      <th>YearsTeaching</th>\n",
       "      <th>Enrolled</th>\n",
       "      <th>Utilized</th>\n",
       "      <th>Percent_Eligible</th>\n",
       "      <th>Percent_Utilized</th>\n",
       "    </tr>\n",
       "  </thead>\n",
       "  <tbody>\n",
       "    <tr>\n",
       "      <th>0</th>\n",
       "      <td>2674.80</td>\n",
       "      <td>El Dorado</td>\n",
       "      <td>930081</td>\n",
       "      <td>61853</td>\n",
       "      <td>95762</td>\n",
       "      <td>El Dorado Union High</td>\n",
       "      <td>69,882,466</td>\n",
       "      <td>6,285.3</td>\n",
       "      <td>11,118</td>\n",
       "      <td>114,420</td>\n",
       "      <td>135,015</td>\n",
       "      <td>38,797</td>\n",
       "      <td>16.346939</td>\n",
       "      <td>2457</td>\n",
       "      <td>190</td>\n",
       "      <td>0.08</td>\n",
       "      <td>0.077330</td>\n",
       "    </tr>\n",
       "    <tr>\n",
       "      <th>1</th>\n",
       "      <td>2652.25</td>\n",
       "      <td>El Dorado</td>\n",
       "      <td>936302</td>\n",
       "      <td>61853</td>\n",
       "      <td>95682</td>\n",
       "      <td>El Dorado Union High</td>\n",
       "      <td>69,882,466</td>\n",
       "      <td>6,285.3</td>\n",
       "      <td>11,118</td>\n",
       "      <td>79,253</td>\n",
       "      <td>93,832</td>\n",
       "      <td>29,114</td>\n",
       "      <td>16.346939</td>\n",
       "      <td>1827</td>\n",
       "      <td>379</td>\n",
       "      <td>0.21</td>\n",
       "      <td>0.207444</td>\n",
       "    </tr>\n",
       "  </tbody>\n",
       "</table>\n",
       "</div>"
      ],
      "text/plain": [
       "   Mean Scale Score County Name  School Code  District Code Zip Code  \\\n",
       "0           2674.80   El Dorado       930081          61853    95762   \n",
       "1           2652.25   El Dorado       936302          61853    95682   \n",
       "\n",
       "          District Name Total_Budget Total_Students Per_Student_Spending  \\\n",
       "0  El Dorado Union High   69,882,466        6,285.3               11,118   \n",
       "1  El Dorado Union High   69,882,466        6,285.3               11,118   \n",
       "\n",
       "    Median     Mean     Pop  YearsTeaching  Enrolled  Utilized  \\\n",
       "0  114,420  135,015  38,797      16.346939      2457       190   \n",
       "1   79,253   93,832  29,114      16.346939      1827       379   \n",
       "\n",
       "   Percent_Eligible  Percent_Utilized  \n",
       "0              0.08          0.077330  \n",
       "1              0.21          0.207444  "
      ]
     },
     "execution_count": 432,
     "metadata": {},
     "output_type": "execute_result"
    }
   ],
   "source": [
    "Migrant_School_List = Migrant_School_List.merge(Food_Aid)\n",
    "All_School_List = All_School_List.merge(Food_Aid)\n",
    "All_School_List.head(2)"
   ]
  },
  {
   "cell_type": "markdown",
   "metadata": {},
   "source": [
    "****\n",
    "**8. Sanctuary Status **\n",
    "\n",
    "Using a list of sanctuary county search through and label each school in a sanctuary county as a 1\n",
    "\n",
    "****"
   ]
  },
  {
   "cell_type": "code",
   "execution_count": 433,
   "metadata": {
    "collapsed": true
   },
   "outputs": [],
   "source": [
    "sanctuaries  = {'Alameda','Contra Costa','Los Angeles','Monterey','Napa','Riverside','Sacramento','San Bernardino','San Diego','San Francisco','San Mateo','Santa Clara','Santa Cruz','Sonoma'\n",
    "}\n"
   ]
  },
  {
   "cell_type": "code",
   "execution_count": 434,
   "metadata": {
    "collapsed": false
   },
   "outputs": [
    {
     "data": {
      "text/html": [
       "<div>\n",
       "<table border=\"1\" class=\"dataframe\">\n",
       "  <thead>\n",
       "    <tr style=\"text-align: right;\">\n",
       "      <th></th>\n",
       "      <th>Mean Scale Score</th>\n",
       "      <th>County Name</th>\n",
       "      <th>School Code</th>\n",
       "      <th>District Code</th>\n",
       "      <th>Zip Code</th>\n",
       "      <th>District Name</th>\n",
       "      <th>Total_Budget</th>\n",
       "      <th>Total_Students</th>\n",
       "      <th>Per_Student_Spending</th>\n",
       "      <th>Median</th>\n",
       "      <th>Mean</th>\n",
       "      <th>Pop</th>\n",
       "      <th>YearsTeaching</th>\n",
       "      <th>Enrolled</th>\n",
       "      <th>Utilized</th>\n",
       "      <th>Percent_Eligible</th>\n",
       "      <th>Percent_Utilized</th>\n",
       "      <th>Sanctuary</th>\n",
       "    </tr>\n",
       "  </thead>\n",
       "  <tbody>\n",
       "    <tr>\n",
       "      <th>0</th>\n",
       "      <td>2674.8</td>\n",
       "      <td>El Dorado</td>\n",
       "      <td>930081</td>\n",
       "      <td>61853</td>\n",
       "      <td>95762</td>\n",
       "      <td>El Dorado Union High</td>\n",
       "      <td>69,882,466</td>\n",
       "      <td>6,285.3</td>\n",
       "      <td>11,118</td>\n",
       "      <td>114,420</td>\n",
       "      <td>135,015</td>\n",
       "      <td>38,797</td>\n",
       "      <td>16.346939</td>\n",
       "      <td>2457</td>\n",
       "      <td>190</td>\n",
       "      <td>0.08</td>\n",
       "      <td>0.07733</td>\n",
       "      <td>0.0</td>\n",
       "    </tr>\n",
       "  </tbody>\n",
       "</table>\n",
       "</div>"
      ],
      "text/plain": [
       "   Mean Scale Score County Name  School Code  District Code Zip Code  \\\n",
       "0            2674.8   El Dorado       930081          61853    95762   \n",
       "\n",
       "          District Name Total_Budget Total_Students Per_Student_Spending  \\\n",
       "0  El Dorado Union High   69,882,466        6,285.3               11,118   \n",
       "\n",
       "    Median     Mean     Pop  YearsTeaching  Enrolled  Utilized  \\\n",
       "0  114,420  135,015  38,797      16.346939      2457       190   \n",
       "\n",
       "   Percent_Eligible  Percent_Utilized  Sanctuary  \n",
       "0              0.08           0.07733        0.0  "
      ]
     },
     "execution_count": 434,
     "metadata": {},
     "output_type": "execute_result"
    }
   ],
   "source": [
    "#now we update this new sanctuary column based on whether the county is in our sanctuary list\n",
    "All_School_List['Sanctuary'] = np.empty(len(All_School_List))\n",
    "for i in range(len(All_School_List)):\n",
    "  \n",
    "    if All_School_List.ix[i,'County Name'] in sanctuaries:\n",
    "        All_School_List.ix[i,'Sanctuary'] = 1\n",
    "    else:\n",
    "        All_School_List.ix[i,'Sanctuary'] = 0\n",
    "    #print(school_list.ix[i,'sanctuary'])\n",
    "All_School_List.head(1)"
   ]
  },
  {
   "cell_type": "code",
   "execution_count": 435,
   "metadata": {
    "collapsed": false
   },
   "outputs": [
    {
     "data": {
      "text/html": [
       "<div>\n",
       "<table border=\"1\" class=\"dataframe\">\n",
       "  <thead>\n",
       "    <tr style=\"text-align: right;\">\n",
       "      <th></th>\n",
       "      <th>Mean Scale Score</th>\n",
       "      <th>County Name</th>\n",
       "      <th>School Code</th>\n",
       "      <th>District Code</th>\n",
       "      <th>Zip Code</th>\n",
       "      <th>District Name</th>\n",
       "      <th>Total_Budget</th>\n",
       "      <th>Total_Students</th>\n",
       "      <th>Per_Student_Spending</th>\n",
       "      <th>Median</th>\n",
       "      <th>Mean</th>\n",
       "      <th>Pop</th>\n",
       "      <th>YearsTeaching</th>\n",
       "      <th>Enrolled</th>\n",
       "      <th>Utilized</th>\n",
       "      <th>Percent_Eligible</th>\n",
       "      <th>Percent_Utilized</th>\n",
       "      <th>Sanctuary</th>\n",
       "    </tr>\n",
       "  </thead>\n",
       "  <tbody>\n",
       "    <tr>\n",
       "      <th>0</th>\n",
       "      <td>2446.35</td>\n",
       "      <td>Kern</td>\n",
       "      <td>6009690</td>\n",
       "      <td>63560</td>\n",
       "      <td>93307</td>\n",
       "      <td>Lamont Elementary</td>\n",
       "      <td>31,556,128</td>\n",
       "      <td>2,958.4</td>\n",
       "      <td>10,667</td>\n",
       "      <td>35,780</td>\n",
       "      <td>43,139</td>\n",
       "      <td>82,658</td>\n",
       "      <td>11.230769</td>\n",
       "      <td>625</td>\n",
       "      <td>601</td>\n",
       "      <td>0.96</td>\n",
       "      <td>0.9616</td>\n",
       "      <td>0.0</td>\n",
       "    </tr>\n",
       "  </tbody>\n",
       "</table>\n",
       "</div>"
      ],
      "text/plain": [
       "   Mean Scale Score County Name  School Code  District Code Zip Code  \\\n",
       "0           2446.35        Kern      6009690          63560    93307   \n",
       "\n",
       "       District Name Total_Budget Total_Students Per_Student_Spending  Median  \\\n",
       "0  Lamont Elementary   31,556,128        2,958.4               10,667  35,780   \n",
       "\n",
       "     Mean     Pop  YearsTeaching  Enrolled  Utilized  Percent_Eligible  \\\n",
       "0  43,139  82,658      11.230769       625       601              0.96   \n",
       "\n",
       "   Percent_Utilized  Sanctuary  \n",
       "0            0.9616        0.0  "
      ]
     },
     "execution_count": 435,
     "metadata": {},
     "output_type": "execute_result"
    }
   ],
   "source": [
    "#now we update this new sanctuary column based on whether the county is in our sanctuary list\n",
    "Migrant_School_List['Sanctuary'] = np.empty(len(Migrant_School_List))\n",
    "for i in range(len(Migrant_School_List)):\n",
    "  \n",
    "    if Migrant_School_List.ix[i,'County Name'] in sanctuaries:\n",
    "        Migrant_School_List.ix[i,'Sanctuary'] = 1\n",
    "    else:\n",
    "        Migrant_School_List.ix[i,'Sanctuary'] = 0\n",
    "    #print(school_list.ix[i,'sanctuary'])\n",
    "Migrant_School_List.head(1)"
   ]
  },
  {
   "cell_type": "code",
   "execution_count": 436,
   "metadata": {
    "collapsed": false
   },
   "outputs": [
    {
     "name": "stdout",
     "output_type": "stream",
     "text": [
      "93\n"
     ]
    }
   ],
   "source": [
    "#so How many of our 300 Migrant Schools fall in a sanctuary County\n",
    "print(Migrant_School_List['Sanctuary'].count())"
   ]
  },
  {
   "cell_type": "code",
   "execution_count": null,
   "metadata": {
    "collapsed": true
   },
   "outputs": [],
   "source": []
  },
  {
   "cell_type": "markdown",
   "metadata": {},
   "source": [
    "****\n",
    "**9. Staff Ethnicity **\n",
    "\n",
    "This data will be joined at the school level. This is a measure of how much food assistance is being used by the various schools\n",
    "\n",
    "****"
   ]
  },
  {
   "cell_type": "code",
   "execution_count": 437,
   "metadata": {
    "collapsed": true
   },
   "outputs": [],
   "source": [
    "# to finish, export the two new dataframes"
   ]
  },
  {
   "cell_type": "code",
   "execution_count": 438,
   "metadata": {
    "collapsed": true
   },
   "outputs": [],
   "source": [
    "Migrant_School_List.to_csv('Data/Migrant_School_List.csv')\n",
    "All_School_List.to_csv('Data/All_School_List.csv')"
   ]
  }
 ],
 "metadata": {
  "kernelspec": {
   "display_name": "Python 2",
   "language": "python",
   "name": "python2"
  },
  "language_info": {
   "codemirror_mode": {
    "name": "ipython",
    "version": 2
   },
   "file_extension": ".py",
   "mimetype": "text/x-python",
   "name": "python",
   "nbconvert_exporter": "python",
   "pygments_lexer": "ipython2",
   "version": "2.7.13"
  }
 },
 "nbformat": 4,
 "nbformat_minor": 0
}
