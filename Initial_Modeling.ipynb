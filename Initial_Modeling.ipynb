{
 "cells": [
  {
   "cell_type": "code",
   "execution_count": 168,
   "metadata": {
    "collapsed": true
   },
   "outputs": [],
   "source": [
    "%matplotlib inline\n",
    "\n",
    "import pandas as pd\n",
    "import numpy as np\n",
    "import matplotlib.pyplot as plt\n",
    "import sklearn\n",
    "import seaborn as sns"
   ]
  },
  {
   "cell_type": "code",
   "execution_count": 169,
   "metadata": {
    "collapsed": false
   },
   "outputs": [
    {
     "data": {
      "text/html": [
       "<div>\n",
       "<table border=\"1\" class=\"dataframe\">\n",
       "  <thead>\n",
       "    <tr style=\"text-align: right;\">\n",
       "      <th></th>\n",
       "      <th>Unnamed: 0</th>\n",
       "      <th>Mean Scale Score</th>\n",
       "      <th>County Name</th>\n",
       "      <th>School Code</th>\n",
       "      <th>District Code</th>\n",
       "      <th>Zip Code</th>\n",
       "      <th>District Name</th>\n",
       "      <th>Total_Students</th>\n",
       "      <th>Per_Student_Spending</th>\n",
       "      <th>Median</th>\n",
       "      <th>Mean</th>\n",
       "      <th>Pop</th>\n",
       "      <th>YearsTeaching</th>\n",
       "      <th>Enrolled</th>\n",
       "      <th>Utilized</th>\n",
       "      <th>Percent_Eligible</th>\n",
       "      <th>Percent_Utilized</th>\n",
       "      <th>Sanctuary</th>\n",
       "    </tr>\n",
       "  </thead>\n",
       "  <tbody>\n",
       "    <tr>\n",
       "      <th>0</th>\n",
       "      <td>0</td>\n",
       "      <td>2674.8</td>\n",
       "      <td>El Dorado</td>\n",
       "      <td>930081</td>\n",
       "      <td>61853</td>\n",
       "      <td>95762</td>\n",
       "      <td>El Dorado Union High</td>\n",
       "      <td>6285.33</td>\n",
       "      <td>11118.34</td>\n",
       "      <td>114420.0</td>\n",
       "      <td>135015.0</td>\n",
       "      <td>38797.0</td>\n",
       "      <td>16.346939</td>\n",
       "      <td>2457</td>\n",
       "      <td>190</td>\n",
       "      <td>0.08</td>\n",
       "      <td>0.07733</td>\n",
       "      <td>0.0</td>\n",
       "    </tr>\n",
       "  </tbody>\n",
       "</table>\n",
       "</div>"
      ],
      "text/plain": [
       "   Unnamed: 0  Mean Scale Score County Name  School Code  District Code  \\\n",
       "0           0            2674.8   El Dorado       930081          61853   \n",
       "\n",
       "   Zip Code         District Name  Total_Students  Per_Student_Spending  \\\n",
       "0     95762  El Dorado Union High         6285.33              11118.34   \n",
       "\n",
       "     Median      Mean      Pop  YearsTeaching  Enrolled  Utilized  \\\n",
       "0  114420.0  135015.0  38797.0      16.346939      2457       190   \n",
       "\n",
       "   Percent_Eligible  Percent_Utilized  Sanctuary  \n",
       "0              0.08           0.07733        0.0  "
      ]
     },
     "execution_count": 169,
     "metadata": {},
     "output_type": "execute_result"
    }
   ],
   "source": [
    "All_School_List = pd.read_csv('Data/All_School_List.csv')\n",
    "Migrant_School_List = pd.read_csv('Data/Migrant_School_List.csv')\n",
    "All_School_List.head(1)"
   ]
  },
  {
   "cell_type": "markdown",
   "metadata": {},
   "source": [
    "****\n",
    "\n",
    "## Modeling\n",
    "\n",
    "The Ininitail goal is to create a model relating our demographic factors to the performance of california students with migrant backgrounds.\n",
    "\n",
    "**Goals**\n",
    "\n",
    "\n",
    "**1. Create a Linear Regression**\n",
    "+ apply Linear Regression to predict Scores for the general and migrant population. Evaluate the feasibility of using demographic information and general population scores to predict migrant scores.\n",
    "\n",
    "**2. K Nearest Neighbor**\n",
    "+ Use unsuperised learning to cluster the schools then evaluate relationships between these groups and school scores\n",
    "\n",
    "**3. L1 L2 Reguralization**\n",
    "+ Apply Lasso and Ridge Regression\n",
    "\n",
    "\n",
    "\n"
   ]
  },
  {
   "cell_type": "markdown",
   "metadata": {},
   "source": [
    "**1. Create a Linear Regression**\n",
    "+ apply Linear Regression to predict Scores for the general and migrant population. Evaluate the feasibility of using demographic information and general population scores to predict migrant scores."
   ]
  },
  {
   "cell_type": "markdown",
   "metadata": {},
   "source": [
    "**Steps**\n",
    "+ Create Test and Training Set\n",
    "+ Train Model\n",
    "+ Predict Test Values\n",
    "+ Evaluate Model"
   ]
  },
  {
   "cell_type": "code",
   "execution_count": 170,
   "metadata": {
    "collapsed": false
   },
   "outputs": [],
   "source": [
    "from sklearn.linear_model import LinearRegression\n",
    "from sklearn.metrics import mean_squared_error\n",
    "from sklearn.model_selection import train_test_split"
   ]
  },
  {
   "cell_type": "code",
   "execution_count": 171,
   "metadata": {
    "collapsed": false
   },
   "outputs": [],
   "source": [
    "Features_All = All_School_List.drop(['Mean Scale Score','County Name','District Name'],axis=1)\n",
    "Target_All = All_School_List['Mean Scale Score']"
   ]
  },
  {
   "cell_type": "code",
   "execution_count": 172,
   "metadata": {
    "collapsed": true
   },
   "outputs": [],
   "source": [
    "Features_Migrant = Migrant_School_List.drop(['Mean Scale Score','County Name','District Name'],axis=1)\n",
    "Target_Migrant = Migrant_School_List['Mean Scale Score']"
   ]
  },
  {
   "cell_type": "code",
   "execution_count": 173,
   "metadata": {
    "collapsed": false
   },
   "outputs": [],
   "source": [
    "#create training and test sets for all students\n",
    "Train_Features_All,Test_Features_All,Train_Target_All,Test_Target_All = train_test_split(Features_All,Target_All, test_size = .25, random_state=42)"
   ]
  },
  {
   "cell_type": "code",
   "execution_count": 174,
   "metadata": {
    "collapsed": false
   },
   "outputs": [],
   "source": [
    "#create training and test sets for migrant students\n",
    "Train_Features_Migrant,Test_Features_Migrant,Train_Target_Migrant,Test_Target_Migrant = train_test_split(Features_Migrant,Target_Migrant, test_size = .25, random_state=42)"
   ]
  },
  {
   "cell_type": "code",
   "execution_count": 175,
   "metadata": {
    "collapsed": true
   },
   "outputs": [],
   "source": [
    "Regression_All = LinearRegression()\n",
    "Regression_Migrant = LinearRegression()"
   ]
  },
  {
   "cell_type": "code",
   "execution_count": 176,
   "metadata": {
    "collapsed": false
   },
   "outputs": [
    {
     "data": {
      "text/plain": [
       "LinearRegression(copy_X=True, fit_intercept=True, n_jobs=1, normalize=False)"
      ]
     },
     "execution_count": 176,
     "metadata": {},
     "output_type": "execute_result"
    }
   ],
   "source": [
    "#train model\n",
    "Regression_All.fit(Train_Features_All,Train_Target_All)\n",
    "Regression_Migrant.fit(Train_Features_Migrant,Train_Target_Migrant)"
   ]
  },
  {
   "cell_type": "code",
   "execution_count": 177,
   "metadata": {
    "collapsed": true
   },
   "outputs": [],
   "source": [
    "#predict test values\n",
    "Predict_All = Regression_All.predict(Test_Features_All)\n",
    "Predict_Migrant = Regression_Migrant.predict(Test_Features_Migrant)"
   ]
  },
  {
   "cell_type": "markdown",
   "metadata": {},
   "source": [
    "## Evaluate Model Results"
   ]
  },
  {
   "cell_type": "code",
   "execution_count": 178,
   "metadata": {
    "collapsed": false
   },
   "outputs": [],
   "source": [
    "Root_Mean_Squared_Error_All = np.sqrt(mean_squared_error(Test_Target_All,Predict_All))\n",
    "Root_Mean_Squared_Error_Migrant = np.sqrt(mean_squared_error(Test_Target_Migrant,Predict_Migrant))"
   ]
  },
  {
   "cell_type": "markdown",
   "metadata": {},
   "source": [
    "** The mean squared error is a measure of how close the preductions from the model are to the observed values. root mean squared error is used to put the average deviation from the observed values in terms of those values. observe the difference in margin of error between the two groups **"
   ]
  },
  {
   "cell_type": "code",
   "execution_count": 179,
   "metadata": {
    "collapsed": false
   },
   "outputs": [
    {
     "name": "stdout",
     "output_type": "stream",
     "text": [
      "('the Root Mean Square Error for All is: ', 37.372184553705161, ' and the Root Mean Square Error for Migrant is: ', 35.554883586705024)\n"
     ]
    }
   ],
   "source": [
    "print('the Root Mean Square Error for All is: ', Root_Mean_Squared_Error_All ,' and the Root Mean Square Error for Migrant is: ',Root_Mean_Squared_Error_Migrant)"
   ]
  },
  {
   "cell_type": "markdown",
   "metadata": {},
   "source": [
    "** In very rough terms, this indicatesthe linear regression is off by an average of 35 points for each prediction. It also indicates that the model performs slightly better on the Migrant dataset **"
   ]
  },
  {
   "cell_type": "markdown",
   "metadata": {},
   "source": [
    "** Next explore the feasibility of using the All score and demographic information to more accurately predict the migrant scores for that school. This would allow for the creation of estimates for how migrant children would perform in various schools to empower parent choices. **"
   ]
  },
  {
   "cell_type": "code",
   "execution_count": 180,
   "metadata": {
    "collapsed": false
   },
   "outputs": [],
   "source": [
    "#creating a training set that includes general populations scores to predict migrant population scores\n",
    "#for this to be practical the prediction must outperform the general population scores\n",
    "\n",
    "General_School_List = All_School_List[['School Code','Mean Scale Score']].rename(index=str, columns={ \"Mean Scale Score\": \"General Mean Scale Score\"})\n",
    "                                      \n",
    "Migrant_With_General_Scores = Migrant_School_List.merge(General_School_List)\n",
    "General_Scores_Features = Migrant_With_General_Scores.drop(['Mean Scale Score','County Name','District Name'],axis=1)\n",
    "General_Scores_Target = Migrant_With_General_Scores['Mean Scale Score']\n",
    "\n",
    "#create training and test sets for migrant students with corresponding general population data\n",
    "Train_General_Scores_Features,Test_General_Scores_Features,Train_General_Scores_Target,Test_General_Scores_Target = train_test_split(General_Scores_Features,General_Scores_Target, test_size = .25, random_state=42)\n",
    "\n",
    "#Create the Regression\n",
    "With_Scores_Regression = LinearRegression()\n",
    "\n",
    "#Train the Regression\n",
    "With_Scores_Regression.fit(Train_General_Scores_Features,Train_General_Scores_Target)\n",
    "\n",
    "#Predict Values\n",
    "Score_Informed_Migrant_Prediction = With_Scores_Regression.predict(Test_General_Scores_Features)\n"
   ]
  },
  {
   "cell_type": "markdown",
   "metadata": {},
   "source": [
    "** Evaluate how the model's prediction performs against our previous model for migrant scores. it is very likely, given how correlated general population scores and migrant scores are, that this new model will out perform the model using only demographics. However, the key point of this experiment is outperforming the general population values. Simply assuming that migrants do as well as the general population will be called the naive solution. **"
   ]
  },
  {
   "cell_type": "code",
   "execution_count": 181,
   "metadata": {
    "collapsed": false
   },
   "outputs": [
    {
     "name": "stdout",
     "output_type": "stream",
     "text": [
      "('the original RMSE for migrants is: ', 35.554883586705024, ' the Score Informed RMSE is: ', 25.786251110222032, 'compared with ', 51.801480372418361, ' for the naive solution')\n"
     ]
    }
   ],
   "source": [
    "With_Scores_Root_Mean_Squared_Error = np.sqrt(mean_squared_error(Test_General_Scores_Target, Score_Informed_Migrant_Prediction))\n",
    "Naive_Root_Mean_Squared_Error =  np.sqrt(mean_squared_error(Test_General_Scores_Target, Test_General_Scores_Features['General Mean Scale Score']))\n",
    "\n",
    "print('the original RMSE for migrants is: ',Root_Mean_Squared_Error_Migrant,' the Score Informed RMSE is: ',With_Scores_Root_Mean_Squared_Error,'compared with ',Naive_Root_Mean_Squared_Error,' for the naive solution' )"
   ]
  },
  {
   "cell_type": "markdown",
   "metadata": {},
   "source": [
    "** it is encouraging that new model outperforms both the previous regression and the naive solution. this forward the goal of identifying features of schools where migrants perfrom optimally **"
   ]
  },
  {
   "cell_type": "code",
   "execution_count": 183,
   "metadata": {
    "collapsed": false
   },
   "outputs": [
    {
     "name": "stdout",
     "output_type": "stream",
     "text": [
      "49.7369666082\n"
     ]
    },
    {
     "data": {
      "image/png": "[encoded data removed]",
      "text/plain": [
       "<matplotlib.figure.Figure at 0x104b03c8>"
      ]
     },
     "metadata": {},
     "output_type": "display_data"
    }
   ],
   "source": [
    "_ = plt.hist(Migrant_School_List['Mean Scale Score'])\n",
    "print(np.std(Migrant_School_List['Mean Scale Score']))"
   ]
  },
  {
   "cell_type": "markdown",
   "metadata": {},
   "source": [
    "** In some perspective, the model's predicted v"
   ]
  },
  {
   "cell_type": "markdown",
   "metadata": {},
   "source": [
    "****\n",
    "## KNN\n",
    "** Is there a way to group our schools to give insight into major trends **"
   ]
  },
  {
   "cell_type": "code",
   "execution_count": null,
   "metadata": {
    "collapsed": true
   },
   "outputs": [],
   "source": []
  }
 ],
 "metadata": {
  "kernelspec": {
   "display_name": "Python 2",
   "language": "python",
   "name": "python2"
  },
  "language_info": {
   "codemirror_mode": {
    "name": "ipython",
    "version": 2
   },
   "file_extension": ".py",
   "mimetype": "text/x-python",
   "name": "python",
   "nbconvert_exporter": "python",
   "pygments_lexer": "ipython2",
   "version": "2.7.13"
  }
 },
 "nbformat": 4,
 "nbformat_minor": 0
}
