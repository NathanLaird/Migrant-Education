{
 "cells": [
  {
   "cell_type": "code",
   "execution_count": 1,
   "metadata": {
    "collapsed": true
   },
   "outputs": [],
   "source": [
    "import matplotlib.pyplot as plt\n",
    "import seaborn as sns\n",
    "import pandas as pd\n",
    "import numpy as np"
   ]
  },
  {
   "cell_type": "code",
   "execution_count": 2,
   "metadata": {
    "collapsed": true
   },
   "outputs": [],
   "source": [
    "schools = pd.read_csv('data/third_math_AB.csv')\n",
    "zips = pd.read_csv('data/zipcode_income.csv')\n",
    "schools = schools.merge(zips,on='Zip Code',how='left')\n",
    "schools = schools.drop(['Filler'],axis=1)\n",
    "schools = schools.dropna(axis=0, how='any')"
   ]
  },
  {
   "cell_type": "code",
   "execution_count": 3,
   "metadata": {
    "collapsed": false
   },
   "outputs": [
    {
     "name": "stdout",
     "output_type": "stream",
     "text": [
      "('all mean: ', 2387.0578947368404, ' migrant mean: ', 2378.260233918127)\n"
     ]
    }
   ],
   "source": [
    "_ = plt.hist(schools['all score'],bins = 50,color ='red',alpha=.5,normed =True)\n",
    "_ = plt.hist(schools['migrant score'],bins =50,color = 'blue',alpha = .5,normed = True)\n",
    "print(\"all mean: \",np.mean(schools['all score']),\" migrant mean: \", np.mean(schools['migrant score']))\n",
    "#plt.show()"
   ]
  },
  {
   "cell_type": "code",
   "execution_count": 4,
   "metadata": {
    "collapsed": false
   },
   "outputs": [
    {
     "name": "stdout",
     "output_type": "stream",
     "text": [
      "('all mean: ', 2387.4301499999997, ' migrant mean: ', 2378.3169699999999)\n"
     ]
    }
   ],
   "source": [
    "bs_all = np.empty(1000)\n",
    "bs_migrant = np.empty(1000)\n",
    "for i in range(1000):\n",
    "    bs_all[i] = np.mean(np.random.choice(schools['all score'],size=10))\n",
    "    bs_migrant[i] = np.mean(np.random.choice(schools['migrant score'],size=10))\n",
    "    \n",
    "_ = plt.hist(bs_all,bins = 50,color ='red',alpha=.5,normed =True)\n",
    "_ = plt.hist(bs_migrant,bins =50,color = 'blue',alpha = .5,normed = True)\n",
    "print(\"all mean: \",np.mean(bs_all),\" migrant mean: \", np.mean(bs_migrant))\n",
    "\n",
    "plt.show()"
   ]
  },
  {
   "cell_type": "markdown",
   "metadata": {},
   "source": [
    "BootStrapping Reveals a very clear difference in means bewteen the two populations, but we are cheifly interested how the sanctuary variable operates"
   ]
  },
  {
   "cell_type": "code",
   "execution_count": 5,
   "metadata": {
    "collapsed": true
   },
   "outputs": [],
   "source": [
    "sanc = schools[schools['sanctuary']==1]\n",
    "nonsanc = schools[schools['sanctuary']==0]"
   ]
  },
  {
   "cell_type": "code",
   "execution_count": 6,
   "metadata": {
    "collapsed": false
   },
   "outputs": [
    {
     "name": "stdout",
     "output_type": "stream",
     "text": [
      "('sanc mean: ', 2372.4262295081976, ' nonsanc mean: ', 2381.4954545454543)\n"
     ]
    }
   ],
   "source": [
    "print(\"sanc mean: \",np.mean(sanc['migrant score']),\" nonsanc mean: \", np.mean(nonsanc['migrant score']))"
   ]
  },
  {
   "cell_type": "code",
   "execution_count": 7,
   "metadata": {
    "collapsed": false
   },
   "outputs": [],
   "source": [
    "_ = plt.hist(sanc['migrant score'],bins = 50,color ='red',alpha=.5,normed =True)\n",
    "_ = plt.hist(nonsanc['migrant score'],bins =50,color = 'blue',alpha = .5,normed = True)\n",
    "plt.show()"
   ]
  },
  {
   "cell_type": "code",
   "execution_count": 8,
   "metadata": {
    "collapsed": false
   },
   "outputs": [],
   "source": [
    "_ = sns.swarmplot(data=schools,x=\"migrant score\",hue=\"sanctuary\")\n",
    "plt.show()"
   ]
  },
  {
   "cell_type": "code",
   "execution_count": 9,
   "metadata": {
    "collapsed": false
   },
   "outputs": [],
   "source": [
    "plt.subplot(2,1,1)\n",
    "_ = plt.hist(sanc['all score'],bins = 50,color ='red',alpha=.5,normed =True)\n",
    "_ = plt.hist(sanc['migrant score'],bins =50,color = 'blue',alpha = .5,normed = True)\n",
    "_ = plt.title(\"Migrant vs Non Migrant Performance in Sanctuary Counties\")\n",
    "plt.subplot(2,1,2)\n",
    "_ = plt.hist(nonsanc['all score'],bins = 50,color ='red',alpha=.5,normed =True)\n",
    "_ = plt.hist(nonsanc['migrant score'],bins =50,color = 'blue',alpha = .5,normed = True)\n",
    "_ = plt.title(\"Migrant vs Non Migrant Performance in Non Sanctuary Counties\")\n",
    "plt.tight_layout()\n",
    "plt.show()"
   ]
  },
  {
   "cell_type": "code",
   "execution_count": 10,
   "metadata": {
    "collapsed": false
   },
   "outputs": [],
   "source": [
    "bs_sanc_all = np.empty(1000)\n",
    "bs_sanc_migrant = np.empty(1000)\n",
    "bs_nonsanc_all = np.empty(1000)\n",
    "bs_nonsanc_migrant = np.empty(1000)\n",
    "for i in range(1000):\n",
    "    bs_sanc_all[i] = np.mean(np.random.choice(sanc['all score'],size=10))\n",
    "    bs_sanc_migrant[i] = np.mean(np.random.choice(sanc['migrant score'],size=10))\n",
    "    bs_nonsanc_all[i] = np.mean(np.random.choice(nonsanc['all score'],size=10))\n",
    "    bs_nonsanc_migrant[i] = np.mean(np.random.choice(nonsanc['migrant score'],size=10))\n",
    "\n",
    "plt.subplot(2,1,1)\n",
    "_ = plt.hist(bs_sanc_all,bins = 50,color ='red',alpha=.5,normed =True)\n",
    "_ = plt.hist(bs_sanc_migrant,bins =50,color = 'blue',alpha = .5,normed = True)\n",
    "_ = plt.title(\"Migrant vs Non Migrant Performance in Sanctuary Counties\")\n",
    "plt.subplot(2,1,2)\n",
    "_ = plt.hist(bs_nonsanc_all,bins = 50,color ='red',alpha=.5,normed =True)\n",
    "_ = plt.hist(bs_nonsanc_migrant,bins =50,color = 'blue',alpha = .5,normed = True)\n",
    "_ = plt.title(\"Migrant vs Non Migrant Performance in Non Sanctuary Counties\")\n",
    "plt.tight_layout()\n",
    "plt.show()"
   ]
  },
  {
   "cell_type": "code",
   "execution_count": 11,
   "metadata": {
    "collapsed": false
   },
   "outputs": [],
   "source": [
    "_=plt.scatter(schools['all score'],schools['Median'])\n",
    "_=plt.title(\"Median Income VS all Scores\")\n",
    "plt.show()\n",
    "_=plt.scatter(schools['migrant score'],schools['Median'])\n",
    "_=plt.title(\"Median Income VS migrant Scores\")\n",
    "plt.show()"
   ]
  },
  {
   "cell_type": "code",
   "execution_count": 12,
   "metadata": {
    "collapsed": false
   },
   "outputs": [],
   "source": [
    "_=plt.scatter(sanc['all score'],sanc['Median'])\n",
    "_=plt.title(\"Median Income VS all Scores in Sanctuary Counties\")\n",
    "plt.show()\n",
    "_=plt.scatter(sanc['migrant score'],sanc['Median'])\n",
    "_=plt.title(\"Median Income VS migrant Scores in Sanctuary Counties\")\n",
    "plt.show()"
   ]
  },
  {
   "cell_type": "code",
   "execution_count": 13,
   "metadata": {
    "collapsed": false
   },
   "outputs": [],
   "source": [
    "_=plt.scatter(nonsanc['all score'],nonsanc['Median'])\n",
    "_=plt.title(\"Median Income VS all Scores in Non Sanctuary Counties\")\n",
    "plt.show()\n",
    "_=plt.scatter(nonsanc['migrant score'],nonsanc['Median'])\n",
    "_=plt.title(\"Median Income VS migrant Scores in Non Sanctuary Counties\")\n",
    "plt.show()"
   ]
  }
 ],
 "metadata": {
  "kernelspec": {
   "display_name": "Python 2",
   "language": "python",
   "name": "python2"
  },
  "language_info": {
   "codemirror_mode": {
    "name": "ipython",
    "version": 2
   },
   "file_extension": ".py",
   "mimetype": "text/x-python",
   "name": "python",
   "nbconvert_exporter": "python",
   "pygments_lexer": "ipython2",
   "version": "2.7.13"
  }
 },
 "nbformat": 4,
 "nbformat_minor": 2
}
