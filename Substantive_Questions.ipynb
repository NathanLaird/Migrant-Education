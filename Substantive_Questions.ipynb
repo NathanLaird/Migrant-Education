{
 "cells": [
  {
   "cell_type": "code",
   "execution_count": 171,
   "metadata": {},
   "outputs": [],
   "source": [
    "%matplotlib inline\n",
    "\n",
    "import pandas as pd\n",
    "import numpy as np\n",
    "from scipy import stats\n",
    "import matplotlib.pyplot as plt\n"
   ]
  },
  {
   "cell_type": "code",
   "execution_count": 172,
   "metadata": {},
   "outputs": [
    {
     "data": {
      "text/html": [
       "<div>\n",
       "<style scoped>\n",
       "    .dataframe tbody tr th:only-of-type {\n",
       "        vertical-align: middle;\n",
       "    }\n",
       "\n",
       "    .dataframe tbody tr th {\n",
       "        vertical-align: top;\n",
       "    }\n",
       "\n",
       "    .dataframe thead th {\n",
       "        text-align: right;\n",
       "    }\n",
       "</style>\n",
       "<table border=\"1\" class=\"dataframe\">\n",
       "  <thead>\n",
       "    <tr style=\"text-align: right;\">\n",
       "      <th></th>\n",
       "      <th>Unnamed: 0</th>\n",
       "      <th>Mean Scale Score</th>\n",
       "      <th>County Name</th>\n",
       "      <th>School Code</th>\n",
       "      <th>District Code</th>\n",
       "      <th>Zip Code</th>\n",
       "      <th>District Name</th>\n",
       "      <th>Total_Students</th>\n",
       "      <th>Per_Student_Spending</th>\n",
       "      <th>Median</th>\n",
       "      <th>Mean</th>\n",
       "      <th>Pop</th>\n",
       "      <th>YearsTeaching</th>\n",
       "      <th>Enrolled</th>\n",
       "      <th>Utilized</th>\n",
       "      <th>Percent_Eligible</th>\n",
       "      <th>Percent_Utilized</th>\n",
       "      <th>Sanctuary</th>\n",
       "      <th>Age</th>\n",
       "      <th>Percentile</th>\n",
       "    </tr>\n",
       "  </thead>\n",
       "  <tbody>\n",
       "    <tr>\n",
       "      <th>0</th>\n",
       "      <td>0</td>\n",
       "      <td>2491.275</td>\n",
       "      <td>Madera</td>\n",
       "      <td>109694</td>\n",
       "      <td>65243</td>\n",
       "      <td>93638</td>\n",
       "      <td>MADERA UNI</td>\n",
       "      <td>19011.95</td>\n",
       "      <td>10950.81</td>\n",
       "      <td>40096.0</td>\n",
       "      <td>52034.0</td>\n",
       "      <td>49068.0</td>\n",
       "      <td>13.164474</td>\n",
       "      <td>897</td>\n",
       "      <td>814</td>\n",
       "      <td>0.91</td>\n",
       "      <td>0.907469</td>\n",
       "      <td>0.0</td>\n",
       "      <td>43.717105</td>\n",
       "      <td>5</td>\n",
       "    </tr>\n",
       "  </tbody>\n",
       "</table>\n",
       "</div>"
      ],
      "text/plain": [
       "   Unnamed: 0  Mean Scale Score County Name  School Code  District Code  \\\n",
       "0           0          2491.275      Madera       109694          65243   \n",
       "\n",
       "   Zip Code District Name  Total_Students  Per_Student_Spending   Median  \\\n",
       "0     93638    MADERA UNI        19011.95              10950.81  40096.0   \n",
       "\n",
       "      Mean      Pop  YearsTeaching  Enrolled  Utilized  Percent_Eligible  \\\n",
       "0  52034.0  49068.0      13.164474       897       814              0.91   \n",
       "\n",
       "   Percent_Utilized  Sanctuary        Age  Percentile  \n",
       "0          0.907469        0.0  43.717105           5  "
      ]
     },
     "execution_count": 172,
     "metadata": {},
     "output_type": "execute_result"
    }
   ],
   "source": [
    "All_School_List = pd.read_csv('Data/All_School_List.csv')\n",
    "Migrant_School_List = pd.read_csv('Data/Migrant_School_List.csv')\n",
    "All_School_List.head(1)"
   ]
  },
  {
   "cell_type": "code",
   "execution_count": null,
   "metadata": {},
   "outputs": [],
   "source": []
  },
  {
   "cell_type": "code",
   "execution_count": null,
   "metadata": {},
   "outputs": [],
   "source": []
  },
  {
   "cell_type": "code",
   "execution_count": 173,
   "metadata": {},
   "outputs": [
    {
     "name": "stderr",
     "output_type": "stream",
     "text": [
      "c:\\users\\admin\\appdata\\local\\programs\\python\\python35\\lib\\site-packages\\matplotlib\\axes\\_axes.py:6462: UserWarning: The 'normed' kwarg is deprecated, and has been replaced by the 'density' kwarg.\n",
      "  warnings.warn(\"The 'normed' kwarg is deprecated, and has been \"\n"
     ]
    },
    {
     "data": {
      "image/png": "[encoded data removed]",
      "text/plain": [
       "<Figure size 432x288 with 1 Axes>"
      ]
     },
     "metadata": {},
     "output_type": "display_data"
    }
   ],
   "source": [
    "_ = plt.hist(All_School_List['Percentile'],bins = 10,color ='red',alpha=1,normed =True)\n",
    "_ = plt.hist(Migrant_School_List['Percentile'],bins =10,color = 'blue',alpha = .5,normed = True)\n",
    "plt.title('Migrant Percentiles vs Total Population Percentiles')\n",
    "plt.show()"
   ]
  },
  {
   "cell_type": "markdown",
   "metadata": {},
   "source": [
    "### This shows the relative frequency of each of the 10 percentiles for both the migrant and total population.  The red indicates naturally that one tenth of all schools fall in each of the ten percentiles. The blue distrobution is more informative. the blue represent the percentiles for the migrant students when compared to the general population. It is immediatly obvious how over represented the very lowest percentile. Equally important is the fact higher percentile scores drop heavily in higher percentiles."
   ]
  },
  {
   "cell_type": "code",
   "execution_count": null,
   "metadata": {},
   "outputs": [],
   "source": []
  },
  {
   "cell_type": "markdown",
   "metadata": {},
   "source": [
    "# Substantive Questions\n",
    "** what conclusions can be drawn from the data that would change current behavior**\n",
    "## 1. Sanctuary Status\n",
    "** is being a sanctuary county a meaningful designation in terms of educational outcomes?\n",
    "##"
   ]
  },
  {
   "cell_type": "code",
   "execution_count": 174,
   "metadata": {},
   "outputs": [
    {
     "name": "stderr",
     "output_type": "stream",
     "text": [
      "c:\\users\\admin\\appdata\\local\\programs\\python\\python35\\lib\\site-packages\\ipykernel_launcher.py:3: UserWarning: Boolean Series key will be reindexed to match DataFrame index.\n",
      "  This is separate from the ipykernel package so we can avoid doing imports until\n",
      "c:\\users\\admin\\appdata\\local\\programs\\python\\python35\\lib\\site-packages\\ipykernel_launcher.py:4: UserWarning: Boolean Series key will be reindexed to match DataFrame index.\n",
      "  after removing the cwd from sys.path.\n"
     ]
    }
   ],
   "source": [
    "sanc_migrant = Migrant_School_List[Migrant_School_List['Sanctuary']==1]\n",
    "nonsanc_migrant = Migrant_School_List[Migrant_School_List['Sanctuary']==0]\n",
    "sanc_all = Migrant_School_List[All_School_List['Sanctuary']==1]\n",
    "nonsanc_all = Migrant_School_List[All_School_List['Sanctuary']==0]"
   ]
  },
  {
   "cell_type": "code",
   "execution_count": 175,
   "metadata": {},
   "outputs": [
    {
     "name": "stderr",
     "output_type": "stream",
     "text": [
      "c:\\users\\admin\\appdata\\local\\programs\\python\\python35\\lib\\site-packages\\matplotlib\\axes\\_axes.py:6462: UserWarning: The 'normed' kwarg is deprecated, and has been replaced by the 'density' kwarg.\n",
      "  warnings.warn(\"The 'normed' kwarg is deprecated, and has been \"\n"
     ]
    },
    {
     "data": {
      "image/png": "[encoded data removed]",
      "text/plain": [
       "<Figure size 432x288 with 1 Axes>"
      ]
     },
     "metadata": {},
     "output_type": "display_data"
    }
   ],
   "source": [
    "_ = plt.hist(nonsanc_migrant['Percentile'],bins = 10,color ='red',alpha=1,normed =True)\n",
    "_ = plt.hist(sanc_migrant['Percentile'],bins =10,color = 'blue',alpha = .5,normed = True)\n",
    "plt.title('Migrant Percentiles vs Total Population Percentiles')\n",
    "plt.show()\n",
    "#print(nonsanc_migrant['Percentile'].mean())"
   ]
  },
  {
   "cell_type": "markdown",
   "metadata": {},
   "source": [
    "### These two distrobutions are very similiar and have identical means, this could indicate that sanctuary status has a limited impact on the educational outcomes in that county for the migrant community."
   ]
  },
  {
   "cell_type": "markdown",
   "metadata": {},
   "source": [
    "## 2. Nutrition and Hunger\n",
    "** is relative need for food aid an indicator of the schools performance **\n",
    "\n",
    "** Does this trend hold for both migrant and general population **"
   ]
  },
  {
   "cell_type": "code",
   "execution_count": 179,
   "metadata": {},
   "outputs": [
    {
     "data": {
      "text/plain": [
       "Text(0,0.5,'Percent Eligible')"
      ]
     },
     "execution_count": 179,
     "metadata": {},
     "output_type": "execute_result"
    },
    {
     "data": {
      "image/png": "[encoded data removed]",
      "text/plain": [
       "<Figure size 432x288 with 1 Axes>"
      ]
     },
     "metadata": {},
     "output_type": "display_data"
    }
   ],
   "source": [
    "plt.scatter(Migrant_School_List['Percentile'],Migrant_School_List['Percent_Eligible'])\n",
    "plt.title('Need for Food Aid vs Score Percentile for Migrant Populations')\n",
    "plt.xlabel('School Score Percentile')\n",
    "plt.ylabel('Percent Eligible')"
   ]
  },
  {
   "cell_type": "code",
   "execution_count": 180,
   "metadata": {},
   "outputs": [
    {
     "data": {
      "text/plain": [
       "Text(0,0.5,'Percent Eligible')"
      ]
     },
     "execution_count": 180,
     "metadata": {},
     "output_type": "execute_result"
    },
    {
     "data": {
      "image/png": "[encoded data removed]",
      "text/plain": [
       "<Figure size 432x288 with 1 Axes>"
      ]
     },
     "metadata": {},
     "output_type": "display_data"
    }
   ],
   "source": [
    "plt.scatter(All_School_List['Percentile'],All_School_List['Percent_Eligible'])\n",
    "plt.title('Need for Food Aid vs Score Percentile for General Populations')\n",
    "plt.xlabel('Schoo Score Percentile')\n",
    "plt.ylabel('Percent Eligible')"
   ]
  },
  {
   "cell_type": "code",
   "execution_count": null,
   "metadata": {},
   "outputs": [],
   "source": []
  }
 ],
 "metadata": {
  "kernelspec": {
   "display_name": "Python 3",
   "language": "python",
   "name": "python3"
  },
  "language_info": {
   "codemirror_mode": {
    "name": "ipython",
    "version": 3
   },
   "file_extension": ".py",
   "mimetype": "text/x-python",
   "name": "python",
   "nbconvert_exporter": "python",
   "pygments_lexer": "ipython3",
   "version": "3.5.0"
  }
 },
 "nbformat": 4,
 "nbformat_minor": 1
}
