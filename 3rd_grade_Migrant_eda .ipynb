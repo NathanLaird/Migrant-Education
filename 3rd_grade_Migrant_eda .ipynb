{
 "cells": [
  {
   "cell_type": "code",
   "execution_count": null,
   "metadata": {
    "collapsed": true
   },
   "outputs": [],
   "source": [
    "import matplotlib.pyplot as plt\n",
    "import seaborn as sns\n",
    "import pandas as pd"
   ]
  },
  {
   "cell_type": "code",
   "execution_count": null,
   "metadata": {
    "collapsed": true
   },
   "outputs": [],
   "source": [
    "sr = pd.read_csv(\"data/2017_all.csv\")\n",
    "schools = pd.read_csv(\"data/ca2017entities\")"
   ]
  },
  {
   "cell_type": "code",
   "execution_count": null,
   "metadata": {
    "collapsed": true
   },
   "outputs": [],
   "source": [
    "santuaries  = {Alameda,Contra Costa,Los Angeles,Monterey,Napa,Orange,County,Riverside,Sacramento,San Bernardino,San Diego,San Francisco,San Mateo,Santa Clara ,Santa Cruz,Sonoma\n",
    "}"
   ]
  },
  {
   "cell_type": "code",
   "execution_count": null,
   "metadata": {
    "collapsed": true
   },
   "outputs": [],
   "source": [
    "mask = sr['Area 1 Percentage Below Standard'] != '*'\n",
    "sr = sr[mask]\n",
    "mask = sr['School Code'] > 0\n",
    "sr = sr[mask]\n",
    "sr.shape"
   ]
  },
  {
   "cell_type": "code",
   "execution_count": null,
   "metadata": {
    "collapsed": true
   },
   "outputs": [],
   "source": [
    "mask = sr['Grade'] == 3\n",
    "third = sr[mask]\n",
    "mask = third['Subgroup ID'] == 1\n",
    "third_all = third[mask]\n",
    "third_all.shape"
   ]
  },
  {
   "cell_type": "code",
   "execution_count": null,
   "metadata": {
    "collapsed": true
   },
   "outputs": [],
   "source": [
    "mask = third['Subgroup ID'] == 28\n",
    "third_migrant = third[mask]\n",
    "third_migrant.shape"
   ]
  },
  {
   "cell_type": "code",
   "execution_count": null,
   "metadata": {
    "collapsed": true
   },
   "outputs": [],
   "source": [
    "mask = third_all['Test Type'] == 'B'\n",
    "math_all = third_all[mask]\n",
    "math_all.shape"
   ]
  },
  {
   "cell_type": "code",
   "execution_count": null,
   "metadata": {
    "collapsed": true
   },
   "outputs": [],
   "source": [
    "mask = third_migrant['Test Type'] == 'B'\n",
    "math_migrant = third_migrant[mask]\n",
    "migrant_list = pd.to_numeric(math_migrant[\"Mean Scale Score\"])\n",
    "migrant_list.mean()"
   ]
  },
  {
   "cell_type": "code",
   "execution_count": null,
   "metadata": {
    "collapsed": true
   },
   "outputs": [],
   "source": [
    "all_list = pd.to_numeric(math_all[\"Mean Scale Score\"]) \n",
    "all_list.mean()"
   ]
  },
  {
   "cell_type": "markdown",
   "metadata": {},
   "source": [
    "we have an indication that there may be a difference between between migrant population and total population\n",
    "\n",
    "Is this difference signifigant, Let's visualize using a histogram"
   ]
  },
  {
   "cell_type": "code",
   "execution_count": null,
   "metadata": {
    "collapsed": true
   },
   "outputs": [],
   "source": [
    "_ = plt.hist(all_list,bins = 50,color ='red',alpha=.5,normed =True)\n",
    "_ = plt.hist(migrant_list,bins =50,color = 'blue',alpha = .5,normed = True)\n",
    "plt.show()"
   ]
  },
  {
   "cell_type": "markdown",
   "metadata": {},
   "source": [
    "it would apear that the diffiernce in these two distrobutions is signifigant, now looking inwards at the migrant distrobution, is santuary designation a signifigant indicator"
   ]
  },
  {
   "cell_type": "code",
   "execution_count": null,
   "metadata": {},
   "outputs": [],
   "source": [
    "math_migrant['County Names']"
   ]
  }
 ],
 "metadata": {
  "kernelspec": {
   "display_name": "Python 3",
   "language": "python",
   "name": "python3"
  },
  "language_info": {
   "codemirror_mode": {
    "name": "ipython",
    "version": 3
   },
   "file_extension": ".py",
   "mimetype": "text/x-python",
   "name": "python",
   "nbconvert_exporter": "python",
   "pygments_lexer": "ipython3",
   "version": "3.6.3"
  }
 },
 "nbformat": 4,
 "nbformat_minor": 2
}
