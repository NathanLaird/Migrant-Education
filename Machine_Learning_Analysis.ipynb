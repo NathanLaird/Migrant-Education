{
 "cells": [
  {
   "cell_type": "code",
   "execution_count": 265,
   "metadata": {},
   "outputs": [],
   "source": [
    "%matplotlib inline\n",
    "\n",
    "import pandas as pd\n",
    "import numpy as np\n",
    "import matplotlib.pyplot as plt\n",
    "import sklearn\n",
    "from sklearn import linear_model\n",
    "from sklearn.linear_model import LinearRegression\n",
    "from sklearn.neighbors import KNeighborsClassifier\n",
    "from sklearn.metrics import mean_squared_error\n",
    "from sklearn.metrics import confusion_matrix\n",
    "from sklearn.model_selection import train_test_split\n",
    "from sklearn.linear_model import LogisticRegression\n",
    "\n",
    "import seaborn as sns\n",
    "\n"
   ]
  },
  {
   "cell_type": "code",
   "execution_count": 266,
   "metadata": {},
   "outputs": [
    {
     "data": {
      "text/html": [
       "<div>\n",
       "<style scoped>\n",
       "    .dataframe tbody tr th:only-of-type {\n",
       "        vertical-align: middle;\n",
       "    }\n",
       "\n",
       "    .dataframe tbody tr th {\n",
       "        vertical-align: top;\n",
       "    }\n",
       "\n",
       "    .dataframe thead th {\n",
       "        text-align: right;\n",
       "    }\n",
       "</style>\n",
       "<table border=\"1\" class=\"dataframe\">\n",
       "  <thead>\n",
       "    <tr style=\"text-align: right;\">\n",
       "      <th></th>\n",
       "      <th>Unnamed: 0</th>\n",
       "      <th>Mean Scale Score</th>\n",
       "      <th>County Name</th>\n",
       "      <th>School Code</th>\n",
       "      <th>District Code</th>\n",
       "      <th>Zip Code</th>\n",
       "      <th>District Name</th>\n",
       "      <th>Total_Students</th>\n",
       "      <th>Per_Student_Spending</th>\n",
       "      <th>Median</th>\n",
       "      <th>Mean</th>\n",
       "      <th>Pop</th>\n",
       "      <th>YearsTeaching</th>\n",
       "      <th>Enrolled</th>\n",
       "      <th>Utilized</th>\n",
       "      <th>Percent_Eligible</th>\n",
       "      <th>Percent_Utilized</th>\n",
       "      <th>Sanctuary</th>\n",
       "      <th>Age</th>\n",
       "      <th>Percentile</th>\n",
       "    </tr>\n",
       "  </thead>\n",
       "  <tbody>\n",
       "    <tr>\n",
       "      <th>0</th>\n",
       "      <td>0</td>\n",
       "      <td>2491.275</td>\n",
       "      <td>Madera</td>\n",
       "      <td>109694</td>\n",
       "      <td>65243</td>\n",
       "      <td>93638</td>\n",
       "      <td>MADERA UNI</td>\n",
       "      <td>19011.95</td>\n",
       "      <td>10950.81</td>\n",
       "      <td>40096.0</td>\n",
       "      <td>52034.0</td>\n",
       "      <td>49068.0</td>\n",
       "      <td>13.164474</td>\n",
       "      <td>897</td>\n",
       "      <td>814</td>\n",
       "      <td>0.91</td>\n",
       "      <td>0.907469</td>\n",
       "      <td>0.0</td>\n",
       "      <td>43.717105</td>\n",
       "      <td>5</td>\n",
       "    </tr>\n",
       "  </tbody>\n",
       "</table>\n",
       "</div>"
      ],
      "text/plain": [
       "   Unnamed: 0  Mean Scale Score County Name  School Code  District Code  \\\n",
       "0           0          2491.275      Madera       109694          65243   \n",
       "\n",
       "   Zip Code District Name  Total_Students  Per_Student_Spending   Median  \\\n",
       "0     93638    MADERA UNI        19011.95              10950.81  40096.0   \n",
       "\n",
       "      Mean      Pop  YearsTeaching  Enrolled  Utilized  Percent_Eligible  \\\n",
       "0  52034.0  49068.0      13.164474       897       814              0.91   \n",
       "\n",
       "   Percent_Utilized  Sanctuary        Age  Percentile  \n",
       "0          0.907469        0.0  43.717105           5  "
      ]
     },
     "execution_count": 266,
     "metadata": {},
     "output_type": "execute_result"
    }
   ],
   "source": [
    "All_School_List = pd.read_csv('Data/All_School_List.csv')\n",
    "Migrant_School_List = pd.read_csv('Data/Migrant_School_List.csv')\n",
    "All_School_List.head(1)"
   ]
  },
  {
   "cell_type": "code",
   "execution_count": 267,
   "metadata": {},
   "outputs": [],
   "source": [
    "Features_All = All_School_List.drop(['Mean Scale Score','County Name','District Name','Percentile'],axis=1)\n",
    "\n",
    "Target_All = All_School_List['Mean Scale Score']>np.percentile(All_School_List['Mean Scale Score'],50)\n",
    "#print(len(Migrant_School_List))"
   ]
  },
  {
   "cell_type": "code",
   "execution_count": 268,
   "metadata": {},
   "outputs": [],
   "source": [
    "Features_Migrant = Migrant_School_List.drop(['Mean Scale Score','County Name','District Name','Percentile'],axis=1)\n",
    "Target_Migrant = Migrant_School_List['Mean Scale Score']>np.percentile(All_School_List['Mean Scale Score'],50)"
   ]
  },
  {
   "cell_type": "markdown",
   "metadata": {},
   "source": [
    "**Target is now whether the population of that schools falls above and below the 50th percentile**"
   ]
  },
  {
   "cell_type": "code",
   "execution_count": 269,
   "metadata": {},
   "outputs": [],
   "source": [
    "#create training and test sets for all students\n",
    "Train_Features_All,Test_Features_All,Train_Target_All,Test_Target_All = train_test_split(Features_All,Target_All, test_size = .50, random_state=42)"
   ]
  },
  {
   "cell_type": "code",
   "execution_count": 270,
   "metadata": {},
   "outputs": [],
   "source": [
    "#create training and test sets for migrant students\n",
    "Train_Features_Migrant,Test_Features_Migrant,Train_Target_Migrant,Test_Target_Migrant = train_test_split(Features_Migrant,Target_Migrant, test_size = .50, random_state=42)"
   ]
  },
  {
   "cell_type": "markdown",
   "metadata": {},
   "source": [
    "**Now that our data has an apropriate target, it is time use a logistic regression.**"
   ]
  },
  {
   "cell_type": "code",
   "execution_count": 271,
   "metadata": {},
   "outputs": [],
   "source": [
    "LogReg = LogisticRegression()\n",
    "LogReg.fit(Train_Features_Migrant,Train_Target_Migrant)\n",
    "LogReg_Prediction_Migrant = LogReg.predict(Test_Features_Migrant)\n",
    "Confusion_Matrix = confusion_matrix(Test_Target_Migrant,LogReg_Prediction_Migrant)"
   ]
  },
  {
   "cell_type": "code",
   "execution_count": 272,
   "metadata": {},
   "outputs": [
    {
     "data": {
      "image/png": "[encoded data removed]",
      "text/plain": [
       "<Figure size 288x288 with 2 Axes>"
      ]
     },
     "metadata": {},
     "output_type": "display_data"
    }
   ],
   "source": [
    "plt.matshow(Confusion_Matrix)\n",
    "plt.title('Confusion matrix')\n",
    "plt.colorbar()\n",
    "plt.ylabel('True label')\n",
    "plt.xlabel('Predicted label')\n",
    "#print(Confusion_Matrix)\n",
    "plt.show()\n"
   ]
  },
  {
   "cell_type": "markdown",
   "metadata": {},
   "source": [
    "** Here the model was able to classify 34 of 47 total schools. In perspective, If the model said that a school did have the makeup to be in the top 50 percentile, that school would be miss classified every one in three times. The rate for false negatives is slightly improved at 1 in 4. **"
   ]
  },
  {
   "cell_type": "markdown",
   "metadata": {},
   "source": [
    "** Here is one model for predicting student outcomes, use this model with others to crossvalidate **"
   ]
  },
  {
   "cell_type": "markdown",
   "metadata": {},
   "source": [
    "****\n",
    "## KNN\n",
    "** Is there a way to group our schools to give insight into major trends **"
   ]
  },
  {
   "cell_type": "code",
   "execution_count": 273,
   "metadata": {},
   "outputs": [],
   "source": [
    "\n",
    "# instantiate learning model (k = 32)\n",
    "knn = KNeighborsClassifier(n_neighbors=3)\n",
    "\n",
    "# fitting the model\n",
    "knn.fit(Train_Features_Migrant, Train_Target_Migrant)\n",
    "\n",
    "# predict the response\n",
    "KNN_Prediction_Migrant = knn.predict(Test_Features_Migrant)\n",
    "Confusion_Matrix = confusion_matrix(Test_Target_Migrant,KNN_Prediction_Migrant)\n",
    "\n"
   ]
  },
  {
   "cell_type": "code",
   "execution_count": 274,
   "metadata": {},
   "outputs": [
    {
     "data": {
      "image/png": "[encoded data removed]",
      "text/plain": [
       "<Figure size 288x288 with 2 Axes>"
      ]
     },
     "metadata": {},
     "output_type": "display_data"
    }
   ],
   "source": [
    "plt.matshow(Confusion_Matrix)\n",
    "plt.title('Confusion matrix')\n",
    "plt.colorbar()\n",
    "plt.ylabel('True label')\n",
    "plt.xlabel('Predicted label')\n",
    "plt.show()\n",
    "#print(Confusion_Matrix)"
   ]
  },
  {
   "cell_type": "markdown",
   "metadata": {},
   "source": [
    "** It seems that KNN is resulting in far fewer false positives.**"
   ]
  },
  {
   "cell_type": "markdown",
   "metadata": {},
   "source": [
    "# L1 Regularization"
   ]
  },
  {
   "cell_type": "code",
   "execution_count": 275,
   "metadata": {},
   "outputs": [],
   "source": [
    "Lasso_Reg_Migrant = linear_model.Lasso(alpha = 0.1)\n",
    "Lasso_Reg_Migrant.fit(Train_Features_Migrant,Train_Target_Migrant)\n",
    "Lasso_Prediction_Migrant = Lasso_Reg_Migrant.predict(Test_Features_Migrant)\n",
    "\n",
    "#print(Lasso_Prediction_Migrant)\n"
   ]
  },
  {
   "cell_type": "markdown",
   "metadata": {},
   "source": [
    "**The prediction needs to be modified so that we can use a confusion matrix to assess the model. currently it is a continuos value but it needs to be a discreet 1 or 0**"
   ]
  },
  {
   "cell_type": "code",
   "execution_count": 276,
   "metadata": {},
   "outputs": [
    {
     "data": {
      "image/png": "[encoded data removed]",
      "text/plain": [
       "<Figure size 288x288 with 2 Axes>"
      ]
     },
     "metadata": {},
     "output_type": "display_data"
    }
   ],
   "source": [
    "Lasso_Prediction_Migrant = Lasso_Prediction_Migrant>.5\n",
    "Confusion_Matrix = confusion_matrix(Test_Target_Migrant,Lasso_Prediction_Migrant)\n",
    "#print(Confusion_Matrix)\n",
    "plt.matshow(Confusion_Matrix)\n",
    "plt.title('Confusion matrix')\n",
    "plt.colorbar()\n",
    "plt.ylabel('True label')\n",
    "plt.xlabel('Predicted label')\n",
    "plt.show()"
   ]
  },
  {
   "cell_type": "markdown",
   "metadata": {},
   "source": [
    "** At present this model is not more effective than our previous KNN solution **"
   ]
  },
  {
   "cell_type": "code",
   "execution_count": 277,
   "metadata": {},
   "outputs": [],
   "source": [
    "Ridge_Reg_Migrant = linear_model.Ridge(alpha=.5)\n",
    "Ridge_Reg_Migrant.fit(Train_Features_Migrant,Train_Target_Migrant)\n",
    "Ridge_Reg_Prediction = Ridge_Reg_Migrant.predict(Test_Features_Migrant)"
   ]
  },
  {
   "cell_type": "markdown",
   "metadata": {},
   "source": [
    "** this data will also need to be modified before it can used with confusion matrix**"
   ]
  },
  {
   "cell_type": "code",
   "execution_count": 278,
   "metadata": {
    "scrolled": true
   },
   "outputs": [
    {
     "data": {
      "image/png": "[encoded data removed]",
      "text/plain": [
       "<Figure size 288x288 with 2 Axes>"
      ]
     },
     "metadata": {},
     "output_type": "display_data"
    }
   ],
   "source": [
    "Ridge_Reg_Prediction = Ridge_Reg_Prediction>.5\n",
    "Confusion_Matrix = confusion_matrix(Test_Target_Migrant,Lasso_Prediction_Migrant)\n",
    "#print(Confusion_Matrix)\n",
    "plt.matshow(Confusion_Matrix)\n",
    "plt.title('Confusion matrix')\n",
    "plt.colorbar()\n",
    "plt.ylabel('True label')\n",
    "plt.xlabel('Predicted label')\n",
    "plt.show()"
   ]
  },
  {
   "cell_type": "markdown",
   "metadata": {},
   "source": [
    "## Support Vector Machine"
   ]
  },
  {
   "cell_type": "code",
   "execution_count": 279,
   "metadata": {},
   "outputs": [],
   "source": [
    "from sklearn.svm import SVC\n",
    "svm = SVC()\n",
    "svm.fit(Train_Features_Migrant, Train_Target_Migrant)\n",
    "SVC_Prediction_Migrant = svm.predict(Test_Features_Migrant)\n",
    "\n"
   ]
  },
  {
   "cell_type": "code",
   "execution_count": 280,
   "metadata": {},
   "outputs": [
    {
     "data": {
      "image/png": "[encoded data removed]",
      "text/plain": [
       "<Figure size 288x288 with 2 Axes>"
      ]
     },
     "metadata": {},
     "output_type": "display_data"
    }
   ],
   "source": [
    "\n",
    "Confusion_Matrix = confusion_matrix(Test_Target_Migrant,SVC_Prediction_Migrant)\n",
    "#print(Confusion_Matrix)\n",
    "plt.matshow(Confusion_Matrix)\n",
    "plt.title('Confusion matrix')\n",
    "plt.colorbar()\n",
    "plt.ylabel('True label')\n",
    "plt.xlabel('Predicted label')\n",
    "plt.show()"
   ]
  },
  {
   "cell_type": "markdown",
   "metadata": {},
   "source": [
    "## KMeans"
   ]
  },
  {
   "cell_type": "markdown",
   "metadata": {},
   "source": [
    "# this clustering method requires a number of clusters, before we run our model, find the clustering with the smallest interia"
   ]
  },
  {
   "cell_type": "code",
   "execution_count": 281,
   "metadata": {},
   "outputs": [
    {
     "data": {
      "image/png": "[encoded data removed]",
      "text/plain": [
       "<Figure size 432x288 with 1 Axes>"
      ]
     },
     "metadata": {},
     "output_type": "display_data"
    }
   ],
   "source": [
    "from sklearn.cluster import KMeans\n",
    "inertias = np.empty(9)\n",
    "for K in range(2,11):\n",
    "    kmeans = KMeans(K).fit(Train_Features_Migrant)\n",
    "#    print(K)\n",
    "    inertias[K-2] = kmeans.inertia_\n",
    "#inertias.dropna()\n",
    "#inertias[~np.isnan(inertias).any(axis=1)]\n",
    "_ = plt.bar(range(2,11),inertias)\n",
    "_ = plt.title('KMeans Inertia')\n",
    "_ = plt.xlabel('K')\n"
   ]
  },
  {
   "cell_type": "markdown",
   "metadata": {},
   "source": [
    "## Model Selection"
   ]
  },
  {
   "cell_type": "markdown",
   "metadata": {},
   "source": [
    "KNN had the best confusion matrix for this aplication. implement the Elbow Method to arrive at the optimal number of neighbors"
   ]
  },
  {
   "cell_type": "code",
   "execution_count": 282,
   "metadata": {},
   "outputs": [
    {
     "data": {
      "image/png": "[encoded data removed]",
      "text/plain": [
       "<Figure size 432x288 with 1 Axes>"
      ]
     },
     "metadata": {},
     "output_type": "display_data"
    }
   ],
   "source": [
    "from sklearn.cluster import KMeans\n",
    "inertias = np.empty(9)\n",
    "for K in range(2,11):\n",
    "    kmeans = KMeans(K).fit(Train_Features_Migrant)\n",
    "#    print(K)\n",
    "    inertias[K-2] = kmeans.inertia_\n",
    "_ = plt.bar(range(2,11),inertias)\n",
    "_ = plt.title('Elbow Method')\n",
    "_ = plt.xlabel('K')\n",
    "_ = plt.ylabel('K Inertia')\n"
   ]
  },
  {
   "cell_type": "markdown",
   "metadata": {
    "collapsed": true
   },
   "source": [
    "** the elbow could be said to be at 2 or 3, in this case 3 neighbors had the best confusion matrix so that will be our K **"
   ]
  },
  {
   "cell_type": "markdown",
   "metadata": {},
   "source": [
    "## All School Prediction\n",
    "** Selecting KMeans as the most effective model. use the model, the data from the migrant schools, and the demographics from all the schools to create an estamate of the perfornce of schools with less than 10 migrant students **"
   ]
  },
  {
   "cell_type": "code",
   "execution_count": 283,
   "metadata": {},
   "outputs": [],
   "source": [
    "Features_Migrant = Migrant_School_List.drop(['Mean Scale Score','County Name','District Name'],axis=1)\n",
    "Target_Migrant = Migrant_School_List['Mean Scale Score']>np.percentile(All_School_List['Mean Scale Score'],50)"
   ]
  },
  {
   "cell_type": "code",
   "execution_count": 284,
   "metadata": {},
   "outputs": [
    {
     "data": {
      "text/html": [
       "<div>\n",
       "<style scoped>\n",
       "    .dataframe tbody tr th:only-of-type {\n",
       "        vertical-align: middle;\n",
       "    }\n",
       "\n",
       "    .dataframe tbody tr th {\n",
       "        vertical-align: top;\n",
       "    }\n",
       "\n",
       "    .dataframe thead th {\n",
       "        text-align: right;\n",
       "    }\n",
       "</style>\n",
       "<table border=\"1\" class=\"dataframe\">\n",
       "  <thead>\n",
       "    <tr style=\"text-align: right;\">\n",
       "      <th></th>\n",
       "      <th>Unnamed: 0</th>\n",
       "      <th>School Code</th>\n",
       "      <th>District Code</th>\n",
       "      <th>Zip Code</th>\n",
       "      <th>Total_Students</th>\n",
       "      <th>Per_Student_Spending</th>\n",
       "      <th>Median</th>\n",
       "      <th>Mean</th>\n",
       "      <th>Pop</th>\n",
       "      <th>YearsTeaching</th>\n",
       "      <th>Enrolled</th>\n",
       "      <th>Utilized</th>\n",
       "      <th>Percent_Eligible</th>\n",
       "      <th>Percent_Utilized</th>\n",
       "      <th>Sanctuary</th>\n",
       "      <th>Age</th>\n",
       "      <th>General Mean Scale Score</th>\n",
       "      <th>Predicted_Migrant_Scores</th>\n",
       "    </tr>\n",
       "  </thead>\n",
       "  <tbody>\n",
       "    <tr>\n",
       "      <th>0</th>\n",
       "      <td>0</td>\n",
       "      <td>109694</td>\n",
       "      <td>65243</td>\n",
       "      <td>93638</td>\n",
       "      <td>19011.95</td>\n",
       "      <td>10950.81</td>\n",
       "      <td>40096.0</td>\n",
       "      <td>52034.0</td>\n",
       "      <td>49068.0</td>\n",
       "      <td>13.164474</td>\n",
       "      <td>897</td>\n",
       "      <td>814</td>\n",
       "      <td>0.91</td>\n",
       "      <td>0.907469</td>\n",
       "      <td>0.0</td>\n",
       "      <td>43.717105</td>\n",
       "      <td>2491.2750</td>\n",
       "      <td>2480.809323</td>\n",
       "    </tr>\n",
       "    <tr>\n",
       "      <th>1</th>\n",
       "      <td>1</td>\n",
       "      <td>109702</td>\n",
       "      <td>65243</td>\n",
       "      <td>93638</td>\n",
       "      <td>19011.95</td>\n",
       "      <td>10950.81</td>\n",
       "      <td>40096.0</td>\n",
       "      <td>52034.0</td>\n",
       "      <td>49068.0</td>\n",
       "      <td>13.164474</td>\n",
       "      <td>767</td>\n",
       "      <td>726</td>\n",
       "      <td>0.95</td>\n",
       "      <td>0.946545</td>\n",
       "      <td>0.0</td>\n",
       "      <td>43.717105</td>\n",
       "      <td>2425.3000</td>\n",
       "      <td>2421.052730</td>\n",
       "    </tr>\n",
       "    <tr>\n",
       "      <th>2</th>\n",
       "      <td>2</td>\n",
       "      <td>110957</td>\n",
       "      <td>65243</td>\n",
       "      <td>93638</td>\n",
       "      <td>19011.95</td>\n",
       "      <td>10950.81</td>\n",
       "      <td>40096.0</td>\n",
       "      <td>52034.0</td>\n",
       "      <td>49068.0</td>\n",
       "      <td>13.164474</td>\n",
       "      <td>745</td>\n",
       "      <td>678</td>\n",
       "      <td>0.91</td>\n",
       "      <td>0.910067</td>\n",
       "      <td>0.0</td>\n",
       "      <td>43.717105</td>\n",
       "      <td>2422.9125</td>\n",
       "      <td>2415.969562</td>\n",
       "    </tr>\n",
       "    <tr>\n",
       "      <th>3</th>\n",
       "      <td>3</td>\n",
       "      <td>113050</td>\n",
       "      <td>65243</td>\n",
       "      <td>93638</td>\n",
       "      <td>19011.95</td>\n",
       "      <td>10950.81</td>\n",
       "      <td>40096.0</td>\n",
       "      <td>52034.0</td>\n",
       "      <td>49068.0</td>\n",
       "      <td>13.164474</td>\n",
       "      <td>730</td>\n",
       "      <td>663</td>\n",
       "      <td>0.91</td>\n",
       "      <td>0.908219</td>\n",
       "      <td>0.0</td>\n",
       "      <td>43.717105</td>\n",
       "      <td>2444.8375</td>\n",
       "      <td>2437.883528</td>\n",
       "    </tr>\n",
       "    <tr>\n",
       "      <th>4</th>\n",
       "      <td>4</td>\n",
       "      <td>123620</td>\n",
       "      <td>65243</td>\n",
       "      <td>93638</td>\n",
       "      <td>19011.95</td>\n",
       "      <td>10950.81</td>\n",
       "      <td>40096.0</td>\n",
       "      <td>52034.0</td>\n",
       "      <td>49068.0</td>\n",
       "      <td>13.164474</td>\n",
       "      <td>164</td>\n",
       "      <td>158</td>\n",
       "      <td>0.96</td>\n",
       "      <td>0.963415</td>\n",
       "      <td>0.0</td>\n",
       "      <td>43.717105</td>\n",
       "      <td>2471.4500</td>\n",
       "      <td>2469.648178</td>\n",
       "    </tr>\n",
       "  </tbody>\n",
       "</table>\n",
       "</div>"
      ],
      "text/plain": [
       "   Unnamed: 0  School Code  District Code  Zip Code  Total_Students  \\\n",
       "0           0       109694          65243     93638        19011.95   \n",
       "1           1       109702          65243     93638        19011.95   \n",
       "2           2       110957          65243     93638        19011.95   \n",
       "3           3       113050          65243     93638        19011.95   \n",
       "4           4       123620          65243     93638        19011.95   \n",
       "\n",
       "   Per_Student_Spending   Median     Mean      Pop  YearsTeaching  Enrolled  \\\n",
       "0              10950.81  40096.0  52034.0  49068.0      13.164474       897   \n",
       "1              10950.81  40096.0  52034.0  49068.0      13.164474       767   \n",
       "2              10950.81  40096.0  52034.0  49068.0      13.164474       745   \n",
       "3              10950.81  40096.0  52034.0  49068.0      13.164474       730   \n",
       "4              10950.81  40096.0  52034.0  49068.0      13.164474       164   \n",
       "\n",
       "   Utilized  Percent_Eligible  Percent_Utilized  Sanctuary        Age  \\\n",
       "0       814              0.91          0.907469        0.0  43.717105   \n",
       "1       726              0.95          0.946545        0.0  43.717105   \n",
       "2       678              0.91          0.910067        0.0  43.717105   \n",
       "3       663              0.91          0.908219        0.0  43.717105   \n",
       "4       158              0.96          0.963415        0.0  43.717105   \n",
       "\n",
       "   General Mean Scale Score  Predicted_Migrant_Scores  \n",
       "0                 2491.2750               2480.809323  \n",
       "1                 2425.3000               2421.052730  \n",
       "2                 2422.9125               2415.969562  \n",
       "3                 2444.8375               2437.883528  \n",
       "4                 2471.4500               2469.648178  "
      ]
     },
     "execution_count": 284,
     "metadata": {},
     "output_type": "execute_result"
    }
   ],
   "source": [
    "General_School_List = All_School_List[['School Code','Mean Scale Score']].rename(index=str, columns={ \"Mean Scale Score\": \"General Mean Scale Score\"})\n",
    "                                      \n",
    "Migrant_With_General_Scores = Migrant_School_List.merge(General_School_List)\n",
    "General_Scores_Features = Migrant_With_General_Scores.drop(['Mean Scale Score','County Name','District Name','Percentile'],axis=1)\n",
    "#contains evry school with thier average score to predict the migrant score of all schools\n",
    "General_Predict_Features = All_School_List.merge(General_School_List)\n",
    "General_Predict_Features = General_Predict_Features.drop(['Mean Scale Score','County Name','District Name','Percentile'],axis=1)\n",
    "General_Scores_Target = Migrant_With_General_Scores['Mean Scale Score']\n",
    "\n",
    "\n",
    "#Create the Regression\n",
    "With_Scores_Regression = LinearRegression()\n",
    "\n",
    "#Train the Regression\n",
    "With_Scores_Regression.fit(General_Scores_Features,General_Scores_Target)\n",
    "\n",
    "General_Scores_Features.head()\n",
    "#Predict Values\n",
    "Score_Informed_Migrant_Prediction = With_Scores_Regression.predict(General_Predict_Features)\n",
    "Prediction_df = General_Predict_Features\n",
    "Prediction_df['Predicted_Migrant_Scores'] = Score_Informed_Migrant_Prediction\n",
    "Prediction_df.head()\n"
   ]
  },
  {
   "cell_type": "markdown",
   "metadata": {},
   "source": [
    "_ = plt.scatter(Prediction_df['General Mean Scale Score'],Prediction_df['Predicted_Migrant_Scores'],c=Prediction_df['Median'])\n",
    "_=plt.xlabel('Genral Population')\n",
    "_=plt.ylabel('Predicted Migrant Population')\n",
    "#adding a slope 1 line representing schools where Migrants are predicted to do as well as the general population\n",
    "x1, y1 = [2000, 3000], [2000, 3000]\n",
    "plt.title('General Population Scores Vs. Predicted Migrant Scores')\n",
    "plt.plot(x1, y1, marker = 'o')"
   ]
  },
  {
   "cell_type": "markdown",
   "metadata": {},
   "source": [
    "Those Observations above the blue line are of particular interest. Immediatly you notice that those observations are also overwhelming dark blue meaning these map to low income schools"
   ]
  },
  {
   "cell_type": "markdown",
   "metadata": {},
   "source": [
    "## Use K nearest neighbors to model which percentile the school falls in"
   ]
  },
  {
   "cell_type": "code",
   "execution_count": 285,
   "metadata": {},
   "outputs": [],
   "source": [
    "Features_Migrant = Migrant_School_List.drop(['Mean Scale Score','County Name','District Name','Percentile'],axis=1)\n",
    "Features_All = All_School_List.drop(['Mean Scale Score','County Name','District Name','Percentile'],axis=1)\n",
    "Target_Migrant = Migrant_School_List['Percentile']\n",
    "Target_All = All_School_List['Percentile']"
   ]
  },
  {
   "cell_type": "code",
   "execution_count": 286,
   "metadata": {},
   "outputs": [],
   "source": [
    "Train_Features_All,Test_Features_All,Train_Target_All,Test_Target_All = train_test_split(Features_All,Target_All, test_size = .50, random_state=42)\n",
    "Train_Features_Migrant,Test_Features_Migrant,Train_Target_Migrant,Test_Target_Migrant = train_test_split(Features_Migrant,Target_Migrant, test_size = .50, random_state=42)"
   ]
  },
  {
   "cell_type": "code",
   "execution_count": 291,
   "metadata": {},
   "outputs": [
    {
     "data": {
      "text/plain": [
       "163    5\n",
       "33     0\n",
       "15     2\n",
       "322    0\n",
       "57     0\n",
       "182    1\n",
       "76     6\n",
       "119    7\n",
       "267    7\n",
       "126    5\n",
       "258    7\n",
       "39     0\n",
       "232    8\n",
       "55     2\n",
       "137    6\n",
       "199    0\n",
       "255    9\n",
       "224    0\n",
       "326    4\n",
       "101    4\n",
       "9      3\n",
       "192    1\n",
       "72     3\n",
       "285    5\n",
       "336    4\n",
       "194    0\n",
       "218    7\n",
       "168    1\n",
       "148    2\n",
       "357    0\n",
       "      ..\n",
       "143    0\n",
       "275    0\n",
       "97     0\n",
       "198    4\n",
       "68     4\n",
       "23     0\n",
       "37     2\n",
       "144    1\n",
       "122    4\n",
       "67     0\n",
       "318    3\n",
       "223    4\n",
       "288    0\n",
       "229    2\n",
       "125    0\n",
       "146    5\n",
       "203    2\n",
       "86     2\n",
       "304    7\n",
       "314    5\n",
       "305    4\n",
       "328    0\n",
       "274    0\n",
       "176    7\n",
       "343    4\n",
       "183    8\n",
       "256    8\n",
       "129    0\n",
       "38     2\n",
       "11     0\n",
       "Name: Percentile, Length: 181, dtype: int64"
      ]
     },
     "execution_count": 291,
     "metadata": {},
     "output_type": "execute_result"
    }
   ],
   "source": [
    "Test_Target_Migrant"
   ]
  },
  {
   "cell_type": "code",
   "execution_count": 301,
   "metadata": {},
   "outputs": [
    {
     "data": {
      "text/plain": [
       "181"
      ]
     },
     "execution_count": 301,
     "metadata": {},
     "output_type": "execute_result"
    },
    {
     "data": {
      "image/png": "[encoded data removed]",
      "text/plain": [
       "<Figure size 432x288 with 1 Axes>"
      ]
     },
     "metadata": {},
     "output_type": "display_data"
    }
   ],
   "source": [
    "knn = LinearRegression()\n",
    "\n",
    "# fitting the model\n",
    "knn.fit(Train_Features_Migrant, Train_Target_Migrant)\n",
    "\n",
    "# predict the response\n",
    "KNN_Prediction_Migrant = knn.predict(Test_Features_Migrant)\n",
    "\n",
    "#Confusion_Matrix = confusion_matrix(Test_Target_Migrant,KNN_Prediction_Migrant)\n",
    "#Confusion_Matrix\n",
    "plt.scatter(KNN_Prediction_Migrant,Test_Target_Migrant)\n",
    "len(KNN_Prediction_Migrant)"
   ]
  },
  {
   "cell_type": "code",
   "execution_count": 304,
   "metadata": {},
   "outputs": [
    {
     "data": {
      "text/plain": [
       "181"
      ]
     },
     "execution_count": 304,
     "metadata": {},
     "output_type": "execute_result"
    },
    {
     "data": {
      "image/png": "[encoded data removed]",
      "text/plain": [
       "<Figure size 432x288 with 1 Axes>"
      ]
     },
     "metadata": {},
     "output_type": "display_data"
    }
   ],
   "source": [
    "knn = LinearRegression()\n",
    "\n",
    "# fitting the model\n",
    "knn.fit(Train_Features_All, Train_Target_All)\n",
    "\n",
    "# predict the response\n",
    "LinReg_Prediction_All = knn.predict(Test_Features_All)\n",
    "\n",
    "#Confusion_Matrix = confusion_matrix(Test_Target_Migrant,KNN_Prediction_Migrant)\n",
    "#Confusion_Matrix\n",
    "plt.scatter(LinReg_Prediction_All,Test_Target_All)\n",
    "plt.title('Predict Vs. Observed Migrant Percentiles')\n",
    "plt.xlabel('predicted percentile')\n",
    "plt.ylabel('actual percentile')\n",
    "len(KNN_Prediction_Migrant)"
   ]
  }
 ],
 "metadata": {
  "kernelspec": {
   "display_name": "Python 3",
   "language": "python",
   "name": "python3"
  },
  "language_info": {
   "codemirror_mode": {
    "name": "ipython",
    "version": 3
   },
   "file_extension": ".py",
   "mimetype": "text/x-python",
   "name": "python",
   "nbconvert_exporter": "python",
   "pygments_lexer": "ipython3",
   "version": "3.5.0"
  }
 },
 "nbformat": 4,
 "nbformat_minor": 1
}
