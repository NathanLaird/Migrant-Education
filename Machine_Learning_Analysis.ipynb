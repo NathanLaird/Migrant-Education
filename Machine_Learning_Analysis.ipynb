{
 "cells": [
  {
   "cell_type": "code",
   "execution_count": 113,
   "metadata": {
    "collapsed": true
   },
   "outputs": [],
   "source": [
    "%matplotlib inline\n",
    "\n",
    "import pandas as pd\n",
    "import numpy as np\n",
    "import matplotlib.pyplot as plt\n",
    "import sklearn\n",
    "from sklearn import linear_model\n",
    "from sklearn.linear_model import LinearRegression\n",
    "from sklearn.neighbors import KNeighborsClassifier\n",
    "from sklearn.metrics import mean_squared_error\n",
    "from sklearn.metrics import confusion_matrix\n",
    "from sklearn.model_selection import train_test_split\n",
    "from sklearn.linear_model import LogisticRegression\n",
    "\n",
    "import seaborn as sns\n",
    "\n"
   ]
  },
  {
   "cell_type": "code",
   "execution_count": 114,
   "metadata": {
    "collapsed": false
   },
   "outputs": [
    {
     "data": {
      "text/html": [
       "<div>\n",
       "<table border=\"1\" class=\"dataframe\">\n",
       "  <thead>\n",
       "    <tr style=\"text-align: right;\">\n",
       "      <th></th>\n",
       "      <th>Unnamed: 0</th>\n",
       "      <th>Mean Scale Score</th>\n",
       "      <th>County Name</th>\n",
       "      <th>School Code</th>\n",
       "      <th>District Code</th>\n",
       "      <th>Zip Code</th>\n",
       "      <th>District Name</th>\n",
       "      <th>Total_Students</th>\n",
       "      <th>Per_Student_Spending</th>\n",
       "      <th>Median</th>\n",
       "      <th>Mean</th>\n",
       "      <th>Pop</th>\n",
       "      <th>YearsTeaching</th>\n",
       "      <th>Enrolled</th>\n",
       "      <th>Utilized</th>\n",
       "      <th>Percent_Eligible</th>\n",
       "      <th>Percent_Utilized</th>\n",
       "      <th>Sanctuary</th>\n",
       "      <th>Age</th>\n",
       "    </tr>\n",
       "  </thead>\n",
       "  <tbody>\n",
       "    <tr>\n",
       "      <th>0</th>\n",
       "      <td>0</td>\n",
       "      <td>2491.275</td>\n",
       "      <td>Madera</td>\n",
       "      <td>109694</td>\n",
       "      <td>65243</td>\n",
       "      <td>93638</td>\n",
       "      <td>MADERA UNI</td>\n",
       "      <td>19011.95</td>\n",
       "      <td>10950.81</td>\n",
       "      <td>40096.0</td>\n",
       "      <td>52034.0</td>\n",
       "      <td>49068.0</td>\n",
       "      <td>13.164474</td>\n",
       "      <td>897</td>\n",
       "      <td>814</td>\n",
       "      <td>0.91</td>\n",
       "      <td>0.907469</td>\n",
       "      <td>0.0</td>\n",
       "      <td>43.717105</td>\n",
       "    </tr>\n",
       "  </tbody>\n",
       "</table>\n",
       "</div>"
      ],
      "text/plain": [
       "   Unnamed: 0  Mean Scale Score County Name  School Code  District Code  \\\n",
       "0           0          2491.275      Madera       109694          65243   \n",
       "\n",
       "   Zip Code District Name  Total_Students  Per_Student_Spending   Median  \\\n",
       "0     93638    MADERA UNI        19011.95              10950.81  40096.0   \n",
       "\n",
       "      Mean      Pop  YearsTeaching  Enrolled  Utilized  Percent_Eligible  \\\n",
       "0  52034.0  49068.0      13.164474       897       814              0.91   \n",
       "\n",
       "   Percent_Utilized  Sanctuary        Age  \n",
       "0          0.907469        0.0  43.717105  "
      ]
     },
     "execution_count": 114,
     "metadata": {},
     "output_type": "execute_result"
    }
   ],
   "source": [
    "All_School_List = pd.read_csv('Data/All_School_List.csv')\n",
    "Migrant_School_List = pd.read_csv('Data/Migrant_School_List.csv')\n",
    "All_School_List.head(1)"
   ]
  },
  {
   "cell_type": "code",
   "execution_count": 115,
   "metadata": {
    "collapsed": false
   },
   "outputs": [
    {
     "name": "stdout",
     "output_type": "stream",
     "text": [
      "361\n"
     ]
    }
   ],
   "source": [
    "Features_All = All_School_List.drop(['Mean Scale Score','County Name','District Name'],axis=1)\n",
    "\n",
    "Target_All = All_School_List['Mean Scale Score']>np.percentile(All_School_List['Mean Scale Score'],50)\n",
    "print(len(Migrant_School_List))"
   ]
  },
  {
   "cell_type": "code",
   "execution_count": 116,
   "metadata": {
    "collapsed": true
   },
   "outputs": [],
   "source": [
    "Features_Migrant = Migrant_School_List.drop(['Mean Scale Score','County Name','District Name'],axis=1)\n",
    "Target_Migrant = Migrant_School_List['Mean Scale Score']>np.percentile(All_School_List['Mean Scale Score'],50)"
   ]
  },
  {
   "cell_type": "markdown",
   "metadata": {},
   "source": [
    "**Target is now whether the population of that schools falls above and below the 50th percentile**"
   ]
  },
  {
   "cell_type": "code",
   "execution_count": 117,
   "metadata": {
    "collapsed": true
   },
   "outputs": [],
   "source": [
    "#create training and test sets for all students\n",
    "Train_Features_All,Test_Features_All,Train_Target_All,Test_Target_All = train_test_split(Features_All,Target_All, test_size = .50, random_state=42)"
   ]
  },
  {
   "cell_type": "code",
   "execution_count": 118,
   "metadata": {
    "collapsed": false
   },
   "outputs": [],
   "source": [
    "#create training and test sets for migrant students\n",
    "Train_Features_Migrant,Test_Features_Migrant,Train_Target_Migrant,Test_Target_Migrant = train_test_split(Features_Migrant,Target_Migrant, test_size = .50, random_state=42)"
   ]
  },
  {
   "cell_type": "markdown",
   "metadata": {},
   "source": [
    "**Now that our data has an apropriate target, it is time use a logistic regression.**"
   ]
  },
  {
   "cell_type": "code",
   "execution_count": 119,
   "metadata": {
    "collapsed": false
   },
   "outputs": [],
   "source": [
    "LogReg = LogisticRegression()\n",
    "LogReg.fit(Train_Features_Migrant,Train_Target_Migrant)\n",
    "LogReg_Prediction_Migrant = LogReg.predict(Test_Features_Migrant)\n",
    "Confusion_Matrix = confusion_matrix(Test_Target_Migrant,LogReg_Prediction_Migrant)"
   ]
  },
  {
   "cell_type": "code",
   "execution_count": 120,
   "metadata": {
    "collapsed": false
   },
   "outputs": [
    {
     "name": "stdout",
     "output_type": "stream",
     "text": [
      "[[100  19]\n",
      " [ 28  34]]\n"
     ]
    },
    {
     "data": {
      "image/png": "[encoded data removed]",
      "text/plain": [
       "<matplotlib.figure.Figure at 0x112a0358>"
      ]
     },
     "metadata": {},
     "output_type": "display_data"
    }
   ],
   "source": [
    "plt.matshow(Confusion_Matrix)\n",
    "plt.title('Confusion matrix')\n",
    "plt.colorbar()\n",
    "plt.ylabel('True label')\n",
    "plt.xlabel('Predicted label')\n",
    "print(Confusion_Matrix)\n",
    "plt.show()\n"
   ]
  },
  {
   "cell_type": "markdown",
   "metadata": {},
   "source": [
    "** Here the model was able to classify 34 of 47 total schools. In perspective, If the model said that a school did have the makeup to be in the top 50 percentile, that school would be miss classified every one in three times. The rate for false negatives is slightly improved at 1 in 4. **"
   ]
  },
  {
   "cell_type": "markdown",
   "metadata": {},
   "source": [
    "** Here is one model for predicting student outcomes, use this model with others to crossvalidate **"
   ]
  },
  {
   "cell_type": "markdown",
   "metadata": {},
   "source": [
    "****\n",
    "## KNN\n",
    "** Is there a way to group our schools to give insight into major trends **"
   ]
  },
  {
   "cell_type": "code",
   "execution_count": 121,
   "metadata": {
    "collapsed": false
   },
   "outputs": [],
   "source": [
    "\n",
    "# instantiate learning model (k = 32)\n",
    "knn = KNeighborsClassifier(n_neighbors=3)\n",
    "\n",
    "# fitting the model\n",
    "knn.fit(Train_Features_Migrant, Train_Target_Migrant)\n",
    "\n",
    "# predict the response\n",
    "KNN_Prediction_Migrant = knn.predict(Test_Features_Migrant)\n",
    "Confusion_Matrix = confusion_matrix(Test_Target_Migrant,KNN_Prediction_Migrant)\n",
    "\n"
   ]
  },
  {
   "cell_type": "code",
   "execution_count": 122,
   "metadata": {
    "collapsed": false
   },
   "outputs": [
    {
     "data": {
      "image/png": "[encoded data removed]",
      "text/plain": [
       "<matplotlib.figure.Figure at 0x1175aa90>"
      ]
     },
     "metadata": {},
     "output_type": "display_data"
    },
    {
     "name": "stdout",
     "output_type": "stream",
     "text": [
      "[[89 30]\n",
      " [24 38]]\n"
     ]
    }
   ],
   "source": [
    "plt.matshow(Confusion_Matrix)\n",
    "plt.title('Confusion matrix')\n",
    "plt.colorbar()\n",
    "plt.ylabel('True label')\n",
    "plt.xlabel('Predicted label')\n",
    "plt.show()\n",
    "print(Confusion_Matrix)"
   ]
  },
  {
   "cell_type": "markdown",
   "metadata": {},
   "source": [
    "** It seems that KNN is resulting in far fewer false positives.**"
   ]
  },
  {
   "cell_type": "markdown",
   "metadata": {},
   "source": [
    "# L1 Regularization"
   ]
  },
  {
   "cell_type": "code",
   "execution_count": 123,
   "metadata": {
    "collapsed": false
   },
   "outputs": [
    {
     "name": "stdout",
     "output_type": "stream",
     "text": [
      "[ 0.16813941  0.06025524  0.58554249  0.14808665  0.18068132  0.48512778\n",
      "  0.36305897  1.52384665  1.09604204  0.13875922  0.94411856  0.29645025\n",
      "  0.35011212  0.56449946  0.8772476   0.18030608  0.64539332  0.24722537\n",
      "  0.25058692  0.61176974  0.65185646  0.28853748  0.62814328  0.56127441\n",
      "  0.2600698   0.30012882  0.6670478   0.26114343  0.20491354  0.53271132\n",
      "  0.09757534  0.24841207  0.15316759  0.21009819  1.12674572  0.24072609\n",
      "  0.74550505  0.17207789  0.7954744   1.26846914  0.28917172  0.34236247\n",
      "  0.07326702  0.33014473  0.30272762  0.28100034  0.54008312  0.28610983\n",
      "  0.55258838  0.15105     0.08153806  0.16771365  0.26188896  0.32089575\n",
      "  0.93640365  0.16060802  0.61829436  0.61737925  0.29130741  0.32347532\n",
      "  0.15807319  0.2087886   0.08975189  0.20714082  0.21572591  0.88529427\n",
      "  0.25205083  0.1868141   1.05554978  0.24777431  0.16168643  0.19147839\n",
      "  0.20639564  0.7843456   0.39379573  0.06732219  0.15258803  0.2289421\n",
      "  0.16794011  0.23691218  0.15654355  0.94072285  0.24514778  0.22051379\n",
      "  0.3535262   0.16314703  0.22290551  0.83427955  0.4662063   1.08194037\n",
      "  0.81972529  0.31355214  0.93181736  0.25963263  0.52390239  0.18326084\n",
      "  0.17790213  0.09617752  0.79085357  0.09459763  0.23504129  0.40757317\n",
      "  0.35701934  0.26943546  0.19666021  0.14837104  0.30157996  0.19392\n",
      "  0.31072596  0.76558585  0.28501296  0.16768933  0.18914098  0.07564958\n",
      "  0.11831496  0.10103164  0.273329    0.10909704  0.22750592  0.73070627\n",
      "  0.27762951  0.58901926  0.13493074  0.03674401  0.21730592  0.17427408\n",
      "  0.6591893   0.2761193   0.33112116  0.55958588  0.15996825  0.30055081\n",
      "  0.25549252  0.18400465  0.24706442  0.72474286  0.16740828  0.26040124\n",
      "  0.21248289  0.47409706  0.85465433  0.5647081   0.17918512  0.49902553\n",
      "  0.23281719  0.47455591  1.39494125  0.58898854  0.70395032  0.04074114\n",
      "  0.22865752  0.11771197  0.21830073  0.20927141  0.34303048  0.16515048\n",
      "  0.12429944  0.02437235  0.08699068  0.70502457  0.16017712  0.11200801\n",
      "  0.17765009  0.22214648  0.24473704  0.19385754  1.08927097  0.5391492\n",
      "  0.23346022  0.68679592  0.50267622  0.36017977  0.31209866  0.22550608\n",
      "  0.68214164  0.46102801  0.3591181   0.83181365  0.15549682  0.21267551\n",
      "  0.22591868]\n"
     ]
    }
   ],
   "source": [
    "Lasso_Reg_Migrant = linear_model.Lasso(alpha = 0.1)\n",
    "Lasso_Reg_Migrant.fit(Train_Features_Migrant,Train_Target_Migrant)\n",
    "Lasso_Prediction_Migrant = Lasso_Reg_Migrant.predict(Test_Features_Migrant)\n",
    "\n",
    "print(Lasso_Prediction_Migrant)\n"
   ]
  },
  {
   "cell_type": "markdown",
   "metadata": {},
   "source": [
    "**The prediction needs to be modified so that we can use a confusion matrix to assess the model. currently it is a continuos value but it needs to be a discreet 1 or 0**"
   ]
  },
  {
   "cell_type": "code",
   "execution_count": 124,
   "metadata": {
    "collapsed": false
   },
   "outputs": [
    {
     "name": "stdout",
     "output_type": "stream",
     "text": [
      "[[102  17]\n",
      " [ 29  33]]\n"
     ]
    },
    {
     "data": {
      "image/png": "[encoded data removed]",
      "text/plain": [
       "<matplotlib.figure.Figure at 0x11d2c9e8>"
      ]
     },
     "metadata": {},
     "output_type": "display_data"
    }
   ],
   "source": [
    "Lasso_Prediction_Migrant = Lasso_Prediction_Migrant>.5\n",
    "Confusion_Matrix = confusion_matrix(Test_Target_Migrant,Lasso_Prediction_Migrant)\n",
    "print(Confusion_Matrix)\n",
    "plt.matshow(Confusion_Matrix)\n",
    "plt.title('Confusion matrix')\n",
    "plt.colorbar()\n",
    "plt.ylabel('True label')\n",
    "plt.xlabel('Predicted label')\n",
    "plt.show()"
   ]
  },
  {
   "cell_type": "markdown",
   "metadata": {},
   "source": [
    "** At present this model is not more effective than our previous KNN solution **"
   ]
  },
  {
   "cell_type": "code",
   "execution_count": 125,
   "metadata": {
    "collapsed": false
   },
   "outputs": [],
   "source": [
    "Ridge_Reg_Migrant = linear_model.Ridge(alpha=.5)\n",
    "Ridge_Reg_Migrant.fit(Train_Features_Migrant,Train_Target_Migrant)\n",
    "Ridge_Reg_Prediction = Ridge_Reg_Migrant.predict(Test_Features_Migrant)"
   ]
  },
  {
   "cell_type": "markdown",
   "metadata": {},
   "source": [
    "** this data will also need to be modified before it can used with confusion matrix**"
   ]
  },
  {
   "cell_type": "code",
   "execution_count": 126,
   "metadata": {
    "collapsed": false,
    "scrolled": true
   },
   "outputs": [
    {
     "name": "stdout",
     "output_type": "stream",
     "text": [
      "[[102  17]\n",
      " [ 29  33]]\n"
     ]
    },
    {
     "data": {
      "image/png": "[encoded data removed]",
      "text/plain": [
       "<matplotlib.figure.Figure at 0xdc997b8>"
      ]
     },
     "metadata": {},
     "output_type": "display_data"
    }
   ],
   "source": [
    "Ridge_Reg_Prediction = Ridge_Reg_Prediction>.5\n",
    "Confusion_Matrix = confusion_matrix(Test_Target_Migrant,Lasso_Prediction_Migrant)\n",
    "print(Confusion_Matrix)\n",
    "plt.matshow(Confusion_Matrix)\n",
    "plt.title('Confusion matrix')\n",
    "plt.colorbar()\n",
    "plt.ylabel('True label')\n",
    "plt.xlabel('Predicted label')\n",
    "plt.show()"
   ]
  },
  {
   "cell_type": "markdown",
   "metadata": {},
   "source": [
    "## Support Vector Machine"
   ]
  },
  {
   "cell_type": "code",
   "execution_count": 127,
   "metadata": {
    "collapsed": false
   },
   "outputs": [],
   "source": [
    "from sklearn.svm import SVC\n",
    "svm = SVC()\n",
    "svm.fit(Train_Features_Migrant, Train_Target_Migrant)\n",
    "SVC_Prediction_Migrant = svm.predict(Test_Features_Migrant)\n",
    "\n"
   ]
  },
  {
   "cell_type": "code",
   "execution_count": 128,
   "metadata": {
    "collapsed": false
   },
   "outputs": [
    {
     "name": "stdout",
     "output_type": "stream",
     "text": [
      "[[119   0]\n",
      " [ 62   0]]\n"
     ]
    },
    {
     "data": {
      "image/png": "[encoded data removed]",
      "text/plain": [
       "<matplotlib.figure.Figure at 0x1001af60>"
      ]
     },
     "metadata": {},
     "output_type": "display_data"
    }
   ],
   "source": [
    "\n",
    "Confusion_Matrix = confusion_matrix(Test_Target_Migrant,SVC_Prediction_Migrant)\n",
    "print(Confusion_Matrix)\n",
    "plt.matshow(Confusion_Matrix)\n",
    "plt.title('Confusion matrix')\n",
    "plt.colorbar()\n",
    "plt.ylabel('True label')\n",
    "plt.xlabel('Predicted label')\n",
    "plt.show()"
   ]
  },
  {
   "cell_type": "markdown",
   "metadata": {},
   "source": [
    "## KMeans"
   ]
  },
  {
   "cell_type": "markdown",
   "metadata": {},
   "source": [
    "# this clustering method requires a number of clusters, before we run our model, find the clustering with the smallest interia"
   ]
  },
  {
   "cell_type": "code",
   "execution_count": 129,
   "metadata": {
    "collapsed": false
   },
   "outputs": [
    {
     "data": {
      "image/png": "[encoded data removed]",
      "text/plain": [
       "<matplotlib.figure.Figure at 0x117e2b70>"
      ]
     },
     "metadata": {},
     "output_type": "display_data"
    }
   ],
   "source": [
    "from sklearn.cluster import KMeans\n",
    "inertias = np.empty(9)\n",
    "for K in range(2,11):\n",
    "    kmeans = KMeans(K).fit(Train_Features_Migrant)\n",
    "#    print(K)\n",
    "    inertias[K-2] = kmeans.inertia_\n",
    "#inertias.dropna()\n",
    "#inertias[~np.isnan(inertias).any(axis=1)]\n",
    "_ = plt.bar(range(2,11),inertias)\n",
    "_ = plt.title('KMeans Inertia')\n",
    "_ = plt.xlabel('K')\n"
   ]
  },
  {
   "cell_type": "markdown",
   "metadata": {},
   "source": [
    "## Model Selection"
   ]
  },
  {
   "cell_type": "markdown",
   "metadata": {},
   "source": [
    "KNN had the best confusion matrix for this aplication. implement the Elbow Method to arrive at the optimal number of neighbors"
   ]
  },
  {
   "cell_type": "code",
   "execution_count": 130,
   "metadata": {
    "collapsed": false
   },
   "outputs": [
    {
     "data": {
      "image/png": "[encoded data removed]",
      "text/plain": [
       "<matplotlib.figure.Figure at 0x117f36d8>"
      ]
     },
     "metadata": {},
     "output_type": "display_data"
    }
   ],
   "source": [
    "from sklearn.cluster import KMeans\n",
    "inertias = np.empty(9)\n",
    "for K in range(2,11):\n",
    "    kmeans = KMeans(K).fit(Train_Features_Migrant)\n",
    "#    print(K)\n",
    "    inertias[K-2] = kmeans.inertia_\n",
    "_ = plt.bar(range(2,11),inertias)\n",
    "_ = plt.title('Elbow Method')\n",
    "_ = plt.xlabel('K')\n",
    "_ = plt.ylabel('K Inertia')\n"
   ]
  },
  {
   "cell_type": "markdown",
   "metadata": {
    "collapsed": true
   },
   "source": [
    "** the elbow could be said to be at 2 or 3, in this case 3 neighbors had the best confusion matrix so that will be our K **"
   ]
  },
  {
   "cell_type": "markdown",
   "metadata": {},
   "source": [
    "## All School Prediction\n",
    "** Selecting KMeans as the most effective model. use the model, the data from the migrant schools, and the demographics from all the schools to create an estamate of the perfornce of schools with less than 10 migrant students **"
   ]
  },
  {
   "cell_type": "code",
   "execution_count": 131,
   "metadata": {
    "collapsed": true
   },
   "outputs": [],
   "source": [
    "Features_Migrant = Migrant_School_List.drop(['Mean Scale Score','County Name','District Name'],axis=1)\n",
    "Target_Migrant = Migrant_School_List['Mean Scale Score']>np.percentile(All_School_List['Mean Scale Score'],50)"
   ]
  },
  {
   "cell_type": "code",
   "execution_count": 132,
   "metadata": {
    "collapsed": false
   },
   "outputs": [
    {
     "data": {
      "text/html": [
       "<div>\n",
       "<table border=\"1\" class=\"dataframe\">\n",
       "  <thead>\n",
       "    <tr style=\"text-align: right;\">\n",
       "      <th></th>\n",
       "      <th>Unnamed: 0</th>\n",
       "      <th>School Code</th>\n",
       "      <th>District Code</th>\n",
       "      <th>Zip Code</th>\n",
       "      <th>Total_Students</th>\n",
       "      <th>Per_Student_Spending</th>\n",
       "      <th>Median</th>\n",
       "      <th>Mean</th>\n",
       "      <th>Pop</th>\n",
       "      <th>YearsTeaching</th>\n",
       "      <th>Enrolled</th>\n",
       "      <th>Utilized</th>\n",
       "      <th>Percent_Eligible</th>\n",
       "      <th>Percent_Utilized</th>\n",
       "      <th>Sanctuary</th>\n",
       "      <th>Age</th>\n",
       "      <th>General Mean Scale Score</th>\n",
       "      <th>Predicted_Migrant_Scores</th>\n",
       "    </tr>\n",
       "  </thead>\n",
       "  <tbody>\n",
       "    <tr>\n",
       "      <th>0</th>\n",
       "      <td>0</td>\n",
       "      <td>109694</td>\n",
       "      <td>65243</td>\n",
       "      <td>93638</td>\n",
       "      <td>19011.95</td>\n",
       "      <td>10950.81</td>\n",
       "      <td>40096.0</td>\n",
       "      <td>52034.0</td>\n",
       "      <td>49068.0</td>\n",
       "      <td>13.164474</td>\n",
       "      <td>897</td>\n",
       "      <td>814</td>\n",
       "      <td>0.91</td>\n",
       "      <td>0.907469</td>\n",
       "      <td>0.0</td>\n",
       "      <td>43.717105</td>\n",
       "      <td>2491.2750</td>\n",
       "      <td>2480.809323</td>\n",
       "    </tr>\n",
       "    <tr>\n",
       "      <th>1</th>\n",
       "      <td>1</td>\n",
       "      <td>109702</td>\n",
       "      <td>65243</td>\n",
       "      <td>93638</td>\n",
       "      <td>19011.95</td>\n",
       "      <td>10950.81</td>\n",
       "      <td>40096.0</td>\n",
       "      <td>52034.0</td>\n",
       "      <td>49068.0</td>\n",
       "      <td>13.164474</td>\n",
       "      <td>767</td>\n",
       "      <td>726</td>\n",
       "      <td>0.95</td>\n",
       "      <td>0.946545</td>\n",
       "      <td>0.0</td>\n",
       "      <td>43.717105</td>\n",
       "      <td>2425.3000</td>\n",
       "      <td>2421.052730</td>\n",
       "    </tr>\n",
       "    <tr>\n",
       "      <th>2</th>\n",
       "      <td>2</td>\n",
       "      <td>110957</td>\n",
       "      <td>65243</td>\n",
       "      <td>93638</td>\n",
       "      <td>19011.95</td>\n",
       "      <td>10950.81</td>\n",
       "      <td>40096.0</td>\n",
       "      <td>52034.0</td>\n",
       "      <td>49068.0</td>\n",
       "      <td>13.164474</td>\n",
       "      <td>745</td>\n",
       "      <td>678</td>\n",
       "      <td>0.91</td>\n",
       "      <td>0.910067</td>\n",
       "      <td>0.0</td>\n",
       "      <td>43.717105</td>\n",
       "      <td>2422.9125</td>\n",
       "      <td>2415.969562</td>\n",
       "    </tr>\n",
       "    <tr>\n",
       "      <th>3</th>\n",
       "      <td>3</td>\n",
       "      <td>113050</td>\n",
       "      <td>65243</td>\n",
       "      <td>93638</td>\n",
       "      <td>19011.95</td>\n",
       "      <td>10950.81</td>\n",
       "      <td>40096.0</td>\n",
       "      <td>52034.0</td>\n",
       "      <td>49068.0</td>\n",
       "      <td>13.164474</td>\n",
       "      <td>730</td>\n",
       "      <td>663</td>\n",
       "      <td>0.91</td>\n",
       "      <td>0.908219</td>\n",
       "      <td>0.0</td>\n",
       "      <td>43.717105</td>\n",
       "      <td>2444.8375</td>\n",
       "      <td>2437.883528</td>\n",
       "    </tr>\n",
       "    <tr>\n",
       "      <th>4</th>\n",
       "      <td>4</td>\n",
       "      <td>123620</td>\n",
       "      <td>65243</td>\n",
       "      <td>93638</td>\n",
       "      <td>19011.95</td>\n",
       "      <td>10950.81</td>\n",
       "      <td>40096.0</td>\n",
       "      <td>52034.0</td>\n",
       "      <td>49068.0</td>\n",
       "      <td>13.164474</td>\n",
       "      <td>164</td>\n",
       "      <td>158</td>\n",
       "      <td>0.96</td>\n",
       "      <td>0.963415</td>\n",
       "      <td>0.0</td>\n",
       "      <td>43.717105</td>\n",
       "      <td>2471.4500</td>\n",
       "      <td>2469.648178</td>\n",
       "    </tr>\n",
       "  </tbody>\n",
       "</table>\n",
       "</div>"
      ],
      "text/plain": [
       "   Unnamed: 0  School Code  District Code  Zip Code  Total_Students  \\\n",
       "0           0       109694          65243     93638        19011.95   \n",
       "1           1       109702          65243     93638        19011.95   \n",
       "2           2       110957          65243     93638        19011.95   \n",
       "3           3       113050          65243     93638        19011.95   \n",
       "4           4       123620          65243     93638        19011.95   \n",
       "\n",
       "   Per_Student_Spending   Median     Mean      Pop  YearsTeaching  Enrolled  \\\n",
       "0              10950.81  40096.0  52034.0  49068.0      13.164474       897   \n",
       "1              10950.81  40096.0  52034.0  49068.0      13.164474       767   \n",
       "2              10950.81  40096.0  52034.0  49068.0      13.164474       745   \n",
       "3              10950.81  40096.0  52034.0  49068.0      13.164474       730   \n",
       "4              10950.81  40096.0  52034.0  49068.0      13.164474       164   \n",
       "\n",
       "   Utilized  Percent_Eligible  Percent_Utilized  Sanctuary        Age  \\\n",
       "0       814              0.91          0.907469        0.0  43.717105   \n",
       "1       726              0.95          0.946545        0.0  43.717105   \n",
       "2       678              0.91          0.910067        0.0  43.717105   \n",
       "3       663              0.91          0.908219        0.0  43.717105   \n",
       "4       158              0.96          0.963415        0.0  43.717105   \n",
       "\n",
       "   General Mean Scale Score  Predicted_Migrant_Scores  \n",
       "0                 2491.2750               2480.809323  \n",
       "1                 2425.3000               2421.052730  \n",
       "2                 2422.9125               2415.969562  \n",
       "3                 2444.8375               2437.883528  \n",
       "4                 2471.4500               2469.648178  "
      ]
     },
     "execution_count": 132,
     "metadata": {},
     "output_type": "execute_result"
    }
   ],
   "source": [
    "General_School_List = All_School_List[['School Code','Mean Scale Score']].rename(index=str, columns={ \"Mean Scale Score\": \"General Mean Scale Score\"})\n",
    "                                      \n",
    "Migrant_With_General_Scores = Migrant_School_List.merge(General_School_List)\n",
    "General_Scores_Features = Migrant_With_General_Scores.drop(['Mean Scale Score','County Name','District Name'],axis=1)\n",
    "#contains evry school with thier average score to predict the migrant score of all schools\n",
    "General_Predict_Features = All_School_List.merge(General_School_List)\n",
    "General_Predict_Features = General_Predict_Features.drop(['Mean Scale Score','County Name','District Name'],axis=1)\n",
    "General_Scores_Target = Migrant_With_General_Scores['Mean Scale Score']\n",
    "\n",
    "\n",
    "#Create the Regression\n",
    "With_Scores_Regression = LinearRegression()\n",
    "\n",
    "#Train the Regression\n",
    "With_Scores_Regression.fit(General_Scores_Features,General_Scores_Target)\n",
    "\n",
    "General_Scores_Features.head()\n",
    "#Predict Values\n",
    "Score_Informed_Migrant_Prediction = With_Scores_Regression.predict(General_Predict_Features)\n",
    "Prediction_df = General_Predict_Features\n",
    "Prediction_df['Predicted_Migrant_Scores'] = Score_Informed_Migrant_Prediction\n",
    "Prediction_df.head()\n"
   ]
  },
  {
   "cell_type": "markdown",
   "metadata": {
    "collapsed": false
   },
   "source": [
    "_ = plt.scatter(Prediction_df['General Mean Scale Score'],Prediction_df['Predicted_Migrant_Scores'],c=Prediction_df['Median'])\n",
    "_=plt.xlabel('Genral Population')\n",
    "_=plt.ylabel('Predicted Migrant Population')\n",
    "#adding a slope 1 line representing schools where Migrants are predicted to do as well as the general population\n",
    "x1, y1 = [2000, 3000], [2000, 3000]\n",
    "plt.title('General Population Scores Vs. Predicted Migrant Scores')\n",
    "plt.plot(x1, y1, marker = 'o')"
   ]
  },
  {
   "cell_type": "markdown",
   "metadata": {},
   "source": [
    "Those Observations above the blue line are of particular interest. Immediatly you notice that those observations are also overwhelming dark blue meaning these map to low income schools"
   ]
  },
  {
   "cell_type": "code",
   "execution_count": 136,
   "metadata": {
    "collapsed": false
   },
   "outputs": [
    {
     "data": {
      "text/plain": [
       "361"
      ]
     },
     "execution_count": 136,
     "metadata": {},
     "output_type": "execute_result"
    }
   ],
   "source": [
    "KNN = \n",
    "len(Migrant_School_List)"
   ]
  }
 ],
 "metadata": {
  "kernelspec": {
   "display_name": "Python 2",
   "language": "python",
   "name": "python2"
  },
  "language_info": {
   "codemirror_mode": {
    "name": "ipython",
    "version": 2
   },
   "file_extension": ".py",
   "mimetype": "text/x-python",
   "name": "python",
   "nbconvert_exporter": "python",
   "pygments_lexer": "ipython2",
   "version": "2.7.13"
  }
 },
 "nbformat": 4,
 "nbformat_minor": 0
}
