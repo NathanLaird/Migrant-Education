{
 "cells": [
  {
   "cell_type": "code",
   "execution_count": 21,
   "metadata": {
    "collapsed": true
   },
   "outputs": [],
   "source": [
    "%matplotlib inline\n",
    "\n",
    "import pandas as pd\n",
    "import numpy as np\n",
    "import matplotlib.pyplot as plt\n",
    "import sklearn\n",
    "from sklearn import linear_model\n",
    "from sklearn.linear_model import LinearRegression\n",
    "from sklearn.neighbors import KNeighborsClassifier\n",
    "from sklearn.metrics import mean_squared_error\n",
    "from sklearn.metrics import confusion_matrix\n",
    "from sklearn.model_selection import train_test_split\n",
    "from sklearn.linear_model import LogisticRegression\n",
    "\n",
    "import seaborn as sns\n",
    "\n"
   ]
  },
  {
   "cell_type": "code",
   "execution_count": 22,
   "metadata": {
    "collapsed": false
   },
   "outputs": [
    {
     "data": {
      "text/html": [
       "<div>\n",
       "<table border=\"1\" class=\"dataframe\">\n",
       "  <thead>\n",
       "    <tr style=\"text-align: right;\">\n",
       "      <th></th>\n",
       "      <th>Unnamed: 0</th>\n",
       "      <th>Mean Scale Score</th>\n",
       "      <th>County Name</th>\n",
       "      <th>School Code</th>\n",
       "      <th>District Code</th>\n",
       "      <th>Zip Code</th>\n",
       "      <th>District Name</th>\n",
       "      <th>Total_Students</th>\n",
       "      <th>Per_Student_Spending</th>\n",
       "      <th>Median</th>\n",
       "      <th>Mean</th>\n",
       "      <th>Pop</th>\n",
       "      <th>YearsTeaching</th>\n",
       "      <th>Enrolled</th>\n",
       "      <th>Utilized</th>\n",
       "      <th>Percent_Eligible</th>\n",
       "      <th>Percent_Utilized</th>\n",
       "      <th>Sanctuary</th>\n",
       "    </tr>\n",
       "  </thead>\n",
       "  <tbody>\n",
       "    <tr>\n",
       "      <th>0</th>\n",
       "      <td>0</td>\n",
       "      <td>2674.8</td>\n",
       "      <td>El Dorado</td>\n",
       "      <td>930081</td>\n",
       "      <td>61853</td>\n",
       "      <td>95762</td>\n",
       "      <td>El Dorado Union High</td>\n",
       "      <td>6285.33</td>\n",
       "      <td>11118.34</td>\n",
       "      <td>114420.0</td>\n",
       "      <td>135015.0</td>\n",
       "      <td>38797.0</td>\n",
       "      <td>16.346939</td>\n",
       "      <td>2457</td>\n",
       "      <td>190</td>\n",
       "      <td>0.08</td>\n",
       "      <td>0.07733</td>\n",
       "      <td>0.0</td>\n",
       "    </tr>\n",
       "  </tbody>\n",
       "</table>\n",
       "</div>"
      ],
      "text/plain": [
       "   Unnamed: 0  Mean Scale Score County Name  School Code  District Code  \\\n",
       "0           0            2674.8   El Dorado       930081          61853   \n",
       "\n",
       "   Zip Code         District Name  Total_Students  Per_Student_Spending  \\\n",
       "0     95762  El Dorado Union High         6285.33              11118.34   \n",
       "\n",
       "     Median      Mean      Pop  YearsTeaching  Enrolled  Utilized  \\\n",
       "0  114420.0  135015.0  38797.0      16.346939      2457       190   \n",
       "\n",
       "   Percent_Eligible  Percent_Utilized  Sanctuary  \n",
       "0              0.08           0.07733        0.0  "
      ]
     },
     "execution_count": 22,
     "metadata": {},
     "output_type": "execute_result"
    }
   ],
   "source": [
    "All_School_List = pd.read_csv('Data/All_School_List.csv')\n",
    "Migrant_School_List = pd.read_csv('Data/Migrant_School_List.csv')\n",
    "All_School_List.head(1)"
   ]
  },
  {
   "cell_type": "code",
   "execution_count": 23,
   "metadata": {
    "collapsed": true
   },
   "outputs": [],
   "source": [
    "Features_All = All_School_List.drop(['Mean Scale Score','County Name','District Name'],axis=1)\n",
    "\n",
    "Target_All = All_School_List['Mean Scale Score']>np.percentile(All_School_List['Mean Scale Score'],50)"
   ]
  },
  {
   "cell_type": "code",
   "execution_count": 24,
   "metadata": {
    "collapsed": true
   },
   "outputs": [],
   "source": [
    "Features_Migrant = Migrant_School_List.drop(['Mean Scale Score','County Name','District Name'],axis=1)\n",
    "Target_Migrant = Migrant_School_List['Mean Scale Score']>np.percentile(All_School_List['Mean Scale Score'],50)"
   ]
  },
  {
   "cell_type": "markdown",
   "metadata": {},
   "source": [
    "**Target is now whether the population of that schools falls above and below the 50th percentile**"
   ]
  },
  {
   "cell_type": "code",
   "execution_count": 25,
   "metadata": {
    "collapsed": true
   },
   "outputs": [],
   "source": [
    "#create training and test sets for all students\n",
    "Train_Features_All,Test_Features_All,Train_Target_All,Test_Target_All = train_test_split(Features_All,Target_All, test_size = .50, random_state=42)"
   ]
  },
  {
   "cell_type": "code",
   "execution_count": 26,
   "metadata": {
    "collapsed": false
   },
   "outputs": [],
   "source": [
    "#create training and test sets for migrant students\n",
    "Train_Features_Migrant,Test_Features_Migrant,Train_Target_Migrant,Test_Target_Migrant = train_test_split(Features_Migrant,Target_Migrant, test_size = .50, random_state=42)"
   ]
  },
  {
   "cell_type": "markdown",
   "metadata": {},
   "source": [
    "**Now that our data has an apropriate target, it is time use a logistic regression.**"
   ]
  },
  {
   "cell_type": "code",
   "execution_count": 27,
   "metadata": {
    "collapsed": false
   },
   "outputs": [
    {
     "name": "stdout",
     "output_type": "stream",
     "text": [
      "[[23  6]\n",
      " [ 7 11]]\n"
     ]
    }
   ],
   "source": [
    "LogReg = LogisticRegression()\n",
    "LogReg.fit(Train_Features_Migrant,Train_Target_Migrant)\n",
    "LogReg_Prediction_Migrant = LogReg.predict(Test_Features_Migrant)\n",
    "Confusion_Matrix = confusion_matrix(Test_Target_Migrant,LogReg_Prediction_Migrant)\n",
    "print(Confusion_Matrix)"
   ]
  },
  {
   "cell_type": "code",
   "execution_count": 28,
   "metadata": {
    "collapsed": false
   },
   "outputs": [
    {
     "data": {
      "image/png": "[encoded data removed]",
      "text/plain": [
       "<matplotlib.figure.Figure at 0xe3afcf8>"
      ]
     },
     "metadata": {},
     "output_type": "display_data"
    }
   ],
   "source": [
    "plt.matshow(Confusion_Matrix)\n",
    "plt.title('Confusion matrix')\n",
    "plt.colorbar()\n",
    "plt.ylabel('True label')\n",
    "plt.xlabel('Predicted label')\n",
    "plt.show()"
   ]
  },
  {
   "cell_type": "markdown",
   "metadata": {},
   "source": [
    "** Here the model was able to classify 34 of 47 total schools. In perspective, If the model said that a school did have the makeup to be in the top 50 percentile, that school would be miss classified every one in three times. The rate for false negatives is slightly improved at 1 in 4. **"
   ]
  },
  {
   "cell_type": "markdown",
   "metadata": {},
   "source": [
    "** Here is one model for predicting student outcomes, use this model with others to crossvalidate **"
   ]
  },
  {
   "cell_type": "markdown",
   "metadata": {},
   "source": [
    "****\n",
    "## KNN\n",
    "** Is there a way to group our schools to give insight into major trends **"
   ]
  },
  {
   "cell_type": "code",
   "execution_count": 52,
   "metadata": {
    "collapsed": false
   },
   "outputs": [
    {
     "name": "stdout",
     "output_type": "stream",
     "text": [
      "[[28  1]\n",
      " [ 6 12]]\n"
     ]
    }
   ],
   "source": [
    "\n",
    "# instantiate learning model (k = 32)\n",
    "knn = KNeighborsClassifier(n_neighbors=3)\n",
    "\n",
    "# fitting the model\n",
    "knn.fit(Train_Features_Migrant, Train_Target_Migrant)\n",
    "\n",
    "# predict the response\n",
    "KNN_Prediction_Migrant = knn.predict(Test_Features_Migrant)\n",
    "Confusion_Matrix = confusion_matrix(Test_Target_Migrant,KNN_Prediction_Migrant)\n",
    "print(Confusion_Matrix)\n"
   ]
  },
  {
   "cell_type": "code",
   "execution_count": 53,
   "metadata": {
    "collapsed": false
   },
   "outputs": [
    {
     "data": {
      "image/png": "[encoded data removed]",
      "text/plain": [
       "<matplotlib.figure.Figure at 0xfc98c88>"
      ]
     },
     "metadata": {},
     "output_type": "display_data"
    }
   ],
   "source": [
    "plt.matshow(Confusion_Matrix)\n",
    "plt.title('Confusion matrix')\n",
    "plt.colorbar()\n",
    "plt.ylabel('True label')\n",
    "plt.xlabel('Predicted label')\n",
    "plt.show()"
   ]
  },
  {
   "cell_type": "markdown",
   "metadata": {},
   "source": [
    "** It seems that KNN is resulting in far fewer false positives.**"
   ]
  },
  {
   "cell_type": "markdown",
   "metadata": {},
   "source": [
    "# L1 Regularization"
   ]
  },
  {
   "cell_type": "code",
   "execution_count": 31,
   "metadata": {
    "collapsed": false
   },
   "outputs": [
    {
     "name": "stdout",
     "output_type": "stream",
     "text": [
      "[-0.02758438  1.09803169  0.10951113  0.02316216  0.54004995 -0.05339187\n",
      "  0.3850153   1.15038695  0.05649034  0.28070897  0.0213298   0.15149411\n",
      " -0.28155246  0.39190893 -0.31125244  0.46560855  1.29960432 -0.13315806\n",
      "  1.37689822  0.98258466  0.61738414  1.02499811 -0.09087373  0.11797042\n",
      "  0.1837567   0.04354302  0.84859213  0.79200994  0.06344133  0.14070989\n",
      " -0.09906116  0.90862783  0.49512822  0.29860171 -0.1128488   0.47253409\n",
      "  0.27892599  0.07613996  0.52365104  0.37343252 -0.06737584  0.33971831\n",
      "  0.16801746  0.0455329   0.51866535 -0.28657324  0.73352703]\n"
     ]
    }
   ],
   "source": [
    "Lasso_Reg_Migrant = linear_model.Lasso(alpha = 0.1)\n",
    "Lasso_Reg_Migrant.fit(Train_Features_Migrant,Train_Target_Migrant)\n",
    "Lasso_Prediction_Migrant = Lasso_Reg_Migrant.predict(Test_Features_Migrant)\n",
    "\n",
    "print(Lasso_Prediction_Migrant)\n"
   ]
  },
  {
   "cell_type": "markdown",
   "metadata": {},
   "source": [
    "**The prediction needs to be modified so that we can use a confusion matrix to assess the model. currently it is a continuos value but it needs to be a discreet 1 or 0**"
   ]
  },
  {
   "cell_type": "code",
   "execution_count": 32,
   "metadata": {
    "collapsed": false
   },
   "outputs": [
    {
     "name": "stdout",
     "output_type": "stream",
     "text": [
      "[[25  4]\n",
      " [ 8 10]]\n"
     ]
    },
    {
     "data": {
      "image/png": "[encoded data removed]",
      "text/plain": [
       "<matplotlib.figure.Figure at 0xe737c18>"
      ]
     },
     "metadata": {},
     "output_type": "display_data"
    }
   ],
   "source": [
    "Lasso_Prediction_Migrant = Lasso_Prediction_Migrant>.5\n",
    "Confusion_Matrix = confusion_matrix(Test_Target_Migrant,Lasso_Prediction_Migrant)\n",
    "print(Confusion_Matrix)\n",
    "plt.matshow(Confusion_Matrix)\n",
    "plt.title('Confusion matrix')\n",
    "plt.colorbar()\n",
    "plt.ylabel('True label')\n",
    "plt.xlabel('Predicted label')\n",
    "plt.show()"
   ]
  },
  {
   "cell_type": "markdown",
   "metadata": {},
   "source": [
    "** At present this model is not more effective than our previous KNN solution **"
   ]
  },
  {
   "cell_type": "code",
   "execution_count": 33,
   "metadata": {
    "collapsed": false
   },
   "outputs": [],
   "source": [
    "Ridge_Reg_Migrant = linear_model.Ridge(alpha=.5)\n",
    "Ridge_Reg_Migrant.fit(Train_Features_Migrant,Train_Target_Migrant)\n",
    "Ridge_Reg_Prediction = Ridge_Reg_Migrant.predict(Test_Features_Migrant)"
   ]
  },
  {
   "cell_type": "markdown",
   "metadata": {},
   "source": [
    "** this data will also need to be modified before it can used with confusion matrix**"
   ]
  },
  {
   "cell_type": "code",
   "execution_count": 34,
   "metadata": {
    "collapsed": false,
    "scrolled": true
   },
   "outputs": [
    {
     "name": "stdout",
     "output_type": "stream",
     "text": [
      "[[25  4]\n",
      " [ 8 10]]\n"
     ]
    },
    {
     "data": {
      "image/png": "[encoded data removed]",
      "text/plain": [
       "<matplotlib.figure.Figure at 0xd3f6518>"
      ]
     },
     "metadata": {},
     "output_type": "display_data"
    }
   ],
   "source": [
    "Ridge_Reg_Prediction = Ridge_Reg_Prediction>.5\n",
    "Confusion_Matrix = confusion_matrix(Test_Target_Migrant,Lasso_Prediction_Migrant)\n",
    "print(Confusion_Matrix)\n",
    "plt.matshow(Confusion_Matrix)\n",
    "plt.title('Confusion matrix')\n",
    "plt.colorbar()\n",
    "plt.ylabel('True label')\n",
    "plt.xlabel('Predicted label')\n",
    "plt.show()"
   ]
  },
  {
   "cell_type": "markdown",
   "metadata": {},
   "source": [
    "## Support Vector Machine"
   ]
  },
  {
   "cell_type": "code",
   "execution_count": 35,
   "metadata": {
    "collapsed": false
   },
   "outputs": [],
   "source": [
    "from sklearn.svm import SVC\n",
    "svm = SVC()\n",
    "svm.fit(Train_Features_Migrant, Train_Target_Migrant)\n",
    "SVC_Prediction_Migrant = svm.predict(Test_Features_Migrant)\n",
    "\n"
   ]
  },
  {
   "cell_type": "code",
   "execution_count": 38,
   "metadata": {
    "collapsed": false
   },
   "outputs": [
    {
     "name": "stdout",
     "output_type": "stream",
     "text": [
      "[[29  0]\n",
      " [18  0]]\n"
     ]
    },
    {
     "data": {
      "image/png": "[encoded data removed]",
      "text/plain": [
       "<matplotlib.figure.Figure at 0xfdbc5f8>"
      ]
     },
     "metadata": {},
     "output_type": "display_data"
    }
   ],
   "source": [
    "\n",
    "Confusion_Matrix = confusion_matrix(Test_Target_Migrant,SVC_Prediction_Migrant)\n",
    "print(Confusion_Matrix)\n",
    "plt.matshow(Confusion_Matrix)\n",
    "plt.title('Confusion matrix')\n",
    "plt.colorbar()\n",
    "plt.ylabel('True label')\n",
    "plt.xlabel('Predicted label')\n",
    "plt.show()"
   ]
  },
  {
   "cell_type": "markdown",
   "metadata": {},
   "source": [
    "## KMeans"
   ]
  },
  {
   "cell_type": "markdown",
   "metadata": {},
   "source": [
    "# this clustering method requires a number of clusters, before we run our model, find the clustering with the smallest interia"
   ]
  },
  {
   "cell_type": "code",
   "execution_count": 55,
   "metadata": {
    "collapsed": false
   },
   "outputs": [
    {
     "data": {
      "image/png": "[encoded data removed]",
      "text/plain": [
       "<matplotlib.figure.Figure at 0xffc5048>"
      ]
     },
     "metadata": {},
     "output_type": "display_data"
    }
   ],
   "source": [
    "from sklearn.cluster import KMeans\n",
    "inertias = np.empty(9)\n",
    "for K in range(2,11):\n",
    "    kmeans = KMeans(K).fit(Train_Features_Migrant)\n",
    "#    print(K)\n",
    "    inertias[K-2] = kmeans.inertia_\n",
    "#inertias.dropna()\n",
    "#inertias[~np.isnan(inertias).any(axis=1)]\n",
    "_ = plt.bar(range(2,11),inertias)\n",
    "_ = plt.title('KMeans Inertia')\n",
    "_ = plt.xlabel('K')\n"
   ]
  },
  {
   "cell_type": "markdown",
   "metadata": {},
   "source": [
    "## Model Selection"
   ]
  },
  {
   "cell_type": "markdown",
   "metadata": {},
   "source": [
    "KNN had the best confusion matrix for this aplication. implement the Elbow Method to arrive at the optimal number of neighbors"
   ]
  },
  {
   "cell_type": "code",
   "execution_count": 58,
   "metadata": {
    "collapsed": false
   },
   "outputs": [
    {
     "data": {
      "image/png": "[encoded data removed]",
      "text/plain": [
       "<matplotlib.figure.Figure at 0x101aa780>"
      ]
     },
     "metadata": {},
     "output_type": "display_data"
    }
   ],
   "source": [
    "from sklearn.cluster import KMeans\n",
    "inertias = np.empty(9)\n",
    "for K in range(2,11):\n",
    "    kmeans = KMeans(K).fit(Train_Features_Migrant)\n",
    "#    print(K)\n",
    "    inertias[K-2] = kmeans.inertia_\n",
    "_ = plt.bar(range(2,11),inertias)\n",
    "_ = plt.title('Elbow Method')\n",
    "_ = plt.xlabel('K')\n",
    "_ = plt.ylabel('K Inertia')\n"
   ]
  },
  {
   "cell_type": "code",
   "execution_count": null,
   "metadata": {
    "collapsed": true
   },
   "outputs": [],
   "source": [
    "** the elbow could be said to be at 2 or 3, in this case 3 neighbors had the best confusion matrix so that will be our K **"
   ]
  },
  {
   "cell_type": "markdown",
   "metadata": {},
   "source": [
    "## All School Prediction\n",
    "** Selecting KMeans as the most effective model. use the model, the data from the migrant schools, and the demographics from all the schools to create an estamate of the perfornce of schools with less than 10 migrant students **"
   ]
  },
  {
   "cell_type": "code",
   "execution_count": null,
   "metadata": {
    "collapsed": true
   },
   "outputs": [],
   "source": [
    "Features_Migrant = Migrant_School_List.drop(['Mean Scale Score','County Name','District Name'],axis=1)\n",
    "Target_Migrant = Migrant_School_List['Mean Scale Score']>np.percentile(All_School_List['Mean Scale Score'],50)"
   ]
  },
  {
   "cell_type": "code",
   "execution_count": 92,
   "metadata": {
    "collapsed": false
   },
   "outputs": [
    {
     "data": {
      "text/html": [
       "<div>\n",
       "<table border=\"1\" class=\"dataframe\">\n",
       "  <thead>\n",
       "    <tr style=\"text-align: right;\">\n",
       "      <th></th>\n",
       "      <th>Unnamed: 0</th>\n",
       "      <th>School Code</th>\n",
       "      <th>District Code</th>\n",
       "      <th>Zip Code</th>\n",
       "      <th>Total_Students</th>\n",
       "      <th>Per_Student_Spending</th>\n",
       "      <th>Median</th>\n",
       "      <th>Mean</th>\n",
       "      <th>Pop</th>\n",
       "      <th>YearsTeaching</th>\n",
       "      <th>Enrolled</th>\n",
       "      <th>Utilized</th>\n",
       "      <th>Percent_Eligible</th>\n",
       "      <th>Percent_Utilized</th>\n",
       "      <th>Sanctuary</th>\n",
       "      <th>General Mean Scale Score</th>\n",
       "      <th>Predicted_Migrant_Scores</th>\n",
       "    </tr>\n",
       "  </thead>\n",
       "  <tbody>\n",
       "    <tr>\n",
       "      <th>0</th>\n",
       "      <td>0</td>\n",
       "      <td>930081</td>\n",
       "      <td>61853</td>\n",
       "      <td>95762</td>\n",
       "      <td>6285.33</td>\n",
       "      <td>11118.34</td>\n",
       "      <td>114420.0</td>\n",
       "      <td>135015.0</td>\n",
       "      <td>38797.0</td>\n",
       "      <td>16.346939</td>\n",
       "      <td>2457</td>\n",
       "      <td>190</td>\n",
       "      <td>0.08</td>\n",
       "      <td>0.077330</td>\n",
       "      <td>0.0</td>\n",
       "      <td>2674.80</td>\n",
       "      <td>2616.457502</td>\n",
       "    </tr>\n",
       "    <tr>\n",
       "      <th>1</th>\n",
       "      <td>1</td>\n",
       "      <td>936302</td>\n",
       "      <td>61853</td>\n",
       "      <td>95682</td>\n",
       "      <td>6285.33</td>\n",
       "      <td>11118.34</td>\n",
       "      <td>79253.0</td>\n",
       "      <td>93832.0</td>\n",
       "      <td>29114.0</td>\n",
       "      <td>16.346939</td>\n",
       "      <td>1827</td>\n",
       "      <td>379</td>\n",
       "      <td>0.21</td>\n",
       "      <td>0.207444</td>\n",
       "      <td>0.0</td>\n",
       "      <td>2652.25</td>\n",
       "      <td>2589.415284</td>\n",
       "    </tr>\n",
       "    <tr>\n",
       "      <th>2</th>\n",
       "      <td>2</td>\n",
       "      <td>932756</td>\n",
       "      <td>61853</td>\n",
       "      <td>95667</td>\n",
       "      <td>6285.33</td>\n",
       "      <td>11118.34</td>\n",
       "      <td>63660.0</td>\n",
       "      <td>77408.0</td>\n",
       "      <td>36726.0</td>\n",
       "      <td>16.346939</td>\n",
       "      <td>1127</td>\n",
       "      <td>462</td>\n",
       "      <td>0.41</td>\n",
       "      <td>0.409938</td>\n",
       "      <td>0.0</td>\n",
       "      <td>2629.80</td>\n",
       "      <td>2569.573058</td>\n",
       "    </tr>\n",
       "    <tr>\n",
       "      <th>3</th>\n",
       "      <td>3</td>\n",
       "      <td>930164</td>\n",
       "      <td>61853</td>\n",
       "      <td>95623</td>\n",
       "      <td>6285.33</td>\n",
       "      <td>11118.34</td>\n",
       "      <td>62954.0</td>\n",
       "      <td>76387.0</td>\n",
       "      <td>3806.0</td>\n",
       "      <td>16.346939</td>\n",
       "      <td>1033</td>\n",
       "      <td>357</td>\n",
       "      <td>0.35</td>\n",
       "      <td>0.345595</td>\n",
       "      <td>0.0</td>\n",
       "      <td>2636.50</td>\n",
       "      <td>2574.748977</td>\n",
       "    </tr>\n",
       "    <tr>\n",
       "      <th>4</th>\n",
       "      <td>4</td>\n",
       "      <td>930214</td>\n",
       "      <td>61853</td>\n",
       "      <td>95623</td>\n",
       "      <td>6285.33</td>\n",
       "      <td>11118.34</td>\n",
       "      <td>62954.0</td>\n",
       "      <td>76387.0</td>\n",
       "      <td>3806.0</td>\n",
       "      <td>16.346939</td>\n",
       "      <td>90</td>\n",
       "      <td>12</td>\n",
       "      <td>0.13</td>\n",
       "      <td>0.133333</td>\n",
       "      <td>0.0</td>\n",
       "      <td>2620.75</td>\n",
       "      <td>2563.664811</td>\n",
       "    </tr>\n",
       "  </tbody>\n",
       "</table>\n",
       "</div>"
      ],
      "text/plain": [
       "   Unnamed: 0  School Code  District Code  Zip Code  Total_Students  \\\n",
       "0           0       930081          61853     95762         6285.33   \n",
       "1           1       936302          61853     95682         6285.33   \n",
       "2           2       932756          61853     95667         6285.33   \n",
       "3           3       930164          61853     95623         6285.33   \n",
       "4           4       930214          61853     95623         6285.33   \n",
       "\n",
       "   Per_Student_Spending    Median      Mean      Pop  YearsTeaching  Enrolled  \\\n",
       "0              11118.34  114420.0  135015.0  38797.0      16.346939      2457   \n",
       "1              11118.34   79253.0   93832.0  29114.0      16.346939      1827   \n",
       "2              11118.34   63660.0   77408.0  36726.0      16.346939      1127   \n",
       "3              11118.34   62954.0   76387.0   3806.0      16.346939      1033   \n",
       "4              11118.34   62954.0   76387.0   3806.0      16.346939        90   \n",
       "\n",
       "   Utilized  Percent_Eligible  Percent_Utilized  Sanctuary  \\\n",
       "0       190              0.08          0.077330        0.0   \n",
       "1       379              0.21          0.207444        0.0   \n",
       "2       462              0.41          0.409938        0.0   \n",
       "3       357              0.35          0.345595        0.0   \n",
       "4        12              0.13          0.133333        0.0   \n",
       "\n",
       "   General Mean Scale Score  Predicted_Migrant_Scores  \n",
       "0                   2674.80               2616.457502  \n",
       "1                   2652.25               2589.415284  \n",
       "2                   2629.80               2569.573058  \n",
       "3                   2636.50               2574.748977  \n",
       "4                   2620.75               2563.664811  "
      ]
     },
     "execution_count": 92,
     "metadata": {},
     "output_type": "execute_result"
    }
   ],
   "source": [
    "General_School_List = All_School_List[['School Code','Mean Scale Score']].rename(index=str, columns={ \"Mean Scale Score\": \"General Mean Scale Score\"})\n",
    "                                      \n",
    "Migrant_With_General_Scores = Migrant_School_List.merge(General_School_List)\n",
    "General_Scores_Features = Migrant_With_General_Scores.drop(['Mean Scale Score','County Name','District Name'],axis=1)\n",
    "#contains evry school with thier average score to predict the migrant score of all schools\n",
    "General_Predict_Features = All_School_List.merge(General_School_List)\n",
    "General_Predict_Features = General_Predict_Features.drop(['Mean Scale Score','County Name','District Name'],axis=1)\n",
    "General_Scores_Target = Migrant_With_General_Scores['Mean Scale Score']\n",
    "\n",
    "\n",
    "#Create the Regression\n",
    "With_Scores_Regression = LinearRegression()\n",
    "\n",
    "#Train the Regression\n",
    "With_Scores_Regression.fit(General_Scores_Features,General_Scores_Target)\n",
    "\n",
    "General_Scores_Features.head()\n",
    "#Predict Values\n",
    "Score_Informed_Migrant_Prediction = With_Scores_Regression.predict(General_Predict_Features)\n",
    "Prediction_df = General_Predict_Features\n",
    "Prediction_df['Predicted_Migrant_Scores'] = Score_Informed_Migrant_Prediction\n",
    "Prediction_df.head()\n"
   ]
  },
  {
   "cell_type": "code",
   "execution_count": 105,
   "metadata": {
    "collapsed": false
   },
   "outputs": [
    {
     "data": {
      "text/plain": [
       "[<matplotlib.lines.Line2D at 0x1019f2e8>]"
      ]
     },
     "execution_count": 105,
     "metadata": {},
     "output_type": "execute_result"
    },
    {
     "data": {
      "image/png": "[encoded data removed]",
      "text/plain": [
       "<matplotlib.figure.Figure at 0x1019f358>"
      ]
     },
     "metadata": {},
     "output_type": "display_data"
    }
   ],
   "source": [
    "_ = plt.scatter(Prediction_df['General Mean Scale Score'],Prediction_df['Predicted_Migrant_Scores'],c=Prediction_df['Median'])\n",
    "_=plt.xlabel('Genral Population')\n",
    "_=plt.ylabel('Predicted Migrant Population')\n",
    "#adding a slope 1 line representing schools where Migrants are predicted to do as well as the general population\n",
    "x1, y1 = [2000, 3000], [2000, 3000]\n",
    "plt.title('General Population Scores Vs. Predicted Migrant Scores')\n",
    "plt.plot(x1, y1, marker = 'o')"
   ]
  },
  {
   "cell_type": "markdown",
   "metadata": {},
   "source": [
    "Those Observations above the blue line are of particular interest. Immediatly you notice that those observations are also overwhelming dark blue meaning these map to low income schools"
   ]
  },
  {
   "cell_type": "code",
   "execution_count": null,
   "metadata": {
    "collapsed": true
   },
   "outputs": [],
   "source": []
  }
 ],
 "metadata": {
  "kernelspec": {
   "display_name": "Python 2",
   "language": "python",
   "name": "python2"
  },
  "language_info": {
   "codemirror_mode": {
    "name": "ipython",
    "version": 2
   },
   "file_extension": ".py",
   "mimetype": "text/x-python",
   "name": "python",
   "nbconvert_exporter": "python",
   "pygments_lexer": "ipython2",
   "version": "2.7.13"
  }
 },
 "nbformat": 4,
 "nbformat_minor": 0
}
